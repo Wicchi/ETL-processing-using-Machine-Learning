{
 "cells": [
  {
   "cell_type": "markdown",
   "metadata": {},
   "source": [
    "# Load Packages"
   ]
  },
  {
   "cell_type": "code",
   "execution_count": 10,
   "metadata": {},
   "outputs": [],
   "source": [
    "import pandas as pd;\n",
    "import numpy as np;\n",
    "from sklearn.preprocessing import OneHotEncoder;\n",
    "from sklearn.preprocessing import LabelEncoder;\n",
    "from sklearn.preprocessing import MinMaxScaler;\n",
    "import matplotlib.pyplot as plt;"
   ]
  },
  {
   "attachments": {},
   "cell_type": "markdown",
   "metadata": {},
   "source": [
    "#,Explonational,Data,Analysis\n",
    "## Datasets\n",
    "I could to add a new column named True_type_of_transaction for the model training propose,(avoid NLP including)\n"
   ]
  },
  {
   "cell_type": "code",
   "execution_count": 11,
   "metadata": {},
   "outputs": [
    {
     "data": {
      "text/html": [
       "<div>\n",
       "<style scoped>\n",
       "    .dataframe tbody tr th:only-of-type {\n",
       "        vertical-align: middle;\n",
       "    }\n",
       "\n",
       "    .dataframe tbody tr th {\n",
       "        vertical-align: top;\n",
       "    }\n",
       "\n",
       "    .dataframe thead th {\n",
       "        text-align: right;\n",
       "    }\n",
       "</style>\n",
       "<table border=\"1\" class=\"dataframe\">\n",
       "  <thead>\n",
       "    <tr style=\"text-align: right;\">\n",
       "      <th></th>\n",
       "      <th>code</th>\n",
       "      <th>Type_of_Transaction</th>\n",
       "      <th>Currency</th>\n",
       "      <th>Transaction_date</th>\n",
       "      <th>Delivery_date</th>\n",
       "      <th>Price</th>\n",
       "      <th>Type_of_currency_1</th>\n",
       "      <th>True_type_of_transaction</th>\n",
       "    </tr>\n",
       "  </thead>\n",
       "  <tbody>\n",
       "    <tr>\n",
       "      <th>0</th>\n",
       "      <td>89169</td>\n",
       "      <td>forward</td>\n",
       "      <td>79242</td>\n",
       "      <td>7/10/2021 13:4</td>\n",
       "      <td>13/10/2021</td>\n",
       "      <td>68851</td>\n",
       "      <td>BTC</td>\n",
       "      <td>forward</td>\n",
       "    </tr>\n",
       "    <tr>\n",
       "      <th>1</th>\n",
       "      <td>45059</td>\n",
       "      <td>forw</td>\n",
       "      <td>18064</td>\n",
       "      <td>14/9/2022 21:30</td>\n",
       "      <td>20/9/2021</td>\n",
       "      <td>39733</td>\n",
       "      <td>BTC</td>\n",
       "      <td>forward</td>\n",
       "    </tr>\n",
       "    <tr>\n",
       "      <th>2</th>\n",
       "      <td>33264</td>\n",
       "      <td>FORWARD</td>\n",
       "      <td>12140</td>\n",
       "      <td>28/10/2021 9:20</td>\n",
       "      <td>28/12/2021</td>\n",
       "      <td>53992</td>\n",
       "      <td>EURO</td>\n",
       "      <td>forward</td>\n",
       "    </tr>\n",
       "    <tr>\n",
       "      <th>3</th>\n",
       "      <td>341610</td>\n",
       "      <td>FORWARD</td>\n",
       "      <td>45912</td>\n",
       "      <td>27/7/2022 11:53</td>\n",
       "      <td>8/2/2021</td>\n",
       "      <td>93761</td>\n",
       "      <td>EURO</td>\n",
       "      <td>forward</td>\n",
       "    </tr>\n",
       "    <tr>\n",
       "      <th>4</th>\n",
       "      <td>354429</td>\n",
       "      <td>forward</td>\n",
       "      <td>96834</td>\n",
       "      <td>25/10/2021 18:5</td>\n",
       "      <td>2/12/2021</td>\n",
       "      <td>43918</td>\n",
       "      <td>BTC</td>\n",
       "      <td>forward</td>\n",
       "    </tr>\n",
       "  </tbody>\n",
       "</table>\n",
       "</div>"
      ],
      "text/plain": [
       "     code Type_of_Transaction  Currency Transaction_date Delivery_date  Price  \\\n",
       "0   89169             forward     79242   7/10/2021 13:4    13/10/2021  68851   \n",
       "1   45059                forw     18064  14/9/2022 21:30     20/9/2021  39733   \n",
       "2   33264             FORWARD     12140  28/10/2021 9:20    28/12/2021  53992   \n",
       "3  341610             FORWARD     45912  27/7/2022 11:53      8/2/2021  93761   \n",
       "4  354429             forward     96834  25/10/2021 18:5     2/12/2021  43918   \n",
       "\n",
       "  Type_of_currency_1 True_type_of_transaction  \n",
       "0                BTC                  forward  \n",
       "1                BTC                  forward  \n",
       "2               EURO                  forward  \n",
       "3               EURO                  forward  \n",
       "4                BTC                  forward  "
      ]
     },
     "execution_count": 11,
     "metadata": {},
     "output_type": "execute_result"
    }
   ],
   "source": [
    "df_forward = pd.read_csv(\"forward_dataset1.csv\")\n",
    "df_forward[\"True_type_of_transaction\"] = \"forward\"\n",
    "df_forward.head()"
   ]
  },
  {
   "cell_type": "code",
   "execution_count": 12,
   "metadata": {},
   "outputs": [
    {
     "data": {
      "text/html": [
       "<div>\n",
       "<style scoped>\n",
       "    .dataframe tbody tr th:only-of-type {\n",
       "        vertical-align: middle;\n",
       "    }\n",
       "\n",
       "    .dataframe tbody tr th {\n",
       "        vertical-align: top;\n",
       "    }\n",
       "\n",
       "    .dataframe thead th {\n",
       "        text-align: right;\n",
       "    }\n",
       "</style>\n",
       "<table border=\"1\" class=\"dataframe\">\n",
       "  <thead>\n",
       "    <tr style=\"text-align: right;\">\n",
       "      <th></th>\n",
       "      <th>code</th>\n",
       "      <th>Type_of_Transaction</th>\n",
       "      <th>Currency</th>\n",
       "      <th>Transaction_date</th>\n",
       "      <th>Delivery_date</th>\n",
       "      <th>Type_of_currency_1</th>\n",
       "      <th>True_type_of_transaction</th>\n",
       "    </tr>\n",
       "  </thead>\n",
       "  <tbody>\n",
       "    <tr>\n",
       "      <th>0</th>\n",
       "      <td>89169</td>\n",
       "      <td>future</td>\n",
       "      <td>79054</td>\n",
       "      <td>6/7/2022 8:0</td>\n",
       "      <td>13/11/2021</td>\n",
       "      <td>EURO</td>\n",
       "      <td>future</td>\n",
       "    </tr>\n",
       "    <tr>\n",
       "      <th>1</th>\n",
       "      <td>732405</td>\n",
       "      <td>future</td>\n",
       "      <td>4174</td>\n",
       "      <td>7/2/2021 23:43</td>\n",
       "      <td>18/11/2021</td>\n",
       "      <td>BTC</td>\n",
       "      <td>future</td>\n",
       "    </tr>\n",
       "    <tr>\n",
       "      <th>2</th>\n",
       "      <td>23579</td>\n",
       "      <td>FUT</td>\n",
       "      <td>53230</td>\n",
       "      <td>21/3/2022 18:16</td>\n",
       "      <td>21/3/2022</td>\n",
       "      <td>EURO</td>\n",
       "      <td>future</td>\n",
       "    </tr>\n",
       "    <tr>\n",
       "      <th>3</th>\n",
       "      <td>547821</td>\n",
       "      <td>fut</td>\n",
       "      <td>74052</td>\n",
       "      <td>21/9/2022 8:50</td>\n",
       "      <td>5/8/2021</td>\n",
       "      <td>EURO</td>\n",
       "      <td>future</td>\n",
       "    </tr>\n",
       "    <tr>\n",
       "      <th>4</th>\n",
       "      <td>21513</td>\n",
       "      <td>FUT</td>\n",
       "      <td>89732</td>\n",
       "      <td>19/9/2021 15:7</td>\n",
       "      <td>5/11/2021</td>\n",
       "      <td>BTC</td>\n",
       "      <td>future</td>\n",
       "    </tr>\n",
       "  </tbody>\n",
       "</table>\n",
       "</div>"
      ],
      "text/plain": [
       "     code Type_of_Transaction  Currency Transaction_date Delivery_date  \\\n",
       "0   89169              future     79054     6/7/2022 8:0    13/11/2021   \n",
       "1  732405              future      4174   7/2/2021 23:43    18/11/2021   \n",
       "2   23579                 FUT     53230  21/3/2022 18:16     21/3/2022   \n",
       "3  547821                 fut     74052   21/9/2022 8:50      5/8/2021   \n",
       "4   21513                 FUT     89732   19/9/2021 15:7     5/11/2021   \n",
       "\n",
       "  Type_of_currency_1 True_type_of_transaction  \n",
       "0               EURO                   future  \n",
       "1                BTC                   future  \n",
       "2               EURO                   future  \n",
       "3               EURO                   future  \n",
       "4                BTC                   future  "
      ]
     },
     "execution_count": 12,
     "metadata": {},
     "output_type": "execute_result"
    }
   ],
   "source": [
    "df_future = pd.read_csv(\"future_dataset1.csv\")\n",
    "df_future[\"True_type_of_transaction\"] = \"future\"\n",
    "df_future.head()"
   ]
  },
  {
   "cell_type": "code",
   "execution_count": 13,
   "metadata": {},
   "outputs": [
    {
     "data": {
      "text/html": [
       "<div>\n",
       "<style scoped>\n",
       "    .dataframe tbody tr th:only-of-type {\n",
       "        vertical-align: middle;\n",
       "    }\n",
       "\n",
       "    .dataframe tbody tr th {\n",
       "        vertical-align: top;\n",
       "    }\n",
       "\n",
       "    .dataframe thead th {\n",
       "        text-align: right;\n",
       "    }\n",
       "</style>\n",
       "<table border=\"1\" class=\"dataframe\">\n",
       "  <thead>\n",
       "    <tr style=\"text-align: right;\">\n",
       "      <th></th>\n",
       "      <th>code</th>\n",
       "      <th>Type_of_currency_1</th>\n",
       "      <th>Type_of_currency_2</th>\n",
       "      <th>Currency</th>\n",
       "      <th>Transaction_date</th>\n",
       "      <th>Delivery_date</th>\n",
       "      <th>Rate</th>\n",
       "      <th>Type_of_Transaction</th>\n",
       "      <th>True_type_of_transaction</th>\n",
       "    </tr>\n",
       "  </thead>\n",
       "  <tbody>\n",
       "    <tr>\n",
       "      <th>0</th>\n",
       "      <td>120446</td>\n",
       "      <td>EURO</td>\n",
       "      <td>EURO</td>\n",
       "      <td>20150</td>\n",
       "      <td>2021-1-13 4:56</td>\n",
       "      <td>2022-11-19</td>\n",
       "      <td>2.69</td>\n",
       "      <td>swp</td>\n",
       "      <td>swap</td>\n",
       "    </tr>\n",
       "    <tr>\n",
       "      <th>1</th>\n",
       "      <td>89169</td>\n",
       "      <td>EURO</td>\n",
       "      <td>BTC</td>\n",
       "      <td>2069</td>\n",
       "      <td>2021-10-5 23:57</td>\n",
       "      <td>2022-8-18</td>\n",
       "      <td>1.93</td>\n",
       "      <td>SWP</td>\n",
       "      <td>swap</td>\n",
       "    </tr>\n",
       "    <tr>\n",
       "      <th>2</th>\n",
       "      <td>955202</td>\n",
       "      <td>EURO</td>\n",
       "      <td>EURO</td>\n",
       "      <td>28210</td>\n",
       "      <td>2021-2-25 12:44</td>\n",
       "      <td>2021-7-2</td>\n",
       "      <td>2.11</td>\n",
       "      <td>swap</td>\n",
       "      <td>swap</td>\n",
       "    </tr>\n",
       "    <tr>\n",
       "      <th>3</th>\n",
       "      <td>80352</td>\n",
       "      <td>EURO</td>\n",
       "      <td>EURO</td>\n",
       "      <td>25432</td>\n",
       "      <td>2022-7-3 12:11</td>\n",
       "      <td>2022-8-27</td>\n",
       "      <td>2.54</td>\n",
       "      <td>swp</td>\n",
       "      <td>swap</td>\n",
       "    </tr>\n",
       "    <tr>\n",
       "      <th>4</th>\n",
       "      <td>114998</td>\n",
       "      <td>EURO</td>\n",
       "      <td>EURO</td>\n",
       "      <td>99121</td>\n",
       "      <td>2021-4-28 11:29</td>\n",
       "      <td>2021-7-11</td>\n",
       "      <td>0.09</td>\n",
       "      <td>swp</td>\n",
       "      <td>swap</td>\n",
       "    </tr>\n",
       "  </tbody>\n",
       "</table>\n",
       "</div>"
      ],
      "text/plain": [
       "     code Type_of_currency_1 Type_of_currency_2  Currency Transaction_date  \\\n",
       "0  120446               EURO               EURO     20150   2021-1-13 4:56   \n",
       "1   89169               EURO                BTC      2069  2021-10-5 23:57   \n",
       "2  955202               EURO               EURO     28210  2021-2-25 12:44   \n",
       "3   80352               EURO               EURO     25432   2022-7-3 12:11   \n",
       "4  114998               EURO               EURO     99121  2021-4-28 11:29   \n",
       "\n",
       "  Delivery_date  Rate Type_of_Transaction True_type_of_transaction  \n",
       "0    2022-11-19  2.69                 swp                     swap  \n",
       "1     2022-8-18  1.93                 SWP                     swap  \n",
       "2      2021-7-2  2.11                swap                     swap  \n",
       "3     2022-8-27  2.54                 swp                     swap  \n",
       "4     2021-7-11  0.09                 swp                     swap  "
      ]
     },
     "execution_count": 13,
     "metadata": {},
     "output_type": "execute_result"
    }
   ],
   "source": [
    "df_swap = pd.read_csv(\"swap_dataset1.csv\")\n",
    "df_swap[\"True_type_of_transaction\"] = \"swap\"\n",
    "df_swap.head()"
   ]
  },
  {
   "cell_type": "markdown",
   "metadata": {},
   "source": [
    "Concatenate all three datasets in one"
   ]
  },
  {
   "cell_type": "code",
   "execution_count": 14,
   "metadata": {},
   "outputs": [
    {
     "data": {
      "text/html": [
       "<div>\n",
       "<style scoped>\n",
       "    .dataframe tbody tr th:only-of-type {\n",
       "        vertical-align: middle;\n",
       "    }\n",
       "\n",
       "    .dataframe tbody tr th {\n",
       "        vertical-align: top;\n",
       "    }\n",
       "\n",
       "    .dataframe thead th {\n",
       "        text-align: right;\n",
       "    }\n",
       "</style>\n",
       "<table border=\"1\" class=\"dataframe\">\n",
       "  <thead>\n",
       "    <tr style=\"text-align: right;\">\n",
       "      <th></th>\n",
       "      <th>code</th>\n",
       "      <th>Type_of_currency_1</th>\n",
       "      <th>Type_of_currency_2</th>\n",
       "      <th>Currency</th>\n",
       "      <th>Transaction_date</th>\n",
       "      <th>Delivery_date</th>\n",
       "      <th>Rate</th>\n",
       "      <th>Type_of_Transaction</th>\n",
       "      <th>True_type_of_transaction</th>\n",
       "      <th>Price</th>\n",
       "    </tr>\n",
       "  </thead>\n",
       "  <tbody>\n",
       "    <tr>\n",
       "      <th>0</th>\n",
       "      <td>120446</td>\n",
       "      <td>EURO</td>\n",
       "      <td>EURO</td>\n",
       "      <td>20150</td>\n",
       "      <td>2021-1-13 4:56</td>\n",
       "      <td>2022-11-19</td>\n",
       "      <td>2.69</td>\n",
       "      <td>swp</td>\n",
       "      <td>swap</td>\n",
       "      <td>NaN</td>\n",
       "    </tr>\n",
       "    <tr>\n",
       "      <th>1</th>\n",
       "      <td>89169</td>\n",
       "      <td>EURO</td>\n",
       "      <td>BTC</td>\n",
       "      <td>2069</td>\n",
       "      <td>2021-10-5 23:57</td>\n",
       "      <td>2022-8-18</td>\n",
       "      <td>1.93</td>\n",
       "      <td>SWP</td>\n",
       "      <td>swap</td>\n",
       "      <td>NaN</td>\n",
       "    </tr>\n",
       "    <tr>\n",
       "      <th>2</th>\n",
       "      <td>955202</td>\n",
       "      <td>EURO</td>\n",
       "      <td>EURO</td>\n",
       "      <td>28210</td>\n",
       "      <td>2021-2-25 12:44</td>\n",
       "      <td>2021-7-2</td>\n",
       "      <td>2.11</td>\n",
       "      <td>swap</td>\n",
       "      <td>swap</td>\n",
       "      <td>NaN</td>\n",
       "    </tr>\n",
       "    <tr>\n",
       "      <th>3</th>\n",
       "      <td>80352</td>\n",
       "      <td>EURO</td>\n",
       "      <td>EURO</td>\n",
       "      <td>25432</td>\n",
       "      <td>2022-7-3 12:11</td>\n",
       "      <td>2022-8-27</td>\n",
       "      <td>2.54</td>\n",
       "      <td>swp</td>\n",
       "      <td>swap</td>\n",
       "      <td>NaN</td>\n",
       "    </tr>\n",
       "    <tr>\n",
       "      <th>4</th>\n",
       "      <td>114998</td>\n",
       "      <td>EURO</td>\n",
       "      <td>EURO</td>\n",
       "      <td>99121</td>\n",
       "      <td>2021-4-28 11:29</td>\n",
       "      <td>2021-7-11</td>\n",
       "      <td>0.09</td>\n",
       "      <td>swp</td>\n",
       "      <td>swap</td>\n",
       "      <td>NaN</td>\n",
       "    </tr>\n",
       "  </tbody>\n",
       "</table>\n",
       "</div>"
      ],
      "text/plain": [
       "     code Type_of_currency_1 Type_of_currency_2  Currency Transaction_date  \\\n",
       "0  120446               EURO               EURO     20150   2021-1-13 4:56   \n",
       "1   89169               EURO                BTC      2069  2021-10-5 23:57   \n",
       "2  955202               EURO               EURO     28210  2021-2-25 12:44   \n",
       "3   80352               EURO               EURO     25432   2022-7-3 12:11   \n",
       "4  114998               EURO               EURO     99121  2021-4-28 11:29   \n",
       "\n",
       "  Delivery_date  Rate Type_of_Transaction True_type_of_transaction  Price  \n",
       "0    2022-11-19  2.69                 swp                     swap    NaN  \n",
       "1     2022-8-18  1.93                 SWP                     swap    NaN  \n",
       "2      2021-7-2  2.11                swap                     swap    NaN  \n",
       "3     2022-8-27  2.54                 swp                     swap    NaN  \n",
       "4     2021-7-11  0.09                 swp                     swap    NaN  "
      ]
     },
     "execution_count": 14,
     "metadata": {},
     "output_type": "execute_result"
    }
   ],
   "source": [
    "df_concat = pd.concat([df_swap, df_forward, df_future])\n",
    "df_concat.head()"
   ]
  },
  {
   "cell_type": "markdown",
   "metadata": {},
   "source": [
    "Let's have a look at the types of variable in this dataset"
   ]
  },
  {
   "cell_type": "code",
   "execution_count": 15,
   "metadata": {},
   "outputs": [
    {
     "data": {
      "text/plain": [
       "code                          int64\n",
       "Type_of_currency_1           object\n",
       "Type_of_currency_2           object\n",
       "Currency                      int64\n",
       "Transaction_date             object\n",
       "Delivery_date                object\n",
       "Rate                        float64\n",
       "Type_of_Transaction          object\n",
       "True_type_of_transaction     object\n",
       "Price                       float64\n",
       "dtype: object"
      ]
     },
     "execution_count": 15,
     "metadata": {},
     "output_type": "execute_result"
    }
   ],
   "source": [
    "df_concat.dtypes"
   ]
  },
  {
   "cell_type": "markdown",
   "metadata": {},
   "source": [
    "We have 10 variablies.\n",
    "4 numerical variablies and 6 categoricals."
   ]
  },
  {
   "cell_type": "markdown",
   "metadata": {},
   "source": [
    "Due to the fact the code should be unique, and the previous concatenatenation i have to check, do i have duplicate code."
   ]
  },
  {
   "cell_type": "code",
   "execution_count": 16,
   "metadata": {},
   "outputs": [
    {
     "name": "stdout",
     "output_type": "stream",
     "text": [
      "Numbers of code duplicate rows: 36113 \n",
      "Numbers of transaction in dataset: 299997 \n",
      "\n"
     ]
    }
   ],
   "source": [
    "df_code_duplicate = len(df_concat['code'])-len(df_concat['code'].drop_duplicates())\n",
    "print(\"Numbers of code duplicate rows: {}\".format(df_code_duplicate), \"\\n\"\n",
    "        \"Numbers of transaction in dataset: {}\".format(len(df_concat)), \"\\n\"\n",
    "        \"\")"
   ]
  },
  {
   "cell_type": "markdown",
   "metadata": {},
   "source": [
    "I have approximately 12% of duplicate codes in dataset. That not much, I will drop that rows."
   ]
  },
  {
   "cell_type": "code",
   "execution_count": 17,
   "metadata": {},
   "outputs": [],
   "source": [
    "df_concat = df_concat.drop_duplicates(subset=['code'])"
   ]
  },
  {
   "cell_type": "code",
   "execution_count": 18,
   "metadata": {},
   "outputs": [
    {
     "data": {
      "text/plain": [
       "(263884, 10)"
      ]
     },
     "execution_count": 18,
     "metadata": {},
     "output_type": "execute_result"
    }
   ],
   "source": [
    "df_concat.shape"
   ]
  },
  {
   "cell_type": "markdown",
   "metadata": {},
   "source": [
    "To have opportunity for the code to be not only number, let leave it like string variable."
   ]
  },
  {
   "cell_type": "markdown",
   "metadata": {},
   "source": [
    "Now let have a look at type_of_transaction 1 and 2 "
   ]
  },
  {
   "cell_type": "code",
   "execution_count": 19,
   "metadata": {},
   "outputs": [
    {
     "data": {
      "text/plain": [
       "EURO    132270\n",
       "BTC     131614\n",
       "Name: Type_of_currency_1, dtype: int64"
      ]
     },
     "execution_count": 19,
     "metadata": {},
     "output_type": "execute_result"
    }
   ],
   "source": [
    "df_concat['Type_of_currency_1'].value_counts()"
   ]
  },
  {
   "cell_type": "markdown",
   "metadata": {},
   "source": [
    "The column Type_of_currency_1 contain categorical nominal variables"
   ]
  },
  {
   "cell_type": "code",
   "execution_count": 20,
   "metadata": {},
   "outputs": [
    {
     "data": {
      "text/plain": [
       "BTC     49441\n",
       "EURO    49279\n",
       "Name: Type_of_currency_2, dtype: int64"
      ]
     },
     "execution_count": 20,
     "metadata": {},
     "output_type": "execute_result"
    }
   ],
   "source": [
    "df_concat['Type_of_currency_2'].value_counts()"
   ]
  },
  {
   "cell_type": "markdown",
   "metadata": {},
   "source": [
    "The column Type_of_currency_2 contain categorical nominal variables too. The type_of_currency 2 appears only in swap transaction."
   ]
  },
  {
   "cell_type": "code",
   "execution_count": 21,
   "metadata": {},
   "outputs": [
    {
     "data": {
      "text/plain": [
       "165164"
      ]
     },
     "execution_count": 21,
     "metadata": {},
     "output_type": "execute_result"
    }
   ],
   "source": [
    "df_concat['Type_of_currency_2'].isnull().sum()"
   ]
  },
  {
   "cell_type": "markdown",
   "metadata": {},
   "source": [
    "I have, 165164 NaN values that means it is not possible to drop NaN rows. In this case, I will replace NaN values with string \"None\"."
   ]
  },
  {
   "cell_type": "code",
   "execution_count": 22,
   "metadata": {},
   "outputs": [],
   "source": [
    "df_concat.loc[:,\"Type_of_currency_2\"] = df_concat[\"Type_of_currency_2\"].astype(str).fillna('NONE')"
   ]
  },
  {
   "cell_type": "code",
   "execution_count": 23,
   "metadata": {},
   "outputs": [
    {
     "data": {
      "text/plain": [
       "nan     165164\n",
       "BTC      49441\n",
       "EURO     49279\n",
       "Name: Type_of_currency_2, dtype: int64"
      ]
     },
     "execution_count": 23,
     "metadata": {},
     "output_type": "execute_result"
    }
   ],
   "source": [
    "df_concat['Type_of_currency_2'].value_counts()"
   ]
  },
  {
   "cell_type": "markdown",
   "metadata": {},
   "source": []
  },
  {
   "cell_type": "code",
   "execution_count": 24,
   "metadata": {},
   "outputs": [
    {
     "name": "stderr",
     "output_type": "stream",
     "text": [
      "C:\\Users\\Admin\\AppData\\Local\\Temp\\ipykernel_9476\\467005550.py:3: DeprecationWarning: In a future version, `df.iloc[:, i] = newvals` will attempt to set the values inplace instead of always setting a new array. To retain the old behavior, use either `df[df.columns[i]] = newvals` or, if columns are non-unique, `df.isetitem(i, newvals)`\n",
      "  df_concat.loc[:,'Type_of_currency_1'] = lbl.transform(df_concat['Type_of_currency_1'])\n"
     ]
    }
   ],
   "source": [
    "lbl = LabelEncoder()\n",
    "lbl.fit(df_concat['Type_of_currency_1'])\n",
    "df_concat.loc[:,'Type_of_currency_1'] = lbl.transform(df_concat['Type_of_currency_1'])\n"
   ]
  },
  {
   "cell_type": "code",
   "execution_count": 25,
   "metadata": {},
   "outputs": [
    {
     "name": "stderr",
     "output_type": "stream",
     "text": [
      "C:\\Users\\Admin\\AppData\\Local\\Temp\\ipykernel_9476\\1365538789.py:2: DeprecationWarning: In a future version, `df.iloc[:, i] = newvals` will attempt to set the values inplace instead of always setting a new array. To retain the old behavior, use either `df[df.columns[i]] = newvals` or, if columns are non-unique, `df.isetitem(i, newvals)`\n",
      "  df_concat.loc[:,'Type_of_currency_2'] = lbl.transform(df_concat['Type_of_currency_2'])\n"
     ]
    }
   ],
   "source": [
    "lbl.fit(df_concat['Type_of_currency_2'])\n",
    "df_concat.loc[:,'Type_of_currency_2'] = lbl.transform(df_concat['Type_of_currency_2'])"
   ]
  },
  {
   "cell_type": "code",
   "execution_count": 26,
   "metadata": {},
   "outputs": [
    {
     "data": {
      "text/plain": [
       "1    132270\n",
       "0    131614\n",
       "Name: Type_of_currency_1, dtype: int64"
      ]
     },
     "execution_count": 26,
     "metadata": {},
     "output_type": "execute_result"
    }
   ],
   "source": [
    "df_concat['Type_of_currency_1'].value_counts()"
   ]
  },
  {
   "cell_type": "code",
   "execution_count": 27,
   "metadata": {},
   "outputs": [
    {
     "data": {
      "text/plain": [
       "2    165164\n",
       "0     49441\n",
       "1     49279\n",
       "Name: Type_of_currency_2, dtype: int64"
      ]
     },
     "execution_count": 27,
     "metadata": {},
     "output_type": "execute_result"
    }
   ],
   "source": [
    "df_concat['Type_of_currency_2'].value_counts()"
   ]
  },
  {
   "cell_type": "code",
   "execution_count": 28,
   "metadata": {},
   "outputs": [
    {
     "data": {
      "text/html": [
       "<div>\n",
       "<style scoped>\n",
       "    .dataframe tbody tr th:only-of-type {\n",
       "        vertical-align: middle;\n",
       "    }\n",
       "\n",
       "    .dataframe tbody tr th {\n",
       "        vertical-align: top;\n",
       "    }\n",
       "\n",
       "    .dataframe thead th {\n",
       "        text-align: right;\n",
       "    }\n",
       "</style>\n",
       "<table border=\"1\" class=\"dataframe\">\n",
       "  <thead>\n",
       "    <tr style=\"text-align: right;\">\n",
       "      <th></th>\n",
       "      <th>code</th>\n",
       "      <th>Type_of_currency_1</th>\n",
       "      <th>Type_of_currency_2</th>\n",
       "      <th>Currency</th>\n",
       "      <th>Transaction_date</th>\n",
       "      <th>Delivery_date</th>\n",
       "      <th>Rate</th>\n",
       "      <th>Type_of_Transaction</th>\n",
       "      <th>True_type_of_transaction</th>\n",
       "      <th>Price</th>\n",
       "    </tr>\n",
       "  </thead>\n",
       "  <tbody>\n",
       "    <tr>\n",
       "      <th>0</th>\n",
       "      <td>120446</td>\n",
       "      <td>1</td>\n",
       "      <td>1</td>\n",
       "      <td>20150</td>\n",
       "      <td>2021-1-13 4:56</td>\n",
       "      <td>2022-11-19</td>\n",
       "      <td>2.69</td>\n",
       "      <td>swp</td>\n",
       "      <td>swap</td>\n",
       "      <td>NaN</td>\n",
       "    </tr>\n",
       "    <tr>\n",
       "      <th>1</th>\n",
       "      <td>89169</td>\n",
       "      <td>1</td>\n",
       "      <td>0</td>\n",
       "      <td>2069</td>\n",
       "      <td>2021-10-5 23:57</td>\n",
       "      <td>2022-8-18</td>\n",
       "      <td>1.93</td>\n",
       "      <td>SWP</td>\n",
       "      <td>swap</td>\n",
       "      <td>NaN</td>\n",
       "    </tr>\n",
       "    <tr>\n",
       "      <th>2</th>\n",
       "      <td>955202</td>\n",
       "      <td>1</td>\n",
       "      <td>1</td>\n",
       "      <td>28210</td>\n",
       "      <td>2021-2-25 12:44</td>\n",
       "      <td>2021-7-2</td>\n",
       "      <td>2.11</td>\n",
       "      <td>swap</td>\n",
       "      <td>swap</td>\n",
       "      <td>NaN</td>\n",
       "    </tr>\n",
       "    <tr>\n",
       "      <th>3</th>\n",
       "      <td>80352</td>\n",
       "      <td>1</td>\n",
       "      <td>1</td>\n",
       "      <td>25432</td>\n",
       "      <td>2022-7-3 12:11</td>\n",
       "      <td>2022-8-27</td>\n",
       "      <td>2.54</td>\n",
       "      <td>swp</td>\n",
       "      <td>swap</td>\n",
       "      <td>NaN</td>\n",
       "    </tr>\n",
       "    <tr>\n",
       "      <th>4</th>\n",
       "      <td>114998</td>\n",
       "      <td>1</td>\n",
       "      <td>1</td>\n",
       "      <td>99121</td>\n",
       "      <td>2021-4-28 11:29</td>\n",
       "      <td>2021-7-11</td>\n",
       "      <td>0.09</td>\n",
       "      <td>swp</td>\n",
       "      <td>swap</td>\n",
       "      <td>NaN</td>\n",
       "    </tr>\n",
       "  </tbody>\n",
       "</table>\n",
       "</div>"
      ],
      "text/plain": [
       "     code  Type_of_currency_1  Type_of_currency_2  Currency Transaction_date  \\\n",
       "0  120446                   1                   1     20150   2021-1-13 4:56   \n",
       "1   89169                   1                   0      2069  2021-10-5 23:57   \n",
       "2  955202                   1                   1     28210  2021-2-25 12:44   \n",
       "3   80352                   1                   1     25432   2022-7-3 12:11   \n",
       "4  114998                   1                   1     99121  2021-4-28 11:29   \n",
       "\n",
       "  Delivery_date  Rate Type_of_Transaction True_type_of_transaction  Price  \n",
       "0    2022-11-19  2.69                 swp                     swap    NaN  \n",
       "1     2022-8-18  1.93                 SWP                     swap    NaN  \n",
       "2      2021-7-2  2.11                swap                     swap    NaN  \n",
       "3     2022-8-27  2.54                 swp                     swap    NaN  \n",
       "4     2021-7-11  0.09                 swp                     swap    NaN  "
      ]
     },
     "execution_count": 28,
     "metadata": {},
     "output_type": "execute_result"
    }
   ],
   "source": [
    "df_concat.head()"
   ]
  },
  {
   "cell_type": "code",
   "execution_count": 29,
   "metadata": {},
   "outputs": [
    {
     "data": {
      "text/html": [
       "<div>\n",
       "<style scoped>\n",
       "    .dataframe tbody tr th:only-of-type {\n",
       "        vertical-align: middle;\n",
       "    }\n",
       "\n",
       "    .dataframe tbody tr th {\n",
       "        vertical-align: top;\n",
       "    }\n",
       "\n",
       "    .dataframe thead th {\n",
       "        text-align: right;\n",
       "    }\n",
       "</style>\n",
       "<table border=\"1\" class=\"dataframe\">\n",
       "  <thead>\n",
       "    <tr style=\"text-align: right;\">\n",
       "      <th></th>\n",
       "      <th>code</th>\n",
       "      <th>Type_of_currency_1</th>\n",
       "      <th>Type_of_currency_2</th>\n",
       "      <th>Currency</th>\n",
       "      <th>Rate</th>\n",
       "      <th>Price</th>\n",
       "    </tr>\n",
       "  </thead>\n",
       "  <tbody>\n",
       "    <tr>\n",
       "      <th>count</th>\n",
       "      <td>2.638840e+05</td>\n",
       "      <td>263884.000000</td>\n",
       "      <td>263884.000000</td>\n",
       "      <td>263884.000000</td>\n",
       "      <td>98720.000000</td>\n",
       "      <td>86859.000000</td>\n",
       "    </tr>\n",
       "    <tr>\n",
       "      <th>mean</th>\n",
       "      <td>2.213522e+06</td>\n",
       "      <td>0.501243</td>\n",
       "      <td>1.438537</td>\n",
       "      <td>49966.978790</td>\n",
       "      <td>1.500079</td>\n",
       "      <td>49998.604474</td>\n",
       "    </tr>\n",
       "    <tr>\n",
       "      <th>std</th>\n",
       "      <td>2.940484e+06</td>\n",
       "      <td>0.499999</td>\n",
       "      <td>0.787999</td>\n",
       "      <td>28825.627432</td>\n",
       "      <td>0.867078</td>\n",
       "      <td>28975.316691</td>\n",
       "    </tr>\n",
       "    <tr>\n",
       "      <th>min</th>\n",
       "      <td>0.000000e+00</td>\n",
       "      <td>0.000000</td>\n",
       "      <td>0.000000</td>\n",
       "      <td>1.000000</td>\n",
       "      <td>0.000000</td>\n",
       "      <td>2.000000</td>\n",
       "    </tr>\n",
       "    <tr>\n",
       "      <th>25%</th>\n",
       "      <td>9.554875e+04</td>\n",
       "      <td>0.000000</td>\n",
       "      <td>1.000000</td>\n",
       "      <td>25096.750000</td>\n",
       "      <td>0.750000</td>\n",
       "      <td>24777.000000</td>\n",
       "    </tr>\n",
       "    <tr>\n",
       "      <th>50%</th>\n",
       "      <td>6.710505e+05</td>\n",
       "      <td>1.000000</td>\n",
       "      <td>2.000000</td>\n",
       "      <td>49961.500000</td>\n",
       "      <td>1.490000</td>\n",
       "      <td>49985.000000</td>\n",
       "    </tr>\n",
       "    <tr>\n",
       "      <th>75%</th>\n",
       "      <td>3.801197e+06</td>\n",
       "      <td>1.000000</td>\n",
       "      <td>2.000000</td>\n",
       "      <td>74888.250000</td>\n",
       "      <td>2.250000</td>\n",
       "      <td>75281.500000</td>\n",
       "    </tr>\n",
       "    <tr>\n",
       "      <th>max</th>\n",
       "      <td>9.999968e+06</td>\n",
       "      <td>1.000000</td>\n",
       "      <td>2.000000</td>\n",
       "      <td>100000.000000</td>\n",
       "      <td>3.000000</td>\n",
       "      <td>99998.000000</td>\n",
       "    </tr>\n",
       "  </tbody>\n",
       "</table>\n",
       "</div>"
      ],
      "text/plain": [
       "               code  Type_of_currency_1  Type_of_currency_2       Currency  \\\n",
       "count  2.638840e+05       263884.000000       263884.000000  263884.000000   \n",
       "mean   2.213522e+06            0.501243            1.438537   49966.978790   \n",
       "std    2.940484e+06            0.499999            0.787999   28825.627432   \n",
       "min    0.000000e+00            0.000000            0.000000       1.000000   \n",
       "25%    9.554875e+04            0.000000            1.000000   25096.750000   \n",
       "50%    6.710505e+05            1.000000            2.000000   49961.500000   \n",
       "75%    3.801197e+06            1.000000            2.000000   74888.250000   \n",
       "max    9.999968e+06            1.000000            2.000000  100000.000000   \n",
       "\n",
       "               Rate         Price  \n",
       "count  98720.000000  86859.000000  \n",
       "mean       1.500079  49998.604474  \n",
       "std        0.867078  28975.316691  \n",
       "min        0.000000      2.000000  \n",
       "25%        0.750000  24777.000000  \n",
       "50%        1.490000  49985.000000  \n",
       "75%        2.250000  75281.500000  \n",
       "max        3.000000  99998.000000  "
      ]
     },
     "execution_count": 29,
     "metadata": {},
     "output_type": "execute_result"
    }
   ],
   "source": [
    "df_concat.describe()"
   ]
  },
  {
   "cell_type": "markdown",
   "metadata": {},
   "source": [
    "Due to the fact that our dataset is learning dataset, the currency, rate and price columns has normal distribution. "
   ]
  },
  {
   "cell_type": "markdown",
   "metadata": {},
   "source": [
    "For the machine learning model is good practice to normalizate the value between 0 and 1, that increase the learning speed of the model."
   ]
  },
  {
   "cell_type": "code",
   "execution_count": 30,
   "metadata": {},
   "outputs": [],
   "source": [
    "cols_continuous = [\"Currency\", \"Rate\", \"Price\"]"
   ]
  },
  {
   "cell_type": "code",
   "execution_count": 31,
   "metadata": {},
   "outputs": [
    {
     "data": {
      "text/html": [
       "<div>\n",
       "<style scoped>\n",
       "    .dataframe tbody tr th:only-of-type {\n",
       "        vertical-align: middle;\n",
       "    }\n",
       "\n",
       "    .dataframe tbody tr th {\n",
       "        vertical-align: top;\n",
       "    }\n",
       "\n",
       "    .dataframe thead th {\n",
       "        text-align: right;\n",
       "    }\n",
       "</style>\n",
       "<table border=\"1\" class=\"dataframe\">\n",
       "  <thead>\n",
       "    <tr style=\"text-align: right;\">\n",
       "      <th></th>\n",
       "      <th>code</th>\n",
       "      <th>Type_of_currency_1</th>\n",
       "      <th>Type_of_currency_2</th>\n",
       "      <th>Currency</th>\n",
       "      <th>Transaction_date</th>\n",
       "      <th>Delivery_date</th>\n",
       "      <th>Rate</th>\n",
       "      <th>Type_of_Transaction</th>\n",
       "      <th>True_type_of_transaction</th>\n",
       "      <th>Price</th>\n",
       "    </tr>\n",
       "  </thead>\n",
       "  <tbody>\n",
       "    <tr>\n",
       "      <th>0</th>\n",
       "      <td>120446</td>\n",
       "      <td>1</td>\n",
       "      <td>1</td>\n",
       "      <td>0.201492</td>\n",
       "      <td>2021-1-13 4:56</td>\n",
       "      <td>2022-11-19</td>\n",
       "      <td>0.896667</td>\n",
       "      <td>swp</td>\n",
       "      <td>swap</td>\n",
       "      <td>NaN</td>\n",
       "    </tr>\n",
       "    <tr>\n",
       "      <th>1</th>\n",
       "      <td>89169</td>\n",
       "      <td>1</td>\n",
       "      <td>0</td>\n",
       "      <td>0.020680</td>\n",
       "      <td>2021-10-5 23:57</td>\n",
       "      <td>2022-8-18</td>\n",
       "      <td>0.643333</td>\n",
       "      <td>SWP</td>\n",
       "      <td>swap</td>\n",
       "      <td>NaN</td>\n",
       "    </tr>\n",
       "    <tr>\n",
       "      <th>2</th>\n",
       "      <td>955202</td>\n",
       "      <td>1</td>\n",
       "      <td>1</td>\n",
       "      <td>0.282093</td>\n",
       "      <td>2021-2-25 12:44</td>\n",
       "      <td>2021-7-2</td>\n",
       "      <td>0.703333</td>\n",
       "      <td>swap</td>\n",
       "      <td>swap</td>\n",
       "      <td>NaN</td>\n",
       "    </tr>\n",
       "    <tr>\n",
       "      <th>3</th>\n",
       "      <td>80352</td>\n",
       "      <td>1</td>\n",
       "      <td>1</td>\n",
       "      <td>0.254313</td>\n",
       "      <td>2022-7-3 12:11</td>\n",
       "      <td>2022-8-27</td>\n",
       "      <td>0.846667</td>\n",
       "      <td>swp</td>\n",
       "      <td>swap</td>\n",
       "      <td>NaN</td>\n",
       "    </tr>\n",
       "    <tr>\n",
       "      <th>4</th>\n",
       "      <td>114998</td>\n",
       "      <td>1</td>\n",
       "      <td>1</td>\n",
       "      <td>0.991210</td>\n",
       "      <td>2021-4-28 11:29</td>\n",
       "      <td>2021-7-11</td>\n",
       "      <td>0.030000</td>\n",
       "      <td>swp</td>\n",
       "      <td>swap</td>\n",
       "      <td>NaN</td>\n",
       "    </tr>\n",
       "  </tbody>\n",
       "</table>\n",
       "</div>"
      ],
      "text/plain": [
       "     code  Type_of_currency_1  Type_of_currency_2  Currency Transaction_date  \\\n",
       "0  120446                   1                   1  0.201492   2021-1-13 4:56   \n",
       "1   89169                   1                   0  0.020680  2021-10-5 23:57   \n",
       "2  955202                   1                   1  0.282093  2021-2-25 12:44   \n",
       "3   80352                   1                   1  0.254313   2022-7-3 12:11   \n",
       "4  114998                   1                   1  0.991210  2021-4-28 11:29   \n",
       "\n",
       "  Delivery_date      Rate Type_of_Transaction True_type_of_transaction  Price  \n",
       "0    2022-11-19  0.896667                 swp                     swap    NaN  \n",
       "1     2022-8-18  0.643333                 SWP                     swap    NaN  \n",
       "2      2021-7-2  0.703333                swap                     swap    NaN  \n",
       "3     2022-8-27  0.846667                 swp                     swap    NaN  \n",
       "4     2021-7-11  0.030000                 swp                     swap    NaN  "
      ]
     },
     "execution_count": 31,
     "metadata": {},
     "output_type": "execute_result"
    }
   ],
   "source": [
    "cs = MinMaxScaler();\n",
    "df_concat[cols_continuous] = cs.fit_transform(df_concat[cols_continuous])\n",
    "df_concat.head()"
   ]
  },
  {
   "cell_type": "code",
   "execution_count": 32,
   "metadata": {},
   "outputs": [
    {
     "data": {
      "text/html": [
       "<div>\n",
       "<style scoped>\n",
       "    .dataframe tbody tr th:only-of-type {\n",
       "        vertical-align: middle;\n",
       "    }\n",
       "\n",
       "    .dataframe tbody tr th {\n",
       "        vertical-align: top;\n",
       "    }\n",
       "\n",
       "    .dataframe thead th {\n",
       "        text-align: right;\n",
       "    }\n",
       "</style>\n",
       "<table border=\"1\" class=\"dataframe\">\n",
       "  <thead>\n",
       "    <tr style=\"text-align: right;\">\n",
       "      <th></th>\n",
       "      <th>code</th>\n",
       "      <th>Type_of_currency_1</th>\n",
       "      <th>Type_of_currency_2</th>\n",
       "      <th>Currency</th>\n",
       "      <th>Transaction_date</th>\n",
       "      <th>Delivery_date</th>\n",
       "      <th>Rate</th>\n",
       "      <th>Type_of_Transaction</th>\n",
       "      <th>True_type_of_transaction</th>\n",
       "      <th>Price</th>\n",
       "    </tr>\n",
       "  </thead>\n",
       "  <tbody>\n",
       "    <tr>\n",
       "      <th>0</th>\n",
       "      <td>120446</td>\n",
       "      <td>1</td>\n",
       "      <td>1</td>\n",
       "      <td>0.201492</td>\n",
       "      <td>2021-1-13 4:56</td>\n",
       "      <td>2022-11-19</td>\n",
       "      <td>0.896667</td>\n",
       "      <td>swp</td>\n",
       "      <td>swap</td>\n",
       "      <td>NaN</td>\n",
       "    </tr>\n",
       "    <tr>\n",
       "      <th>1</th>\n",
       "      <td>89169</td>\n",
       "      <td>1</td>\n",
       "      <td>0</td>\n",
       "      <td>0.020680</td>\n",
       "      <td>2021-10-5 23:57</td>\n",
       "      <td>2022-8-18</td>\n",
       "      <td>0.643333</td>\n",
       "      <td>SWP</td>\n",
       "      <td>swap</td>\n",
       "      <td>NaN</td>\n",
       "    </tr>\n",
       "    <tr>\n",
       "      <th>2</th>\n",
       "      <td>955202</td>\n",
       "      <td>1</td>\n",
       "      <td>1</td>\n",
       "      <td>0.282093</td>\n",
       "      <td>2021-2-25 12:44</td>\n",
       "      <td>2021-7-2</td>\n",
       "      <td>0.703333</td>\n",
       "      <td>swap</td>\n",
       "      <td>swap</td>\n",
       "      <td>NaN</td>\n",
       "    </tr>\n",
       "    <tr>\n",
       "      <th>3</th>\n",
       "      <td>80352</td>\n",
       "      <td>1</td>\n",
       "      <td>1</td>\n",
       "      <td>0.254313</td>\n",
       "      <td>2022-7-3 12:11</td>\n",
       "      <td>2022-8-27</td>\n",
       "      <td>0.846667</td>\n",
       "      <td>swp</td>\n",
       "      <td>swap</td>\n",
       "      <td>NaN</td>\n",
       "    </tr>\n",
       "    <tr>\n",
       "      <th>4</th>\n",
       "      <td>114998</td>\n",
       "      <td>1</td>\n",
       "      <td>1</td>\n",
       "      <td>0.991210</td>\n",
       "      <td>2021-4-28 11:29</td>\n",
       "      <td>2021-7-11</td>\n",
       "      <td>0.030000</td>\n",
       "      <td>swp</td>\n",
       "      <td>swap</td>\n",
       "      <td>NaN</td>\n",
       "    </tr>\n",
       "  </tbody>\n",
       "</table>\n",
       "</div>"
      ],
      "text/plain": [
       "     code  Type_of_currency_1  Type_of_currency_2  Currency Transaction_date  \\\n",
       "0  120446                   1                   1  0.201492   2021-1-13 4:56   \n",
       "1   89169                   1                   0  0.020680  2021-10-5 23:57   \n",
       "2  955202                   1                   1  0.282093  2021-2-25 12:44   \n",
       "3   80352                   1                   1  0.254313   2022-7-3 12:11   \n",
       "4  114998                   1                   1  0.991210  2021-4-28 11:29   \n",
       "\n",
       "  Delivery_date      Rate Type_of_Transaction True_type_of_transaction  Price  \n",
       "0    2022-11-19  0.896667                 swp                     swap    NaN  \n",
       "1     2022-8-18  0.643333                 SWP                     swap    NaN  \n",
       "2      2021-7-2  0.703333                swap                     swap    NaN  \n",
       "3     2022-8-27  0.846667                 swp                     swap    NaN  \n",
       "4     2021-7-11  0.030000                 swp                     swap    NaN  "
      ]
     },
     "execution_count": 32,
     "metadata": {},
     "output_type": "execute_result"
    }
   ],
   "source": [
    "df_concat.head()"
   ]
  },
  {
   "cell_type": "code",
   "execution_count": 33,
   "metadata": {},
   "outputs": [
    {
     "data": {
      "text/plain": [
       "0"
      ]
     },
     "execution_count": 33,
     "metadata": {},
     "output_type": "execute_result"
    }
   ],
   "source": [
    "df_concat['Transaction_date'].isnull().sum()"
   ]
  },
  {
   "cell_type": "code",
   "execution_count": 34,
   "metadata": {},
   "outputs": [
    {
     "data": {
      "text/plain": [
       "0"
      ]
     },
     "execution_count": 34,
     "metadata": {},
     "output_type": "execute_result"
    }
   ],
   "source": [
    "df_concat['True_type_of_transaction'].isnull().sum()"
   ]
  },
  {
   "cell_type": "code",
   "execution_count": 35,
   "metadata": {},
   "outputs": [
    {
     "data": {
      "text/plain": [
       "0"
      ]
     },
     "execution_count": 35,
     "metadata": {},
     "output_type": "execute_result"
    }
   ],
   "source": [
    "df_concat['Delivery_date'].isnull().sum()"
   ]
  },
  {
   "cell_type": "code",
   "execution_count": 36,
   "metadata": {},
   "outputs": [
    {
     "name": "stderr",
     "output_type": "stream",
     "text": [
      "C:\\Users\\Admin\\AppData\\Local\\Temp\\ipykernel_9476\\4156551979.py:2: DeprecationWarning: In a future version, `df.iloc[:, i] = newvals` will attempt to set the values inplace instead of always setting a new array. To retain the old behavior, use either `df[df.columns[i]] = newvals` or, if columns are non-unique, `df.isetitem(i, newvals)`\n",
      "  df_concat.loc[:,'Transaction_date'] = lbl.transform(df_concat['Transaction_date'])\n"
     ]
    }
   ],
   "source": [
    "lbl.fit(df_concat['Transaction_date'])\n",
    "df_concat.loc[:,'Transaction_date'] = lbl.transform(df_concat['Transaction_date'])"
   ]
  },
  {
   "cell_type": "code",
   "execution_count": 37,
   "metadata": {},
   "outputs": [
    {
     "name": "stderr",
     "output_type": "stream",
     "text": [
      "C:\\Users\\Admin\\AppData\\Local\\Temp\\ipykernel_9476\\79088673.py:2: DeprecationWarning: In a future version, `df.iloc[:, i] = newvals` will attempt to set the values inplace instead of always setting a new array. To retain the old behavior, use either `df[df.columns[i]] = newvals` or, if columns are non-unique, `df.isetitem(i, newvals)`\n",
      "  df_concat.loc[:,'Delivery_date'] = lbl.transform(df_concat['Delivery_date'])\n"
     ]
    }
   ],
   "source": [
    "lbl.fit(df_concat['Delivery_date'])\n",
    "df_concat.loc[:,'Delivery_date'] = lbl.transform(df_concat['Delivery_date'])"
   ]
  },
  {
   "cell_type": "code",
   "execution_count": 38,
   "metadata": {},
   "outputs": [
    {
     "name": "stderr",
     "output_type": "stream",
     "text": [
      "C:\\Users\\Admin\\AppData\\Local\\Temp\\ipykernel_9476\\4217628056.py:2: DeprecationWarning: In a future version, `df.iloc[:, i] = newvals` will attempt to set the values inplace instead of always setting a new array. To retain the old behavior, use either `df[df.columns[i]] = newvals` or, if columns are non-unique, `df.isetitem(i, newvals)`\n",
      "  df_concat.loc[:,'True_type_of_transaction'] = lbl.transform(df_concat['True_type_of_transaction'])\n"
     ]
    }
   ],
   "source": [
    "lbl.fit(df_concat['True_type_of_transaction'])\n",
    "df_concat.loc[:,'True_type_of_transaction'] = lbl.transform(df_concat['True_type_of_transaction'])"
   ]
  },
  {
   "cell_type": "code",
   "execution_count": 39,
   "metadata": {},
   "outputs": [
    {
     "data": {
      "text/html": [
       "<div>\n",
       "<style scoped>\n",
       "    .dataframe tbody tr th:only-of-type {\n",
       "        vertical-align: middle;\n",
       "    }\n",
       "\n",
       "    .dataframe tbody tr th {\n",
       "        vertical-align: top;\n",
       "    }\n",
       "\n",
       "    .dataframe thead th {\n",
       "        text-align: right;\n",
       "    }\n",
       "</style>\n",
       "<table border=\"1\" class=\"dataframe\">\n",
       "  <thead>\n",
       "    <tr style=\"text-align: right;\">\n",
       "      <th></th>\n",
       "      <th>code</th>\n",
       "      <th>Type_of_currency_1</th>\n",
       "      <th>Type_of_currency_2</th>\n",
       "      <th>Currency</th>\n",
       "      <th>Transaction_date</th>\n",
       "      <th>Delivery_date</th>\n",
       "      <th>Rate</th>\n",
       "      <th>Type_of_Transaction</th>\n",
       "      <th>True_type_of_transaction</th>\n",
       "      <th>Price</th>\n",
       "    </tr>\n",
       "  </thead>\n",
       "  <tbody>\n",
       "    <tr>\n",
       "      <th>0</th>\n",
       "      <td>120446</td>\n",
       "      <td>1</td>\n",
       "      <td>1</td>\n",
       "      <td>0.201492</td>\n",
       "      <td>71208</td>\n",
       "      <td>714</td>\n",
       "      <td>0.896667</td>\n",
       "      <td>swp</td>\n",
       "      <td>2</td>\n",
       "      <td>NaN</td>\n",
       "    </tr>\n",
       "    <tr>\n",
       "      <th>1</th>\n",
       "      <td>89169</td>\n",
       "      <td>1</td>\n",
       "      <td>0</td>\n",
       "      <td>0.020680</td>\n",
       "      <td>77706</td>\n",
       "      <td>937</td>\n",
       "      <td>0.643333</td>\n",
       "      <td>SWP</td>\n",
       "      <td>2</td>\n",
       "      <td>NaN</td>\n",
       "    </tr>\n",
       "    <tr>\n",
       "      <th>2</th>\n",
       "      <td>955202</td>\n",
       "      <td>1</td>\n",
       "      <td>1</td>\n",
       "      <td>0.282093</td>\n",
       "      <td>88424</td>\n",
       "      <td>575</td>\n",
       "      <td>0.703333</td>\n",
       "      <td>swap</td>\n",
       "      <td>2</td>\n",
       "      <td>NaN</td>\n",
       "    </tr>\n",
       "    <tr>\n",
       "      <th>3</th>\n",
       "      <td>80352</td>\n",
       "      <td>1</td>\n",
       "      <td>1</td>\n",
       "      <td>0.254313</td>\n",
       "      <td>155500</td>\n",
       "      <td>947</td>\n",
       "      <td>0.846667</td>\n",
       "      <td>swp</td>\n",
       "      <td>2</td>\n",
       "      <td>NaN</td>\n",
       "    </tr>\n",
       "    <tr>\n",
       "      <th>4</th>\n",
       "      <td>114998</td>\n",
       "      <td>1</td>\n",
       "      <td>1</td>\n",
       "      <td>0.991210</td>\n",
       "      <td>96698</td>\n",
       "      <td>566</td>\n",
       "      <td>0.030000</td>\n",
       "      <td>swp</td>\n",
       "      <td>2</td>\n",
       "      <td>NaN</td>\n",
       "    </tr>\n",
       "  </tbody>\n",
       "</table>\n",
       "</div>"
      ],
      "text/plain": [
       "     code  Type_of_currency_1  Type_of_currency_2  Currency  Transaction_date  \\\n",
       "0  120446                   1                   1  0.201492             71208   \n",
       "1   89169                   1                   0  0.020680             77706   \n",
       "2  955202                   1                   1  0.282093             88424   \n",
       "3   80352                   1                   1  0.254313            155500   \n",
       "4  114998                   1                   1  0.991210             96698   \n",
       "\n",
       "   Delivery_date      Rate Type_of_Transaction  True_type_of_transaction  \\\n",
       "0            714  0.896667                 swp                         2   \n",
       "1            937  0.643333                 SWP                         2   \n",
       "2            575  0.703333                swap                         2   \n",
       "3            947  0.846667                 swp                         2   \n",
       "4            566  0.030000                 swp                         2   \n",
       "\n",
       "   Price  \n",
       "0    NaN  \n",
       "1    NaN  \n",
       "2    NaN  \n",
       "3    NaN  \n",
       "4    NaN  "
      ]
     },
     "execution_count": 39,
     "metadata": {},
     "output_type": "execute_result"
    }
   ],
   "source": [
    "df_concat.head()"
   ]
  },
  {
   "cell_type": "code",
   "execution_count": 40,
   "metadata": {},
   "outputs": [
    {
     "name": "stderr",
     "output_type": "stream",
     "text": [
      "C:\\Users\\Admin\\AppData\\Local\\Temp\\ipykernel_9476\\1900163243.py:2: DeprecationWarning: In a future version, `df.iloc[:, i] = newvals` will attempt to set the values inplace instead of always setting a new array. To retain the old behavior, use either `df[df.columns[i]] = newvals` or, if columns are non-unique, `df.isetitem(i, newvals)`\n",
      "  df_concat.loc[:,'Price'] = lbl.transform(df_concat['Price'])\n"
     ]
    }
   ],
   "source": [
    "\n",
    "lbl.fit(df_concat['Price'])\n",
    "df_concat.loc[:,'Price'] = lbl.transform(df_concat['Price'])"
   ]
  },
  {
   "cell_type": "code",
   "execution_count": 41,
   "metadata": {},
   "outputs": [
    {
     "data": {
      "text/html": [
       "<div>\n",
       "<style scoped>\n",
       "    .dataframe tbody tr th:only-of-type {\n",
       "        vertical-align: middle;\n",
       "    }\n",
       "\n",
       "    .dataframe tbody tr th {\n",
       "        vertical-align: top;\n",
       "    }\n",
       "\n",
       "    .dataframe thead th {\n",
       "        text-align: right;\n",
       "    }\n",
       "</style>\n",
       "<table border=\"1\" class=\"dataframe\">\n",
       "  <thead>\n",
       "    <tr style=\"text-align: right;\">\n",
       "      <th></th>\n",
       "      <th>code</th>\n",
       "      <th>Type_of_currency_1</th>\n",
       "      <th>Type_of_currency_2</th>\n",
       "      <th>Currency</th>\n",
       "      <th>Transaction_date</th>\n",
       "      <th>Delivery_date</th>\n",
       "      <th>Rate</th>\n",
       "      <th>Type_of_Transaction</th>\n",
       "      <th>True_type_of_transaction</th>\n",
       "      <th>Price</th>\n",
       "    </tr>\n",
       "  </thead>\n",
       "  <tbody>\n",
       "    <tr>\n",
       "      <th>0</th>\n",
       "      <td>120446</td>\n",
       "      <td>1</td>\n",
       "      <td>1</td>\n",
       "      <td>0.201492</td>\n",
       "      <td>71208</td>\n",
       "      <td>714</td>\n",
       "      <td>0.896667</td>\n",
       "      <td>swp</td>\n",
       "      <td>2</td>\n",
       "      <td>58105</td>\n",
       "    </tr>\n",
       "    <tr>\n",
       "      <th>1</th>\n",
       "      <td>89169</td>\n",
       "      <td>1</td>\n",
       "      <td>0</td>\n",
       "      <td>0.020680</td>\n",
       "      <td>77706</td>\n",
       "      <td>937</td>\n",
       "      <td>0.643333</td>\n",
       "      <td>SWP</td>\n",
       "      <td>2</td>\n",
       "      <td>58105</td>\n",
       "    </tr>\n",
       "    <tr>\n",
       "      <th>2</th>\n",
       "      <td>955202</td>\n",
       "      <td>1</td>\n",
       "      <td>1</td>\n",
       "      <td>0.282093</td>\n",
       "      <td>88424</td>\n",
       "      <td>575</td>\n",
       "      <td>0.703333</td>\n",
       "      <td>swap</td>\n",
       "      <td>2</td>\n",
       "      <td>58105</td>\n",
       "    </tr>\n",
       "    <tr>\n",
       "      <th>3</th>\n",
       "      <td>80352</td>\n",
       "      <td>1</td>\n",
       "      <td>1</td>\n",
       "      <td>0.254313</td>\n",
       "      <td>155500</td>\n",
       "      <td>947</td>\n",
       "      <td>0.846667</td>\n",
       "      <td>swp</td>\n",
       "      <td>2</td>\n",
       "      <td>58105</td>\n",
       "    </tr>\n",
       "    <tr>\n",
       "      <th>4</th>\n",
       "      <td>114998</td>\n",
       "      <td>1</td>\n",
       "      <td>1</td>\n",
       "      <td>0.991210</td>\n",
       "      <td>96698</td>\n",
       "      <td>566</td>\n",
       "      <td>0.030000</td>\n",
       "      <td>swp</td>\n",
       "      <td>2</td>\n",
       "      <td>58105</td>\n",
       "    </tr>\n",
       "    <tr>\n",
       "      <th>...</th>\n",
       "      <td>...</td>\n",
       "      <td>...</td>\n",
       "      <td>...</td>\n",
       "      <td>...</td>\n",
       "      <td>...</td>\n",
       "      <td>...</td>\n",
       "      <td>...</td>\n",
       "      <td>...</td>\n",
       "      <td>...</td>\n",
       "      <td>...</td>\n",
       "    </tr>\n",
       "    <tr>\n",
       "      <th>99991</th>\n",
       "      <td>7321545</td>\n",
       "      <td>1</td>\n",
       "      <td>2</td>\n",
       "      <td>0.019710</td>\n",
       "      <td>16438</td>\n",
       "      <td>266</td>\n",
       "      <td>NaN</td>\n",
       "      <td>FUTURE</td>\n",
       "      <td>1</td>\n",
       "      <td>58105</td>\n",
       "    </tr>\n",
       "    <tr>\n",
       "      <th>99992</th>\n",
       "      <td>12210</td>\n",
       "      <td>0</td>\n",
       "      <td>2</td>\n",
       "      <td>0.978010</td>\n",
       "      <td>230501</td>\n",
       "      <td>145</td>\n",
       "      <td>NaN</td>\n",
       "      <td>FUT</td>\n",
       "      <td>1</td>\n",
       "      <td>58105</td>\n",
       "    </tr>\n",
       "    <tr>\n",
       "      <th>99994</th>\n",
       "      <td>780677</td>\n",
       "      <td>1</td>\n",
       "      <td>2</td>\n",
       "      <td>0.582086</td>\n",
       "      <td>210068</td>\n",
       "      <td>106</td>\n",
       "      <td>NaN</td>\n",
       "      <td>FUTURE</td>\n",
       "      <td>1</td>\n",
       "      <td>58105</td>\n",
       "    </tr>\n",
       "    <tr>\n",
       "      <th>99997</th>\n",
       "      <td>4393683</td>\n",
       "      <td>0</td>\n",
       "      <td>2</td>\n",
       "      <td>0.473025</td>\n",
       "      <td>26208</td>\n",
       "      <td>82</td>\n",
       "      <td>NaN</td>\n",
       "      <td>FUT</td>\n",
       "      <td>1</td>\n",
       "      <td>58105</td>\n",
       "    </tr>\n",
       "    <tr>\n",
       "      <th>99998</th>\n",
       "      <td>106699</td>\n",
       "      <td>0</td>\n",
       "      <td>2</td>\n",
       "      <td>0.691467</td>\n",
       "      <td>13991</td>\n",
       "      <td>1311</td>\n",
       "      <td>NaN</td>\n",
       "      <td>future</td>\n",
       "      <td>1</td>\n",
       "      <td>58105</td>\n",
       "    </tr>\n",
       "  </tbody>\n",
       "</table>\n",
       "<p>263884 rows × 10 columns</p>\n",
       "</div>"
      ],
      "text/plain": [
       "          code  Type_of_currency_1  Type_of_currency_2  Currency  \\\n",
       "0       120446                   1                   1  0.201492   \n",
       "1        89169                   1                   0  0.020680   \n",
       "2       955202                   1                   1  0.282093   \n",
       "3        80352                   1                   1  0.254313   \n",
       "4       114998                   1                   1  0.991210   \n",
       "...        ...                 ...                 ...       ...   \n",
       "99991  7321545                   1                   2  0.019710   \n",
       "99992    12210                   0                   2  0.978010   \n",
       "99994   780677                   1                   2  0.582086   \n",
       "99997  4393683                   0                   2  0.473025   \n",
       "99998   106699                   0                   2  0.691467   \n",
       "\n",
       "       Transaction_date  Delivery_date      Rate Type_of_Transaction  \\\n",
       "0                 71208            714  0.896667                 swp   \n",
       "1                 77706            937  0.643333                 SWP   \n",
       "2                 88424            575  0.703333                swap   \n",
       "3                155500            947  0.846667                 swp   \n",
       "4                 96698            566  0.030000                 swp   \n",
       "...                 ...            ...       ...                 ...   \n",
       "99991             16438            266       NaN              FUTURE   \n",
       "99992            230501            145       NaN                 FUT   \n",
       "99994            210068            106       NaN              FUTURE   \n",
       "99997             26208             82       NaN                 FUT   \n",
       "99998             13991           1311       NaN              future   \n",
       "\n",
       "       True_type_of_transaction  Price  \n",
       "0                             2  58105  \n",
       "1                             2  58105  \n",
       "2                             2  58105  \n",
       "3                             2  58105  \n",
       "4                             2  58105  \n",
       "...                         ...    ...  \n",
       "99991                         1  58105  \n",
       "99992                         1  58105  \n",
       "99994                         1  58105  \n",
       "99997                         1  58105  \n",
       "99998                         1  58105  \n",
       "\n",
       "[263884 rows x 10 columns]"
      ]
     },
     "execution_count": 41,
     "metadata": {},
     "output_type": "execute_result"
    }
   ],
   "source": [
    "df_concat"
   ]
  },
  {
   "cell_type": "code",
   "execution_count": 42,
   "metadata": {},
   "outputs": [
    {
     "data": {
      "text/html": [
       "<div>\n",
       "<style scoped>\n",
       "    .dataframe tbody tr th:only-of-type {\n",
       "        vertical-align: middle;\n",
       "    }\n",
       "\n",
       "    .dataframe tbody tr th {\n",
       "        vertical-align: top;\n",
       "    }\n",
       "\n",
       "    .dataframe thead th {\n",
       "        text-align: right;\n",
       "    }\n",
       "</style>\n",
       "<table border=\"1\" class=\"dataframe\">\n",
       "  <thead>\n",
       "    <tr style=\"text-align: right;\">\n",
       "      <th></th>\n",
       "      <th>code</th>\n",
       "      <th>Type_of_currency_1</th>\n",
       "      <th>Type_of_currency_2</th>\n",
       "      <th>Currency</th>\n",
       "      <th>Transaction_date</th>\n",
       "      <th>Delivery_date</th>\n",
       "      <th>Rate</th>\n",
       "      <th>Type_of_Transaction</th>\n",
       "      <th>True_type_of_transaction</th>\n",
       "      <th>Price</th>\n",
       "    </tr>\n",
       "  </thead>\n",
       "  <tbody>\n",
       "    <tr>\n",
       "      <th>0</th>\n",
       "      <td>120446</td>\n",
       "      <td>1</td>\n",
       "      <td>1</td>\n",
       "      <td>0.201492</td>\n",
       "      <td>71208</td>\n",
       "      <td>714</td>\n",
       "      <td>0.896667</td>\n",
       "      <td>swp</td>\n",
       "      <td>2</td>\n",
       "      <td>58105</td>\n",
       "    </tr>\n",
       "    <tr>\n",
       "      <th>1</th>\n",
       "      <td>89169</td>\n",
       "      <td>1</td>\n",
       "      <td>0</td>\n",
       "      <td>0.020680</td>\n",
       "      <td>77706</td>\n",
       "      <td>937</td>\n",
       "      <td>0.643333</td>\n",
       "      <td>SWP</td>\n",
       "      <td>2</td>\n",
       "      <td>58105</td>\n",
       "    </tr>\n",
       "    <tr>\n",
       "      <th>2</th>\n",
       "      <td>955202</td>\n",
       "      <td>1</td>\n",
       "      <td>1</td>\n",
       "      <td>0.282093</td>\n",
       "      <td>88424</td>\n",
       "      <td>575</td>\n",
       "      <td>0.703333</td>\n",
       "      <td>swap</td>\n",
       "      <td>2</td>\n",
       "      <td>58105</td>\n",
       "    </tr>\n",
       "    <tr>\n",
       "      <th>3</th>\n",
       "      <td>80352</td>\n",
       "      <td>1</td>\n",
       "      <td>1</td>\n",
       "      <td>0.254313</td>\n",
       "      <td>155500</td>\n",
       "      <td>947</td>\n",
       "      <td>0.846667</td>\n",
       "      <td>swp</td>\n",
       "      <td>2</td>\n",
       "      <td>58105</td>\n",
       "    </tr>\n",
       "    <tr>\n",
       "      <th>4</th>\n",
       "      <td>114998</td>\n",
       "      <td>1</td>\n",
       "      <td>1</td>\n",
       "      <td>0.991210</td>\n",
       "      <td>96698</td>\n",
       "      <td>566</td>\n",
       "      <td>0.030000</td>\n",
       "      <td>swp</td>\n",
       "      <td>2</td>\n",
       "      <td>58105</td>\n",
       "    </tr>\n",
       "  </tbody>\n",
       "</table>\n",
       "</div>"
      ],
      "text/plain": [
       "     code  Type_of_currency_1  Type_of_currency_2  Currency  Transaction_date  \\\n",
       "0  120446                   1                   1  0.201492             71208   \n",
       "1   89169                   1                   0  0.020680             77706   \n",
       "2  955202                   1                   1  0.282093             88424   \n",
       "3   80352                   1                   1  0.254313            155500   \n",
       "4  114998                   1                   1  0.991210             96698   \n",
       "\n",
       "   Delivery_date      Rate Type_of_Transaction  True_type_of_transaction  \\\n",
       "0            714  0.896667                 swp                         2   \n",
       "1            937  0.643333                 SWP                         2   \n",
       "2            575  0.703333                swap                         2   \n",
       "3            947  0.846667                 swp                         2   \n",
       "4            566  0.030000                 swp                         2   \n",
       "\n",
       "   Price  \n",
       "0  58105  \n",
       "1  58105  \n",
       "2  58105  \n",
       "3  58105  \n",
       "4  58105  "
      ]
     },
     "execution_count": 42,
     "metadata": {},
     "output_type": "execute_result"
    }
   ],
   "source": [
    "df_concat.head()"
   ]
  },
  {
   "cell_type": "code",
   "execution_count": 43,
   "metadata": {},
   "outputs": [
    {
     "data": {
      "text/plain": [
       "code                          int64\n",
       "Type_of_currency_1            int32\n",
       "Type_of_currency_2            int32\n",
       "Currency                    float64\n",
       "Transaction_date              int32\n",
       "Delivery_date                 int32\n",
       "Rate                        float64\n",
       "Type_of_Transaction          object\n",
       "True_type_of_transaction      int32\n",
       "Price                         int64\n",
       "dtype: object"
      ]
     },
     "execution_count": 43,
     "metadata": {},
     "output_type": "execute_result"
    }
   ],
   "source": [
    "df_concat.dtypes"
   ]
  },
  {
   "cell_type": "code",
   "execution_count": 44,
   "metadata": {},
   "outputs": [
    {
     "data": {
      "text/html": [
       "<div>\n",
       "<style scoped>\n",
       "    .dataframe tbody tr th:only-of-type {\n",
       "        vertical-align: middle;\n",
       "    }\n",
       "\n",
       "    .dataframe tbody tr th {\n",
       "        vertical-align: top;\n",
       "    }\n",
       "\n",
       "    .dataframe thead th {\n",
       "        text-align: right;\n",
       "    }\n",
       "</style>\n",
       "<table border=\"1\" class=\"dataframe\">\n",
       "  <thead>\n",
       "    <tr style=\"text-align: right;\">\n",
       "      <th></th>\n",
       "      <th>code</th>\n",
       "      <th>Type_of_currency_1</th>\n",
       "      <th>Type_of_currency_2</th>\n",
       "      <th>Currency</th>\n",
       "      <th>Transaction_date</th>\n",
       "      <th>Delivery_date</th>\n",
       "      <th>Rate</th>\n",
       "      <th>True_type_of_transaction</th>\n",
       "      <th>Price</th>\n",
       "    </tr>\n",
       "  </thead>\n",
       "  <tbody>\n",
       "    <tr>\n",
       "      <th>0</th>\n",
       "      <td>120446</td>\n",
       "      <td>1</td>\n",
       "      <td>1</td>\n",
       "      <td>0.201492</td>\n",
       "      <td>71208</td>\n",
       "      <td>714</td>\n",
       "      <td>0.896667</td>\n",
       "      <td>2</td>\n",
       "      <td>58105</td>\n",
       "    </tr>\n",
       "    <tr>\n",
       "      <th>1</th>\n",
       "      <td>89169</td>\n",
       "      <td>1</td>\n",
       "      <td>0</td>\n",
       "      <td>0.020680</td>\n",
       "      <td>77706</td>\n",
       "      <td>937</td>\n",
       "      <td>0.643333</td>\n",
       "      <td>2</td>\n",
       "      <td>58105</td>\n",
       "    </tr>\n",
       "    <tr>\n",
       "      <th>2</th>\n",
       "      <td>955202</td>\n",
       "      <td>1</td>\n",
       "      <td>1</td>\n",
       "      <td>0.282093</td>\n",
       "      <td>88424</td>\n",
       "      <td>575</td>\n",
       "      <td>0.703333</td>\n",
       "      <td>2</td>\n",
       "      <td>58105</td>\n",
       "    </tr>\n",
       "    <tr>\n",
       "      <th>3</th>\n",
       "      <td>80352</td>\n",
       "      <td>1</td>\n",
       "      <td>1</td>\n",
       "      <td>0.254313</td>\n",
       "      <td>155500</td>\n",
       "      <td>947</td>\n",
       "      <td>0.846667</td>\n",
       "      <td>2</td>\n",
       "      <td>58105</td>\n",
       "    </tr>\n",
       "    <tr>\n",
       "      <th>4</th>\n",
       "      <td>114998</td>\n",
       "      <td>1</td>\n",
       "      <td>1</td>\n",
       "      <td>0.991210</td>\n",
       "      <td>96698</td>\n",
       "      <td>566</td>\n",
       "      <td>0.030000</td>\n",
       "      <td>2</td>\n",
       "      <td>58105</td>\n",
       "    </tr>\n",
       "    <tr>\n",
       "      <th>...</th>\n",
       "      <td>...</td>\n",
       "      <td>...</td>\n",
       "      <td>...</td>\n",
       "      <td>...</td>\n",
       "      <td>...</td>\n",
       "      <td>...</td>\n",
       "      <td>...</td>\n",
       "      <td>...</td>\n",
       "      <td>...</td>\n",
       "    </tr>\n",
       "    <tr>\n",
       "      <th>99991</th>\n",
       "      <td>7321545</td>\n",
       "      <td>1</td>\n",
       "      <td>2</td>\n",
       "      <td>0.019710</td>\n",
       "      <td>16438</td>\n",
       "      <td>266</td>\n",
       "      <td>NaN</td>\n",
       "      <td>1</td>\n",
       "      <td>58105</td>\n",
       "    </tr>\n",
       "    <tr>\n",
       "      <th>99992</th>\n",
       "      <td>12210</td>\n",
       "      <td>0</td>\n",
       "      <td>2</td>\n",
       "      <td>0.978010</td>\n",
       "      <td>230501</td>\n",
       "      <td>145</td>\n",
       "      <td>NaN</td>\n",
       "      <td>1</td>\n",
       "      <td>58105</td>\n",
       "    </tr>\n",
       "    <tr>\n",
       "      <th>99994</th>\n",
       "      <td>780677</td>\n",
       "      <td>1</td>\n",
       "      <td>2</td>\n",
       "      <td>0.582086</td>\n",
       "      <td>210068</td>\n",
       "      <td>106</td>\n",
       "      <td>NaN</td>\n",
       "      <td>1</td>\n",
       "      <td>58105</td>\n",
       "    </tr>\n",
       "    <tr>\n",
       "      <th>99997</th>\n",
       "      <td>4393683</td>\n",
       "      <td>0</td>\n",
       "      <td>2</td>\n",
       "      <td>0.473025</td>\n",
       "      <td>26208</td>\n",
       "      <td>82</td>\n",
       "      <td>NaN</td>\n",
       "      <td>1</td>\n",
       "      <td>58105</td>\n",
       "    </tr>\n",
       "    <tr>\n",
       "      <th>99998</th>\n",
       "      <td>106699</td>\n",
       "      <td>0</td>\n",
       "      <td>2</td>\n",
       "      <td>0.691467</td>\n",
       "      <td>13991</td>\n",
       "      <td>1311</td>\n",
       "      <td>NaN</td>\n",
       "      <td>1</td>\n",
       "      <td>58105</td>\n",
       "    </tr>\n",
       "  </tbody>\n",
       "</table>\n",
       "<p>263884 rows × 9 columns</p>\n",
       "</div>"
      ],
      "text/plain": [
       "          code  Type_of_currency_1  Type_of_currency_2  Currency  \\\n",
       "0       120446                   1                   1  0.201492   \n",
       "1        89169                   1                   0  0.020680   \n",
       "2       955202                   1                   1  0.282093   \n",
       "3        80352                   1                   1  0.254313   \n",
       "4       114998                   1                   1  0.991210   \n",
       "...        ...                 ...                 ...       ...   \n",
       "99991  7321545                   1                   2  0.019710   \n",
       "99992    12210                   0                   2  0.978010   \n",
       "99994   780677                   1                   2  0.582086   \n",
       "99997  4393683                   0                   2  0.473025   \n",
       "99998   106699                   0                   2  0.691467   \n",
       "\n",
       "       Transaction_date  Delivery_date      Rate  True_type_of_transaction  \\\n",
       "0                 71208            714  0.896667                         2   \n",
       "1                 77706            937  0.643333                         2   \n",
       "2                 88424            575  0.703333                         2   \n",
       "3                155500            947  0.846667                         2   \n",
       "4                 96698            566  0.030000                         2   \n",
       "...                 ...            ...       ...                       ...   \n",
       "99991             16438            266       NaN                         1   \n",
       "99992            230501            145       NaN                         1   \n",
       "99994            210068            106       NaN                         1   \n",
       "99997             26208             82       NaN                         1   \n",
       "99998             13991           1311       NaN                         1   \n",
       "\n",
       "       Price  \n",
       "0      58105  \n",
       "1      58105  \n",
       "2      58105  \n",
       "3      58105  \n",
       "4      58105  \n",
       "...      ...  \n",
       "99991  58105  \n",
       "99992  58105  \n",
       "99994  58105  \n",
       "99997  58105  \n",
       "99998  58105  \n",
       "\n",
       "[263884 rows x 9 columns]"
      ]
     },
     "execution_count": 44,
     "metadata": {},
     "output_type": "execute_result"
    }
   ],
   "source": [
    "df_concat = df_concat.drop(\"Type_of_Transaction\", axis=1)\n",
    "df_concat"
   ]
  },
  {
   "cell_type": "code",
   "execution_count": 45,
   "metadata": {},
   "outputs": [],
   "source": [
    "\n",
    "df_concat['Rate'] = df_concat['Rate'].fillna(\"0\")"
   ]
  },
  {
   "cell_type": "code",
   "execution_count": 46,
   "metadata": {},
   "outputs": [
    {
     "data": {
      "text/html": [
       "<div>\n",
       "<style scoped>\n",
       "    .dataframe tbody tr th:only-of-type {\n",
       "        vertical-align: middle;\n",
       "    }\n",
       "\n",
       "    .dataframe tbody tr th {\n",
       "        vertical-align: top;\n",
       "    }\n",
       "\n",
       "    .dataframe thead th {\n",
       "        text-align: right;\n",
       "    }\n",
       "</style>\n",
       "<table border=\"1\" class=\"dataframe\">\n",
       "  <thead>\n",
       "    <tr style=\"text-align: right;\">\n",
       "      <th></th>\n",
       "      <th>code</th>\n",
       "      <th>Type_of_currency_1</th>\n",
       "      <th>Type_of_currency_2</th>\n",
       "      <th>Currency</th>\n",
       "      <th>Transaction_date</th>\n",
       "      <th>Delivery_date</th>\n",
       "      <th>Rate</th>\n",
       "      <th>True_type_of_transaction</th>\n",
       "      <th>Price</th>\n",
       "    </tr>\n",
       "  </thead>\n",
       "  <tbody>\n",
       "    <tr>\n",
       "      <th>0</th>\n",
       "      <td>120446</td>\n",
       "      <td>1</td>\n",
       "      <td>1</td>\n",
       "      <td>0.201492</td>\n",
       "      <td>71208</td>\n",
       "      <td>714</td>\n",
       "      <td>0.896667</td>\n",
       "      <td>2</td>\n",
       "      <td>58105</td>\n",
       "    </tr>\n",
       "    <tr>\n",
       "      <th>1</th>\n",
       "      <td>89169</td>\n",
       "      <td>1</td>\n",
       "      <td>0</td>\n",
       "      <td>0.020680</td>\n",
       "      <td>77706</td>\n",
       "      <td>937</td>\n",
       "      <td>0.643333</td>\n",
       "      <td>2</td>\n",
       "      <td>58105</td>\n",
       "    </tr>\n",
       "    <tr>\n",
       "      <th>2</th>\n",
       "      <td>955202</td>\n",
       "      <td>1</td>\n",
       "      <td>1</td>\n",
       "      <td>0.282093</td>\n",
       "      <td>88424</td>\n",
       "      <td>575</td>\n",
       "      <td>0.703333</td>\n",
       "      <td>2</td>\n",
       "      <td>58105</td>\n",
       "    </tr>\n",
       "    <tr>\n",
       "      <th>3</th>\n",
       "      <td>80352</td>\n",
       "      <td>1</td>\n",
       "      <td>1</td>\n",
       "      <td>0.254313</td>\n",
       "      <td>155500</td>\n",
       "      <td>947</td>\n",
       "      <td>0.846667</td>\n",
       "      <td>2</td>\n",
       "      <td>58105</td>\n",
       "    </tr>\n",
       "    <tr>\n",
       "      <th>4</th>\n",
       "      <td>114998</td>\n",
       "      <td>1</td>\n",
       "      <td>1</td>\n",
       "      <td>0.991210</td>\n",
       "      <td>96698</td>\n",
       "      <td>566</td>\n",
       "      <td>0.03</td>\n",
       "      <td>2</td>\n",
       "      <td>58105</td>\n",
       "    </tr>\n",
       "    <tr>\n",
       "      <th>...</th>\n",
       "      <td>...</td>\n",
       "      <td>...</td>\n",
       "      <td>...</td>\n",
       "      <td>...</td>\n",
       "      <td>...</td>\n",
       "      <td>...</td>\n",
       "      <td>...</td>\n",
       "      <td>...</td>\n",
       "      <td>...</td>\n",
       "    </tr>\n",
       "    <tr>\n",
       "      <th>99991</th>\n",
       "      <td>7321545</td>\n",
       "      <td>1</td>\n",
       "      <td>2</td>\n",
       "      <td>0.019710</td>\n",
       "      <td>16438</td>\n",
       "      <td>266</td>\n",
       "      <td>0</td>\n",
       "      <td>1</td>\n",
       "      <td>58105</td>\n",
       "    </tr>\n",
       "    <tr>\n",
       "      <th>99992</th>\n",
       "      <td>12210</td>\n",
       "      <td>0</td>\n",
       "      <td>2</td>\n",
       "      <td>0.978010</td>\n",
       "      <td>230501</td>\n",
       "      <td>145</td>\n",
       "      <td>0</td>\n",
       "      <td>1</td>\n",
       "      <td>58105</td>\n",
       "    </tr>\n",
       "    <tr>\n",
       "      <th>99994</th>\n",
       "      <td>780677</td>\n",
       "      <td>1</td>\n",
       "      <td>2</td>\n",
       "      <td>0.582086</td>\n",
       "      <td>210068</td>\n",
       "      <td>106</td>\n",
       "      <td>0</td>\n",
       "      <td>1</td>\n",
       "      <td>58105</td>\n",
       "    </tr>\n",
       "    <tr>\n",
       "      <th>99997</th>\n",
       "      <td>4393683</td>\n",
       "      <td>0</td>\n",
       "      <td>2</td>\n",
       "      <td>0.473025</td>\n",
       "      <td>26208</td>\n",
       "      <td>82</td>\n",
       "      <td>0</td>\n",
       "      <td>1</td>\n",
       "      <td>58105</td>\n",
       "    </tr>\n",
       "    <tr>\n",
       "      <th>99998</th>\n",
       "      <td>106699</td>\n",
       "      <td>0</td>\n",
       "      <td>2</td>\n",
       "      <td>0.691467</td>\n",
       "      <td>13991</td>\n",
       "      <td>1311</td>\n",
       "      <td>0</td>\n",
       "      <td>1</td>\n",
       "      <td>58105</td>\n",
       "    </tr>\n",
       "  </tbody>\n",
       "</table>\n",
       "<p>263884 rows × 9 columns</p>\n",
       "</div>"
      ],
      "text/plain": [
       "          code  Type_of_currency_1  Type_of_currency_2  Currency  \\\n",
       "0       120446                   1                   1  0.201492   \n",
       "1        89169                   1                   0  0.020680   \n",
       "2       955202                   1                   1  0.282093   \n",
       "3        80352                   1                   1  0.254313   \n",
       "4       114998                   1                   1  0.991210   \n",
       "...        ...                 ...                 ...       ...   \n",
       "99991  7321545                   1                   2  0.019710   \n",
       "99992    12210                   0                   2  0.978010   \n",
       "99994   780677                   1                   2  0.582086   \n",
       "99997  4393683                   0                   2  0.473025   \n",
       "99998   106699                   0                   2  0.691467   \n",
       "\n",
       "       Transaction_date  Delivery_date      Rate  True_type_of_transaction  \\\n",
       "0                 71208            714  0.896667                         2   \n",
       "1                 77706            937  0.643333                         2   \n",
       "2                 88424            575  0.703333                         2   \n",
       "3                155500            947  0.846667                         2   \n",
       "4                 96698            566      0.03                         2   \n",
       "...                 ...            ...       ...                       ...   \n",
       "99991             16438            266         0                         1   \n",
       "99992            230501            145         0                         1   \n",
       "99994            210068            106         0                         1   \n",
       "99997             26208             82         0                         1   \n",
       "99998             13991           1311         0                         1   \n",
       "\n",
       "       Price  \n",
       "0      58105  \n",
       "1      58105  \n",
       "2      58105  \n",
       "3      58105  \n",
       "4      58105  \n",
       "...      ...  \n",
       "99991  58105  \n",
       "99992  58105  \n",
       "99994  58105  \n",
       "99997  58105  \n",
       "99998  58105  \n",
       "\n",
       "[263884 rows x 9 columns]"
      ]
     },
     "execution_count": 46,
     "metadata": {},
     "output_type": "execute_result"
    }
   ],
   "source": [
    "df_concat"
   ]
  },
  {
   "cell_type": "code",
   "execution_count": 47,
   "metadata": {},
   "outputs": [],
   "source": [
    "df_concat = df_concat.astype('float32')"
   ]
  },
  {
   "cell_type": "code",
   "execution_count": 48,
   "metadata": {},
   "outputs": [],
   "source": [
    "import tensorflow as tf;\n",
    "from keras import optimizers;\n",
    "from sklearn.model_selection import train_test_split\n",
    "from keras import Sequential\n",
    "from keras.layers import Dense\n",
    "from keras.layers import Activation\n",
    "from keras.layers import BatchNormalization"
   ]
  },
  {
   "cell_type": "code",
   "execution_count": 49,
   "metadata": {},
   "outputs": [],
   "source": [
    "y = df_concat['True_type_of_transaction']\n",
    "X = df_concat.drop('True_type_of_transaction', axis = 1)"
   ]
  },
  {
   "cell_type": "code",
   "execution_count": 99,
   "metadata": {},
   "outputs": [],
   "source": [
    "np.random.seed(42)"
   ]
  },
  {
   "cell_type": "code",
   "execution_count": 100,
   "metadata": {},
   "outputs": [],
   "source": [
    "X_train, X_test, y_train, y_test = train_test_split(X, y, test_size=0.33)"
   ]
  },
  {
   "cell_type": "code",
   "execution_count": 101,
   "metadata": {},
   "outputs": [
    {
     "data": {
      "text/html": [
       "<div>\n",
       "<style scoped>\n",
       "    .dataframe tbody tr th:only-of-type {\n",
       "        vertical-align: middle;\n",
       "    }\n",
       "\n",
       "    .dataframe tbody tr th {\n",
       "        vertical-align: top;\n",
       "    }\n",
       "\n",
       "    .dataframe thead th {\n",
       "        text-align: right;\n",
       "    }\n",
       "</style>\n",
       "<table border=\"1\" class=\"dataframe\">\n",
       "  <thead>\n",
       "    <tr style=\"text-align: right;\">\n",
       "      <th></th>\n",
       "      <th>code</th>\n",
       "      <th>Type_of_currency_1</th>\n",
       "      <th>Type_of_currency_2</th>\n",
       "      <th>Currency</th>\n",
       "      <th>Transaction_date</th>\n",
       "      <th>Delivery_date</th>\n",
       "      <th>Rate</th>\n",
       "      <th>Price</th>\n",
       "    </tr>\n",
       "  </thead>\n",
       "  <tbody>\n",
       "    <tr>\n",
       "      <th>82017</th>\n",
       "      <td>18732.0</td>\n",
       "      <td>0.0</td>\n",
       "      <td>2.0</td>\n",
       "      <td>0.836278</td>\n",
       "      <td>4683.0</td>\n",
       "      <td>1207.0</td>\n",
       "      <td>0.00</td>\n",
       "      <td>30322.0</td>\n",
       "    </tr>\n",
       "    <tr>\n",
       "      <th>62422</th>\n",
       "      <td>748831.0</td>\n",
       "      <td>0.0</td>\n",
       "      <td>2.0</td>\n",
       "      <td>0.144871</td>\n",
       "      <td>19533.0</td>\n",
       "      <td>85.0</td>\n",
       "      <td>0.00</td>\n",
       "      <td>38917.0</td>\n",
       "    </tr>\n",
       "    <tr>\n",
       "      <th>21793</th>\n",
       "      <td>390774.0</td>\n",
       "      <td>0.0</td>\n",
       "      <td>1.0</td>\n",
       "      <td>0.791888</td>\n",
       "      <td>104277.0</td>\n",
       "      <td>770.0</td>\n",
       "      <td>0.55</td>\n",
       "      <td>58105.0</td>\n",
       "    </tr>\n",
       "    <tr>\n",
       "      <th>904</th>\n",
       "      <td>307833.0</td>\n",
       "      <td>0.0</td>\n",
       "      <td>2.0</td>\n",
       "      <td>0.176922</td>\n",
       "      <td>50566.0</td>\n",
       "      <td>247.0</td>\n",
       "      <td>0.00</td>\n",
       "      <td>58105.0</td>\n",
       "    </tr>\n",
       "    <tr>\n",
       "      <th>20693</th>\n",
       "      <td>94460.0</td>\n",
       "      <td>1.0</td>\n",
       "      <td>2.0</td>\n",
       "      <td>0.845318</td>\n",
       "      <td>191589.0</td>\n",
       "      <td>84.0</td>\n",
       "      <td>0.00</td>\n",
       "      <td>58105.0</td>\n",
       "    </tr>\n",
       "    <tr>\n",
       "      <th>...</th>\n",
       "      <td>...</td>\n",
       "      <td>...</td>\n",
       "      <td>...</td>\n",
       "      <td>...</td>\n",
       "      <td>...</td>\n",
       "      <td>...</td>\n",
       "      <td>...</td>\n",
       "      <td>...</td>\n",
       "    </tr>\n",
       "    <tr>\n",
       "      <th>24110</th>\n",
       "      <td>545640.0</td>\n",
       "      <td>1.0</td>\n",
       "      <td>2.0</td>\n",
       "      <td>0.824798</td>\n",
       "      <td>166988.0</td>\n",
       "      <td>20.0</td>\n",
       "      <td>0.00</td>\n",
       "      <td>47141.0</td>\n",
       "    </tr>\n",
       "    <tr>\n",
       "      <th>93912</th>\n",
       "      <td>817686.0</td>\n",
       "      <td>1.0</td>\n",
       "      <td>2.0</td>\n",
       "      <td>0.319063</td>\n",
       "      <td>186845.0</td>\n",
       "      <td>1006.0</td>\n",
       "      <td>0.00</td>\n",
       "      <td>58105.0</td>\n",
       "    </tr>\n",
       "    <tr>\n",
       "      <th>37971</th>\n",
       "      <td>1884921.0</td>\n",
       "      <td>1.0</td>\n",
       "      <td>2.0</td>\n",
       "      <td>0.608476</td>\n",
       "      <td>215214.0</td>\n",
       "      <td>1337.0</td>\n",
       "      <td>0.00</td>\n",
       "      <td>30323.0</td>\n",
       "    </tr>\n",
       "    <tr>\n",
       "      <th>55127</th>\n",
       "      <td>2130487.0</td>\n",
       "      <td>0.0</td>\n",
       "      <td>2.0</td>\n",
       "      <td>0.945209</td>\n",
       "      <td>194133.0</td>\n",
       "      <td>43.0</td>\n",
       "      <td>0.00</td>\n",
       "      <td>14464.0</td>\n",
       "    </tr>\n",
       "    <tr>\n",
       "      <th>26497</th>\n",
       "      <td>2547326.0</td>\n",
       "      <td>1.0</td>\n",
       "      <td>2.0</td>\n",
       "      <td>0.674897</td>\n",
       "      <td>34735.0</td>\n",
       "      <td>1094.0</td>\n",
       "      <td>0.00</td>\n",
       "      <td>7666.0</td>\n",
       "    </tr>\n",
       "  </tbody>\n",
       "</table>\n",
       "<p>176802 rows × 8 columns</p>\n",
       "</div>"
      ],
      "text/plain": [
       "            code  Type_of_currency_1  Type_of_currency_2  Currency  \\\n",
       "82017    18732.0                 0.0                 2.0  0.836278   \n",
       "62422   748831.0                 0.0                 2.0  0.144871   \n",
       "21793   390774.0                 0.0                 1.0  0.791888   \n",
       "904     307833.0                 0.0                 2.0  0.176922   \n",
       "20693    94460.0                 1.0                 2.0  0.845318   \n",
       "...          ...                 ...                 ...       ...   \n",
       "24110   545640.0                 1.0                 2.0  0.824798   \n",
       "93912   817686.0                 1.0                 2.0  0.319063   \n",
       "37971  1884921.0                 1.0                 2.0  0.608476   \n",
       "55127  2130487.0                 0.0                 2.0  0.945209   \n",
       "26497  2547326.0                 1.0                 2.0  0.674897   \n",
       "\n",
       "       Transaction_date  Delivery_date  Rate    Price  \n",
       "82017            4683.0         1207.0  0.00  30322.0  \n",
       "62422           19533.0           85.0  0.00  38917.0  \n",
       "21793          104277.0          770.0  0.55  58105.0  \n",
       "904             50566.0          247.0  0.00  58105.0  \n",
       "20693          191589.0           84.0  0.00  58105.0  \n",
       "...                 ...            ...   ...      ...  \n",
       "24110          166988.0           20.0  0.00  47141.0  \n",
       "93912          186845.0         1006.0  0.00  58105.0  \n",
       "37971          215214.0         1337.0  0.00  30323.0  \n",
       "55127          194133.0           43.0  0.00  14464.0  \n",
       "26497           34735.0         1094.0  0.00   7666.0  \n",
       "\n",
       "[176802 rows x 8 columns]"
      ]
     },
     "execution_count": 101,
     "metadata": {},
     "output_type": "execute_result"
    }
   ],
   "source": [
    "X_train"
   ]
  },
  {
   "cell_type": "code",
   "execution_count": 102,
   "metadata": {},
   "outputs": [
    {
     "data": {
      "text/plain": [
       "82017    0.0\n",
       "62422    0.0\n",
       "21793    2.0\n",
       "904      1.0\n",
       "20693    1.0\n",
       "        ... \n",
       "24110    0.0\n",
       "93912    1.0\n",
       "37971    0.0\n",
       "55127    0.0\n",
       "26497    0.0\n",
       "Name: True_type_of_transaction, Length: 176802, dtype: float32"
      ]
     },
     "execution_count": 102,
     "metadata": {},
     "output_type": "execute_result"
    }
   ],
   "source": [
    "y_train"
   ]
  },
  {
   "cell_type": "code",
   "execution_count": 55,
   "metadata": {},
   "outputs": [],
   "source": [
    "# determine the number of input features\n",
    "n_features = X_train.shape[1]\n"
   ]
  },
  {
   "cell_type": "code",
   "execution_count": 56,
   "metadata": {},
   "outputs": [
    {
     "data": {
      "text/plain": [
       "8"
      ]
     },
     "execution_count": 56,
     "metadata": {},
     "output_type": "execute_result"
    }
   ],
   "source": [
    "n_features"
   ]
  },
  {
   "cell_type": "code",
   "execution_count": 57,
   "metadata": {},
   "outputs": [
    {
     "name": "stdout",
     "output_type": "stream",
     "text": [
      "Epoch 1/25\n",
      "3868/3868 [==============================] - 9s 2ms/step - loss: 8252.8252 - accuracy: 0.4901 - val_loss: 725.7750 - val_accuracy: 0.5184\n",
      "Epoch 2/25\n",
      "3868/3868 [==============================] - 8s 2ms/step - loss: 458.5388 - accuracy: 0.5992 - val_loss: 388.0474 - val_accuracy: 0.5572\n",
      "Epoch 3/25\n",
      "3868/3868 [==============================] - 8s 2ms/step - loss: 420.1891 - accuracy: 0.6321 - val_loss: 83.3266 - val_accuracy: 0.6907\n",
      "Epoch 4/25\n",
      "3868/3868 [==============================] - 8s 2ms/step - loss: 386.2885 - accuracy: 0.6266 - val_loss: 227.7581 - val_accuracy: 0.6475\n",
      "Epoch 5/25\n",
      "3868/3868 [==============================] - 8s 2ms/step - loss: 377.4062 - accuracy: 0.6145 - val_loss: 261.5945 - val_accuracy: 0.6044\n",
      "Epoch 6/25\n",
      "3868/3868 [==============================] - 8s 2ms/step - loss: 344.9115 - accuracy: 0.5905 - val_loss: 397.9483 - val_accuracy: 0.5749\n",
      "Epoch 7/25\n",
      "3868/3868 [==============================] - 8s 2ms/step - loss: 281.5361 - accuracy: 0.5647 - val_loss: 119.7172 - val_accuracy: 0.5908\n",
      "Epoch 8/25\n",
      "3868/3868 [==============================] - 8s 2ms/step - loss: 238.5720 - accuracy: 0.5483 - val_loss: 306.7026 - val_accuracy: 0.5138\n",
      "Epoch 9/25\n",
      "3868/3868 [==============================] - 8s 2ms/step - loss: 197.0787 - accuracy: 0.5344 - val_loss: 139.6215 - val_accuracy: 0.5262\n",
      "Epoch 10/25\n",
      "3868/3868 [==============================] - 8s 2ms/step - loss: 142.9622 - accuracy: 0.5123 - val_loss: 106.7996 - val_accuracy: 0.4916\n",
      "Epoch 11/25\n",
      "3868/3868 [==============================] - 8s 2ms/step - loss: 64.7666 - accuracy: 0.4526 - val_loss: 1.0941 - val_accuracy: 0.3747\n",
      "Epoch 12/25\n",
      "3868/3868 [==============================] - 9s 2ms/step - loss: 1.0940 - accuracy: 0.3753 - val_loss: 1.0939 - val_accuracy: 0.3747\n",
      "Epoch 13/25\n",
      "3868/3868 [==============================] - 9s 2ms/step - loss: 1.0939 - accuracy: 0.3753 - val_loss: 1.0942 - val_accuracy: 0.3747\n",
      "Epoch 14/25\n",
      "3868/3868 [==============================] - 7s 2ms/step - loss: 1.0939 - accuracy: 0.3753 - val_loss: 1.0940 - val_accuracy: 0.3747\n",
      "Epoch 15/25\n",
      "3868/3868 [==============================] - 7s 2ms/step - loss: 1.0939 - accuracy: 0.3753 - val_loss: 1.0942 - val_accuracy: 0.3747\n",
      "Epoch 16/25\n",
      "3868/3868 [==============================] - 7s 2ms/step - loss: 1.0939 - accuracy: 0.3753 - val_loss: 1.0940 - val_accuracy: 0.3747\n",
      "Epoch 17/25\n",
      "3868/3868 [==============================] - 7s 2ms/step - loss: 1.0939 - accuracy: 0.3753 - val_loss: 1.0940 - val_accuracy: 0.3747\n",
      "Epoch 18/25\n",
      "3868/3868 [==============================] - 7s 2ms/step - loss: 1.0940 - accuracy: 0.3753 - val_loss: 1.0939 - val_accuracy: 0.3747\n",
      "Epoch 19/25\n",
      "3868/3868 [==============================] - 7s 2ms/step - loss: 1.0940 - accuracy: 0.3753 - val_loss: 1.0939 - val_accuracy: 0.3747\n",
      "Epoch 20/25\n",
      "3868/3868 [==============================] - 7s 2ms/step - loss: 1.0939 - accuracy: 0.3753 - val_loss: 1.0941 - val_accuracy: 0.3747\n",
      "Epoch 21/25\n",
      "3868/3868 [==============================] - 7s 2ms/step - loss: 1.0940 - accuracy: 0.3753 - val_loss: 1.0940 - val_accuracy: 0.3747\n",
      "Epoch 22/25\n",
      "3868/3868 [==============================] - 7s 2ms/step - loss: 1.0939 - accuracy: 0.3753 - val_loss: 1.0939 - val_accuracy: 0.3747\n",
      "Epoch 23/25\n",
      "3868/3868 [==============================] - 7s 2ms/step - loss: 1.0940 - accuracy: 0.3753 - val_loss: 1.0939 - val_accuracy: 0.3747\n",
      "Epoch 24/25\n",
      "3868/3868 [==============================] - 7s 2ms/step - loss: 1.0939 - accuracy: 0.3753 - val_loss: 1.0940 - val_accuracy: 0.3747\n",
      "Epoch 25/25\n",
      "3868/3868 [==============================] - 7s 2ms/step - loss: 1.0939 - accuracy: 0.3753 - val_loss: 1.0940 - val_accuracy: 0.3747\n"
     ]
    }
   ],
   "source": [
    "# Model defining\n",
    "model = Sequential()\n",
    "model.add(Dense(8, input_shape=(n_features,)))\n",
    "model.add(Activation('relu'))\n",
    "model.add(Dense(6))\n",
    "model.add(Activation('relu'))\n",
    "model.add(Dense(3))\n",
    "model.add(Activation('softmax'))\n",
    "model.compile(optimizer='adam', loss='sparse_categorical_crossentropy', metrics=['accuracy'])\n",
    "history1 = model.fit(X_train, y_train, epochs=25, verbose=1, validation_split = 0.3)"
   ]
  },
  {
   "cell_type": "code",
   "execution_count": 58,
   "metadata": {},
   "outputs": [
    {
     "data": {
      "image/png": "[encoded data removed]",
      "text/plain": [
       "<Figure size 640x480 with 1 Axes>"
      ]
     },
     "metadata": {},
     "output_type": "display_data"
    },
    {
     "data": {
      "image/png": "[encoded data removed]",
      "text/plain": [
       "<Figure size 640x480 with 1 Axes>"
      ]
     },
     "metadata": {},
     "output_type": "display_data"
    }
   ],
   "source": [
    "plt.plot(history1.history['accuracy'])\n",
    "plt.plot(history1.history['val_accuracy'])\n",
    "\n",
    "plt.title('model accuracy')\n",
    "plt.ylabel('accuracy')\n",
    "plt.xlabel('epoch')\n",
    "plt.legend(['train','test'], loc='upper left')\n",
    "plt.show()\n",
    "\n",
    "plt.plot(history1.history['loss'])\n",
    "plt.plot(history1.history['val_loss'])\n",
    "\n",
    "plt.title('model loss')\n",
    "plt.ylabel('loss')\n",
    "plt.xlabel('epoch')\n",
    "plt.legend(['train','test'], loc='upper left')\n",
    "plt.show()"
   ]
  },
  {
   "cell_type": "code",
   "execution_count": 59,
   "metadata": {},
   "outputs": [],
   "source": [
    "# Model defining\n",
    "model = Sequential()\n",
    "model.add(Dense(8, kernel_initializer='he_normal', input_shape=(n_features,)))\n",
    "model.add(BatchNormalization())\n",
    "model.add(Activation('elu'))\n",
    "model.add(Dense(6, kernel_initializer='he_normal'))\n",
    "model.add(BatchNormalization())\n",
    "model.add(Activation('elu'))\n",
    "model.add(Dense(3))\n",
    "model.add(Activation('softmax'))\n"
   ]
  },
  {
   "cell_type": "code",
   "execution_count": 60,
   "metadata": {},
   "outputs": [],
   "source": [
    "# compile the modelD\n",
    "opt = optimizers.SGD(learning_rate=0.001)"
   ]
  },
  {
   "cell_type": "code",
   "execution_count": 61,
   "metadata": {},
   "outputs": [],
   "source": [
    "model.compile(optimizer=opt, loss='sparse_categorical_crossentropy', metrics=['accuracy'])\n"
   ]
  },
  {
   "cell_type": "code",
   "execution_count": 62,
   "metadata": {},
   "outputs": [
    {
     "name": "stdout",
     "output_type": "stream",
     "text": [
      "Epoch 1/100\n",
      "3868/3868 [==============================] - 9s 2ms/step - loss: 1.0043 - accuracy: 0.5260 - val_loss: 0.9868 - val_accuracy: 0.5941\n",
      "Epoch 2/100\n",
      "3868/3868 [==============================] - 8s 2ms/step - loss: 0.7564 - accuracy: 0.6587 - val_loss: 0.8551 - val_accuracy: 0.6002\n",
      "Epoch 3/100\n",
      "3868/3868 [==============================] - 8s 2ms/step - loss: 0.6959 - accuracy: 0.6574 - val_loss: 1.0506 - val_accuracy: 0.5858\n",
      "Epoch 4/100\n",
      "3868/3868 [==============================] - 8s 2ms/step - loss: 0.6792 - accuracy: 0.6556 - val_loss: 0.6805 - val_accuracy: 0.6748\n",
      "Epoch 5/100\n",
      "3868/3868 [==============================] - 8s 2ms/step - loss: 0.6691 - accuracy: 0.6513 - val_loss: 0.8358 - val_accuracy: 0.5288\n",
      "Epoch 6/100\n",
      "3868/3868 [==============================] - 8s 2ms/step - loss: 0.6635 - accuracy: 0.6480 - val_loss: 0.8085 - val_accuracy: 0.6180\n",
      "Epoch 7/100\n",
      "3868/3868 [==============================] - 8s 2ms/step - loss: 0.6511 - accuracy: 0.6534 - val_loss: 1.9926 - val_accuracy: 0.5696\n",
      "Epoch 8/100\n",
      "3868/3868 [==============================] - 8s 2ms/step - loss: 0.6508 - accuracy: 0.6524 - val_loss: 0.6074 - val_accuracy: 0.6638\n",
      "Epoch 9/100\n",
      "3868/3868 [==============================] - 8s 2ms/step - loss: 0.6459 - accuracy: 0.6533 - val_loss: 0.7765 - val_accuracy: 0.6353\n",
      "Epoch 10/100\n",
      "3868/3868 [==============================] - 8s 2ms/step - loss: 0.6413 - accuracy: 0.6546 - val_loss: 0.7036 - val_accuracy: 0.6447\n",
      "Epoch 11/100\n",
      "3868/3868 [==============================] - 9s 2ms/step - loss: 0.6392 - accuracy: 0.6543 - val_loss: 0.9686 - val_accuracy: 0.5879\n",
      "Epoch 12/100\n",
      "3868/3868 [==============================] - 8s 2ms/step - loss: 0.6392 - accuracy: 0.6549 - val_loss: 1.4252 - val_accuracy: 0.5704\n",
      "Epoch 13/100\n",
      "3868/3868 [==============================] - 8s 2ms/step - loss: 0.6362 - accuracy: 0.6551 - val_loss: 0.6522 - val_accuracy: 0.6545\n",
      "Epoch 14/100\n",
      "3868/3868 [==============================] - 8s 2ms/step - loss: 0.6407 - accuracy: 0.6528 - val_loss: 0.5982 - val_accuracy: 0.6710\n",
      "Epoch 15/100\n",
      "3868/3868 [==============================] - 8s 2ms/step - loss: 0.6356 - accuracy: 0.6538 - val_loss: 0.7120 - val_accuracy: 0.6417\n",
      "Epoch 16/100\n",
      "3868/3868 [==============================] - 8s 2ms/step - loss: 0.6319 - accuracy: 0.6558 - val_loss: 2.2658 - val_accuracy: 0.5741\n",
      "Epoch 17/100\n",
      "3868/3868 [==============================] - 8s 2ms/step - loss: 0.6309 - accuracy: 0.6563 - val_loss: 0.6091 - val_accuracy: 0.6667\n",
      "Epoch 18/100\n",
      "3868/3868 [==============================] - 8s 2ms/step - loss: 0.6323 - accuracy: 0.6559 - val_loss: 1.5795 - val_accuracy: 0.5961\n",
      "Epoch 19/100\n",
      "3868/3868 [==============================] - 8s 2ms/step - loss: 0.6337 - accuracy: 0.6552 - val_loss: 3.0093 - val_accuracy: 0.5559\n",
      "Epoch 20/100\n",
      "3868/3868 [==============================] - 8s 2ms/step - loss: 0.6305 - accuracy: 0.6555 - val_loss: 1.1609 - val_accuracy: 0.6022\n",
      "Epoch 21/100\n",
      "3868/3868 [==============================] - 8s 2ms/step - loss: 0.6292 - accuracy: 0.6554 - val_loss: 0.8190 - val_accuracy: 0.6374\n",
      "Epoch 22/100\n",
      "3868/3868 [==============================] - 8s 2ms/step - loss: 0.6277 - accuracy: 0.6565 - val_loss: 0.6464 - val_accuracy: 0.6554\n",
      "Epoch 23/100\n",
      "3868/3868 [==============================] - 8s 2ms/step - loss: 0.6281 - accuracy: 0.6556 - val_loss: 0.7534 - val_accuracy: 0.6432\n",
      "Epoch 24/100\n",
      "3868/3868 [==============================] - 8s 2ms/step - loss: 0.6283 - accuracy: 0.6558 - val_loss: 0.6851 - val_accuracy: 0.5971\n",
      "Epoch 25/100\n",
      "3868/3868 [==============================] - 8s 2ms/step - loss: 0.6256 - accuracy: 0.6565 - val_loss: 1.1542 - val_accuracy: 0.6006\n",
      "Epoch 26/100\n",
      "3868/3868 [==============================] - 9s 2ms/step - loss: 0.6275 - accuracy: 0.6565 - val_loss: 0.7629 - val_accuracy: 0.6394\n",
      "Epoch 27/100\n",
      "3868/3868 [==============================] - 8s 2ms/step - loss: 0.6278 - accuracy: 0.6555 - val_loss: 0.5905 - val_accuracy: 0.6643\n",
      "Epoch 28/100\n",
      "3868/3868 [==============================] - 9s 2ms/step - loss: 0.6240 - accuracy: 0.6577 - val_loss: 1.5248 - val_accuracy: 0.5934\n",
      "Epoch 29/100\n",
      "3868/3868 [==============================] - 8s 2ms/step - loss: 0.6256 - accuracy: 0.6569 - val_loss: 0.5723 - val_accuracy: 0.6756\n",
      "Epoch 30/100\n",
      "3868/3868 [==============================] - 8s 2ms/step - loss: 0.6259 - accuracy: 0.6569 - val_loss: 0.6381 - val_accuracy: 0.6614\n",
      "Epoch 31/100\n",
      "3868/3868 [==============================] - 8s 2ms/step - loss: 0.6209 - accuracy: 0.6575 - val_loss: 1.6776 - val_accuracy: 0.5807\n",
      "Epoch 32/100\n",
      "3868/3868 [==============================] - 9s 2ms/step - loss: 0.6275 - accuracy: 0.6558 - val_loss: 2.0723 - val_accuracy: 0.5692\n",
      "Epoch 33/100\n",
      "3868/3868 [==============================] - 9s 2ms/step - loss: 0.6279 - accuracy: 0.6556 - val_loss: 3.0980 - val_accuracy: 0.5099\n",
      "Epoch 34/100\n",
      "3868/3868 [==============================] - 8s 2ms/step - loss: 0.6244 - accuracy: 0.6559 - val_loss: 0.7878 - val_accuracy: 0.6448\n",
      "Epoch 35/100\n",
      "3868/3868 [==============================] - 9s 2ms/step - loss: 0.6231 - accuracy: 0.6576 - val_loss: 0.7623 - val_accuracy: 0.5950\n",
      "Epoch 36/100\n",
      "3868/3868 [==============================] - 8s 2ms/step - loss: 0.6220 - accuracy: 0.6563 - val_loss: 1.4160 - val_accuracy: 0.5756\n",
      "Epoch 37/100\n",
      "3868/3868 [==============================] - 8s 2ms/step - loss: 0.6258 - accuracy: 0.6565 - val_loss: 1.1584 - val_accuracy: 0.6102\n",
      "Epoch 38/100\n",
      "3868/3868 [==============================] - 8s 2ms/step - loss: 0.6183 - accuracy: 0.6588 - val_loss: 0.5966 - val_accuracy: 0.6640\n",
      "Epoch 39/100\n",
      "3868/3868 [==============================] - 8s 2ms/step - loss: 0.6206 - accuracy: 0.6576 - val_loss: 0.8256 - val_accuracy: 0.6287\n",
      "Epoch 40/100\n",
      "3868/3868 [==============================] - 9s 2ms/step - loss: 0.6207 - accuracy: 0.6594 - val_loss: 0.6255 - val_accuracy: 0.6579\n",
      "Epoch 41/100\n",
      "3868/3868 [==============================] - 9s 2ms/step - loss: 0.6233 - accuracy: 0.6565 - val_loss: 0.7484 - val_accuracy: 0.6389\n",
      "Epoch 42/100\n",
      "3868/3868 [==============================] - 8s 2ms/step - loss: 0.6215 - accuracy: 0.6572 - val_loss: 0.7802 - val_accuracy: 0.6328\n",
      "Epoch 43/100\n",
      "3868/3868 [==============================] - 9s 2ms/step - loss: 0.6216 - accuracy: 0.6569 - val_loss: 4.2376 - val_accuracy: 0.4707\n",
      "Epoch 44/100\n",
      "3868/3868 [==============================] - 9s 2ms/step - loss: 0.6186 - accuracy: 0.6589 - val_loss: 2.4240 - val_accuracy: 0.5501\n",
      "Epoch 45/100\n",
      "3868/3868 [==============================] - 9s 2ms/step - loss: 0.6217 - accuracy: 0.6587 - val_loss: 0.7892 - val_accuracy: 0.6316\n",
      "Epoch 46/100\n",
      "3868/3868 [==============================] - 9s 2ms/step - loss: 0.6235 - accuracy: 0.6569 - val_loss: 0.6052 - val_accuracy: 0.6667\n",
      "Epoch 47/100\n",
      "3868/3868 [==============================] - 9s 2ms/step - loss: 0.6162 - accuracy: 0.6588 - val_loss: 0.5909 - val_accuracy: 0.6683\n",
      "Epoch 48/100\n",
      "3868/3868 [==============================] - 8s 2ms/step - loss: 0.6210 - accuracy: 0.6576 - val_loss: 0.5797 - val_accuracy: 0.6766\n",
      "Epoch 49/100\n",
      "3868/3868 [==============================] - 8s 2ms/step - loss: 0.6172 - accuracy: 0.6593 - val_loss: 0.5757 - val_accuracy: 0.6735\n",
      "Epoch 50/100\n",
      "3868/3868 [==============================] - 8s 2ms/step - loss: 0.6155 - accuracy: 0.6589 - val_loss: 0.6784 - val_accuracy: 0.6009\n",
      "Epoch 51/100\n",
      "3868/3868 [==============================] - 8s 2ms/step - loss: 0.6203 - accuracy: 0.6561 - val_loss: 0.6678 - val_accuracy: 0.6501\n",
      "Epoch 52/100\n",
      "3868/3868 [==============================] - 8s 2ms/step - loss: 0.6150 - accuracy: 0.6610 - val_loss: 2.5748 - val_accuracy: 0.5602\n",
      "Epoch 53/100\n",
      "3868/3868 [==============================] - 8s 2ms/step - loss: 0.6143 - accuracy: 0.6599 - val_loss: 0.5731 - val_accuracy: 0.6634\n",
      "Epoch 54/100\n",
      "3868/3868 [==============================] - 8s 2ms/step - loss: 0.6141 - accuracy: 0.6582 - val_loss: 0.5676 - val_accuracy: 0.6591\n",
      "Epoch 55/100\n",
      "3868/3868 [==============================] - 8s 2ms/step - loss: 0.6215 - accuracy: 0.6570 - val_loss: 0.8063 - val_accuracy: 0.6246\n",
      "Epoch 56/100\n",
      "3868/3868 [==============================] - 8s 2ms/step - loss: 0.6170 - accuracy: 0.6587 - val_loss: 10.6449 - val_accuracy: 0.4631\n",
      "Epoch 57/100\n",
      "3868/3868 [==============================] - 8s 2ms/step - loss: 0.6181 - accuracy: 0.6577 - val_loss: 3.4508 - val_accuracy: 0.5304\n",
      "Epoch 58/100\n",
      "3868/3868 [==============================] - 8s 2ms/step - loss: 0.6162 - accuracy: 0.6588 - val_loss: 0.6322 - val_accuracy: 0.6552\n",
      "Epoch 59/100\n",
      "3868/3868 [==============================] - 9s 2ms/step - loss: 0.6161 - accuracy: 0.6584 - val_loss: 0.9237 - val_accuracy: 0.6181\n",
      "Epoch 60/100\n",
      "3868/3868 [==============================] - 8s 2ms/step - loss: 0.6201 - accuracy: 0.6567 - val_loss: 0.9938 - val_accuracy: 0.6111\n",
      "Epoch 61/100\n",
      "3868/3868 [==============================] - 8s 2ms/step - loss: 0.6140 - accuracy: 0.6590 - val_loss: 0.6572 - val_accuracy: 0.6078\n",
      "Epoch 62/100\n",
      "3868/3868 [==============================] - 8s 2ms/step - loss: 0.6246 - accuracy: 0.6563 - val_loss: 0.6474 - val_accuracy: 0.6524\n",
      "Epoch 63/100\n",
      "3868/3868 [==============================] - 8s 2ms/step - loss: 0.6116 - accuracy: 0.6597 - val_loss: 0.8031 - val_accuracy: 0.6274\n",
      "Epoch 64/100\n",
      "3868/3868 [==============================] - 8s 2ms/step - loss: 0.6159 - accuracy: 0.6569 - val_loss: 0.5665 - val_accuracy: 0.6718\n",
      "Epoch 65/100\n",
      "3868/3868 [==============================] - 9s 2ms/step - loss: 0.6148 - accuracy: 0.6583 - val_loss: 1.0444 - val_accuracy: 0.6055\n",
      "Epoch 66/100\n",
      "3868/3868 [==============================] - 8s 2ms/step - loss: 0.6131 - accuracy: 0.6580 - val_loss: 0.5808 - val_accuracy: 0.6804\n",
      "Epoch 67/100\n",
      "3868/3868 [==============================] - 8s 2ms/step - loss: 0.6135 - accuracy: 0.6596 - val_loss: 0.6244 - val_accuracy: 0.6551\n",
      "Epoch 68/100\n",
      "3868/3868 [==============================] - 8s 2ms/step - loss: 0.6151 - accuracy: 0.6587 - val_loss: 0.6375 - val_accuracy: 0.6540\n",
      "Epoch 69/100\n",
      "3868/3868 [==============================] - 8s 2ms/step - loss: 0.6126 - accuracy: 0.6596 - val_loss: 0.6092 - val_accuracy: 0.6586\n",
      "Epoch 70/100\n",
      "3868/3868 [==============================] - 8s 2ms/step - loss: 0.6164 - accuracy: 0.6564 - val_loss: 0.6653 - val_accuracy: 0.6499\n",
      "Epoch 71/100\n",
      "3868/3868 [==============================] - 8s 2ms/step - loss: 0.6149 - accuracy: 0.6572 - val_loss: 0.5976 - val_accuracy: 0.6626\n",
      "Epoch 72/100\n",
      "3868/3868 [==============================] - 8s 2ms/step - loss: 0.6132 - accuracy: 0.6592 - val_loss: 0.9006 - val_accuracy: 0.6174\n",
      "Epoch 73/100\n",
      "3868/3868 [==============================] - 8s 2ms/step - loss: 0.6157 - accuracy: 0.6568 - val_loss: 0.5958 - val_accuracy: 0.6830\n",
      "Epoch 74/100\n",
      "3868/3868 [==============================] - 8s 2ms/step - loss: 0.6141 - accuracy: 0.6572 - val_loss: 0.6442 - val_accuracy: 0.6520\n",
      "Epoch 75/100\n",
      "3868/3868 [==============================] - 8s 2ms/step - loss: 0.6155 - accuracy: 0.6591 - val_loss: 1.4592 - val_accuracy: 0.5838\n",
      "Epoch 76/100\n",
      "3868/3868 [==============================] - 8s 2ms/step - loss: 0.6124 - accuracy: 0.6575 - val_loss: 1.0188 - val_accuracy: 0.5779\n",
      "Epoch 77/100\n",
      "3868/3868 [==============================] - 8s 2ms/step - loss: 0.6158 - accuracy: 0.6569 - val_loss: 4.0268 - val_accuracy: 0.5138\n",
      "Epoch 78/100\n",
      "3868/3868 [==============================] - 8s 2ms/step - loss: 0.6130 - accuracy: 0.6572 - val_loss: 0.5706 - val_accuracy: 0.6743\n",
      "Epoch 79/100\n",
      "3868/3868 [==============================] - 8s 2ms/step - loss: 0.6114 - accuracy: 0.6579 - val_loss: 0.6689 - val_accuracy: 0.6459\n",
      "Epoch 80/100\n",
      "3868/3868 [==============================] - 8s 2ms/step - loss: 0.6150 - accuracy: 0.6570 - val_loss: 0.8394 - val_accuracy: 0.6231\n",
      "Epoch 81/100\n",
      "3868/3868 [==============================] - 8s 2ms/step - loss: 0.6152 - accuracy: 0.6560 - val_loss: 0.6825 - val_accuracy: 0.6451\n",
      "Epoch 82/100\n",
      "3868/3868 [==============================] - 8s 2ms/step - loss: 0.6142 - accuracy: 0.6557 - val_loss: 0.5662 - val_accuracy: 0.6733\n",
      "Epoch 83/100\n",
      "3868/3868 [==============================] - 8s 2ms/step - loss: 0.6090 - accuracy: 0.6587 - val_loss: 0.9052 - val_accuracy: 0.5827\n",
      "Epoch 84/100\n",
      "3868/3868 [==============================] - 8s 2ms/step - loss: 0.6080 - accuracy: 0.6578 - val_loss: 0.6342 - val_accuracy: 0.6520\n",
      "Epoch 85/100\n",
      "3868/3868 [==============================] - 8s 2ms/step - loss: 0.6105 - accuracy: 0.6567 - val_loss: 0.5921 - val_accuracy: 0.6508\n",
      "Epoch 86/100\n",
      "3868/3868 [==============================] - 8s 2ms/step - loss: 0.6140 - accuracy: 0.6556 - val_loss: 0.5782 - val_accuracy: 0.6741\n",
      "Epoch 87/100\n",
      "3868/3868 [==============================] - 9s 2ms/step - loss: 0.6102 - accuracy: 0.6593 - val_loss: 0.7584 - val_accuracy: 0.6326\n",
      "Epoch 88/100\n",
      "3868/3868 [==============================] - 8s 2ms/step - loss: 0.6126 - accuracy: 0.6570 - val_loss: 0.7345 - val_accuracy: 0.6362\n",
      "Epoch 89/100\n",
      "3868/3868 [==============================] - 8s 2ms/step - loss: 0.6135 - accuracy: 0.6571 - val_loss: 0.9825 - val_accuracy: 0.6087\n",
      "Epoch 90/100\n",
      "3868/3868 [==============================] - 8s 2ms/step - loss: 0.6123 - accuracy: 0.6578 - val_loss: 0.5826 - val_accuracy: 0.6810\n",
      "Epoch 91/100\n",
      "3868/3868 [==============================] - 8s 2ms/step - loss: 0.6118 - accuracy: 0.6581 - val_loss: 0.5802 - val_accuracy: 0.6719\n",
      "Epoch 92/100\n",
      "3868/3868 [==============================] - 8s 2ms/step - loss: 0.6126 - accuracy: 0.6574 - val_loss: 0.9135 - val_accuracy: 0.5858\n",
      "Epoch 93/100\n",
      "3868/3868 [==============================] - 8s 2ms/step - loss: 0.6144 - accuracy: 0.6583 - val_loss: 0.8103 - val_accuracy: 0.6236\n",
      "Epoch 94/100\n",
      "3868/3868 [==============================] - 8s 2ms/step - loss: 0.6150 - accuracy: 0.6577 - val_loss: 0.6488 - val_accuracy: 0.6387\n",
      "Epoch 95/100\n",
      "3868/3868 [==============================] - 8s 2ms/step - loss: 0.6155 - accuracy: 0.6571 - val_loss: 5.3318 - val_accuracy: 0.4730\n",
      "Epoch 96/100\n",
      "3868/3868 [==============================] - 9s 2ms/step - loss: 0.6142 - accuracy: 0.6579 - val_loss: 0.6652 - val_accuracy: 0.6005\n",
      "Epoch 97/100\n",
      "3868/3868 [==============================] - 10s 3ms/step - loss: 0.6115 - accuracy: 0.6580 - val_loss: 0.5867 - val_accuracy: 0.6861\n",
      "Epoch 98/100\n",
      "3868/3868 [==============================] - 9s 2ms/step - loss: 0.6102 - accuracy: 0.6599 - val_loss: 0.5683 - val_accuracy: 0.6718\n",
      "Epoch 99/100\n",
      "3868/3868 [==============================] - 9s 2ms/step - loss: 0.6102 - accuracy: 0.6637 - val_loss: 2.0408 - val_accuracy: 0.5753\n",
      "Epoch 100/100\n",
      "3868/3868 [==============================] - 9s 2ms/step - loss: 0.6029 - accuracy: 0.6778 - val_loss: 0.6546 - val_accuracy: 0.6678\n"
     ]
    }
   ],
   "source": [
    "# fit the model\n",
    "history = model.fit(X_train, y_train, epochs=100, verbose=1, validation_split = 0.3)"
   ]
  },
  {
   "cell_type": "code",
   "execution_count": 63,
   "metadata": {},
   "outputs": [
    {
     "name": "stdout",
     "output_type": "stream",
     "text": [
      "Test Score: 0.6542771458625793\n",
      "Test Accuracy: 0.6663030385971069\n"
     ]
    }
   ],
   "source": [
    "# evaluate the model\n",
    "score = model.evaluate(X_test, y_test, verbose=0)\n",
    "print(\"Test Score:\", score[0])\n",
    "print(\"Test Accuracy:\", score[1])"
   ]
  },
  {
   "cell_type": "code",
   "execution_count": 64,
   "metadata": {},
   "outputs": [
    {
     "name": "stdout",
     "output_type": "stream",
     "text": [
      "2722/2722 [==============================] - 4s 1ms/step\n"
     ]
    },
    {
     "data": {
      "text/plain": [
       "array([[0.02883533, 0.32904142, 0.6421232 ],\n",
       "       [0.00810431, 0.46627435, 0.5256213 ],\n",
       "       [0.99647033, 0.0020728 , 0.00145689],\n",
       "       ...,\n",
       "       [0.02002273, 0.41081196, 0.5691653 ],\n",
       "       [0.02806413, 0.38759848, 0.5843374 ],\n",
       "       [0.00438112, 0.4835093 , 0.5121095 ]], dtype=float32)"
      ]
     },
     "execution_count": 64,
     "metadata": {},
     "output_type": "execute_result"
    }
   ],
   "source": [
    "# make a prediction\n",
    "y_pred = model.predict(X_test)\n",
    "y_pred"
   ]
  },
  {
   "cell_type": "code",
   "execution_count": 65,
   "metadata": {},
   "outputs": [
    {
     "data": {
      "image/png": "[encoded data removed]",
      "text/plain": [
       "<Figure size 640x480 with 1 Axes>"
      ]
     },
     "metadata": {},
     "output_type": "display_data"
    },
    {
     "data": {
      "image/png": "[encoded data removed]",
      "text/plain": [
       "<Figure size 640x480 with 1 Axes>"
      ]
     },
     "metadata": {},
     "output_type": "display_data"
    }
   ],
   "source": [
    "plt.plot(history.history['accuracy'])\n",
    "plt.plot(history.history['val_accuracy'])\n",
    "\n",
    "plt.title('model accuracy')\n",
    "plt.ylabel('accuracy')\n",
    "plt.xlabel('epoch')\n",
    "plt.legend(['train','test'], loc='upper left')\n",
    "plt.show()\n",
    "\n",
    "plt.plot(history.history['loss'])\n",
    "plt.plot(history.history['val_loss'])\n",
    "\n",
    "plt.title('model loss')\n",
    "plt.ylabel('loss')\n",
    "plt.xlabel('epoch')\n",
    "plt.legend(['train','test'], loc='upper left')\n",
    "plt.show()"
   ]
  },
  {
   "cell_type": "code",
   "execution_count": 66,
   "metadata": {},
   "outputs": [],
   "source": [
    "from sklearn import metrics"
   ]
  },
  {
   "cell_type": "code",
   "execution_count": 67,
   "metadata": {},
   "outputs": [],
   "source": [
    "y_pred = y_pred.round()"
   ]
  },
  {
   "cell_type": "code",
   "execution_count": 68,
   "metadata": {},
   "outputs": [],
   "source": [
    "y_test = y_test.round()"
   ]
  },
  {
   "cell_type": "code",
   "execution_count": 69,
   "metadata": {},
   "outputs": [],
   "source": [
    "y_pred = np.argmax(y_pred, axis=-1, keepdims=True)"
   ]
  },
  {
   "cell_type": "code",
   "execution_count": 70,
   "metadata": {},
   "outputs": [
    {
     "data": {
      "text/plain": [
       "array([[2],\n",
       "       [2],\n",
       "       [0],\n",
       "       ...,\n",
       "       [2],\n",
       "       [2],\n",
       "       [2]], dtype=int64)"
      ]
     },
     "execution_count": 70,
     "metadata": {},
     "output_type": "execute_result"
    }
   ],
   "source": [
    "y_pred"
   ]
  },
  {
   "cell_type": "code",
   "execution_count": 71,
   "metadata": {},
   "outputs": [
    {
     "name": "stdout",
     "output_type": "stream",
     "text": [
      "[[25440    85  3187]\n",
      " [ 1336  1601 23037]\n",
      " [  302    37 32057]]\n"
     ]
    }
   ],
   "source": [
    "confusion = print(metrics.confusion_matrix(y_test, y_pred));"
   ]
  },
  {
   "cell_type": "code",
   "execution_count": 72,
   "metadata": {},
   "outputs": [],
   "source": [
    "def accuracy(y_true, y_pred):\n",
    "    \n",
    "    \"\"\"\n",
    "    Function to calculate accuracy\n",
    "    -> param y_true: list of true values\n",
    "    -> param y_pred: list of predicted values\n",
    "    -> return: accuracy score\n",
    "    \n",
    "    \"\"\"\n",
    "    \n",
    "    # Intitializing variable to store count of correctly predicted classes\n",
    "    correct_predictions = 0\n",
    "    \n",
    "    for yt, yp in zip(y_true, y_pred):\n",
    "        \n",
    "        if yt == yp:\n",
    "            \n",
    "            correct_predictions += 1\n",
    "    \n",
    "    #returns accuracy\n",
    "    return correct_predictions / len(y_true)"
   ]
  },
  {
   "cell_type": "code",
   "execution_count": 73,
   "metadata": {},
   "outputs": [
    {
     "data": {
      "text/plain": [
       "0.6786477113525183"
      ]
     },
     "execution_count": 73,
     "metadata": {},
     "output_type": "execute_result"
    }
   ],
   "source": [
    "accuracy(y_test, y_pred)"
   ]
  },
  {
   "cell_type": "code",
   "execution_count": 74,
   "metadata": {},
   "outputs": [],
   "source": [
    "#Computation of macro-averaged precision\n",
    "\n",
    "def macro_precision(y_true, y_pred):\n",
    "\n",
    "    # find the number of classes\n",
    "    num_classes = len(np.unique(y_true))\n",
    "\n",
    "    # initialize precision to 0\n",
    "    precision = 0\n",
    "    \n",
    "    # loop over all classes\n",
    "    for class_ in list(y_true.unique()):\n",
    "        \n",
    "        # all classes except current are considered negative\n",
    "        temp_true = [1 if p == class_ else 0 for p in y_true]\n",
    "        temp_pred = [1 if p == class_ else 0 for p in y_pred]\n",
    "        \n",
    "        \n",
    "        # compute true positive for current class\n",
    "        tp = true_positive(temp_true, temp_pred)\n",
    "        \n",
    "        # compute false positive for current class\n",
    "        fp = false_positive(temp_true, temp_pred)\n",
    "        \n",
    "        \n",
    "        # compute precision for current class\n",
    "        temp_precision = tp / (tp + fp + 1e-6)\n",
    "        # keep adding precision for all classes\n",
    "        precision += temp_precision\n",
    "        \n",
    "    # calculate and return average precision over all classes\n",
    "    precision /= num_classes\n",
    "    \n",
    "    return precision\n"
   ]
  },
  {
   "cell_type": "code",
   "execution_count": 75,
   "metadata": {},
   "outputs": [],
   "source": [
    "# Functions to compute True Positives, True Negatives, False Positives and False Negatives\n",
    "\n",
    "def true_positive(y_true, y_pred):\n",
    "    \n",
    "    tp = 0\n",
    "    \n",
    "    for yt, yp in zip(y_true, y_pred):\n",
    "        \n",
    "        if yt == 1 and yp == 1:\n",
    "            tp += 1\n",
    "    \n",
    "    return tp\n",
    "\n",
    "def true_negative(y_true, y_pred):\n",
    "    \n",
    "    tn = 0\n",
    "    \n",
    "    for yt, yp in zip(y_true, y_pred):\n",
    "        \n",
    "        if yt == 0 and yp == 0:\n",
    "            tn += 1\n",
    "            \n",
    "    return tn\n",
    "\n",
    "def false_positive(y_true, y_pred):\n",
    "    \n",
    "    fp = 0\n",
    "    \n",
    "    for yt, yp in zip(y_true, y_pred):\n",
    "        \n",
    "        if yt == 0 and yp == 1:\n",
    "            fp += 1\n",
    "            \n",
    "    return fp\n",
    "\n",
    "def false_negative(y_true, y_pred):\n",
    "    \n",
    "    fn = 0\n",
    "    \n",
    "    for yt, yp in zip(y_true, y_pred):\n",
    "        \n",
    "        if yt == 1 and yp == 0:\n",
    "            fn += 1\n",
    "            \n",
    "    return fn"
   ]
  },
  {
   "cell_type": "code",
   "execution_count": 76,
   "metadata": {},
   "outputs": [
    {
     "name": "stdout",
     "output_type": "stream",
     "text": [
      "Macro-averaged Precision score : 0.8062477974778367\n"
     ]
    }
   ],
   "source": [
    "print(f\"Macro-averaged Precision score : {macro_precision(y_test, y_pred) }\")"
   ]
  },
  {
   "cell_type": "code",
   "execution_count": 77,
   "metadata": {},
   "outputs": [],
   "source": [
    "def micro_precision(y_true, y_pred):\n",
    "\n",
    "\n",
    "    # find the number of classes \n",
    "    num_classes = len(np.unique(y_true))\n",
    "    \n",
    "    # initialize tp and fp to 0\n",
    "    tp = 0\n",
    "    fp = 0\n",
    "    \n",
    "    # loop over all classes\n",
    "    for class_ in y_true.unique():\n",
    "        \n",
    "        # all classes except current are considered negative\n",
    "        temp_true = [1 if p == class_ else 0 for p in y_true]\n",
    "        temp_pred = [1 if p == class_ else 0 for p in y_pred]\n",
    "        \n",
    "        # calculate true positive for current class\n",
    "        # and update overall tp\n",
    "        tp += true_positive(temp_true, temp_pred)\n",
    "        \n",
    "        # calculate false positive for current class\n",
    "        # and update overall tp\n",
    "        fp += false_positive(temp_true, temp_pred)\n",
    "        \n",
    "    # calculate and return overall precision\n",
    "    precision = tp / (tp + fp)\n",
    "    return precision"
   ]
  },
  {
   "cell_type": "code",
   "execution_count": 78,
   "metadata": {},
   "outputs": [
    {
     "name": "stdout",
     "output_type": "stream",
     "text": [
      "Micro-averaged Precision score : 0.6786477113525183\n"
     ]
    }
   ],
   "source": [
    "print(f\"Micro-averaged Precision score : {micro_precision(y_test, y_pred)}\")"
   ]
  },
  {
   "cell_type": "code",
   "execution_count": 79,
   "metadata": {},
   "outputs": [],
   "source": [
    "#Computation of macro-averaged recall\n",
    "\n",
    "def macro_recall(y_true, y_pred):\n",
    "\n",
    "    # find the number of classes\n",
    "    num_classes = len(np.unique(y_true))\n",
    "\n",
    "    # initialize recall to 0\n",
    "    recall = 0\n",
    "    \n",
    "    # loop over all classes\n",
    "    for class_ in list(y_true.unique()):\n",
    "        \n",
    "        # all classes except current are considered negative\n",
    "        temp_true = [1 if p == class_ else 0 for p in y_true]\n",
    "        temp_pred = [1 if p == class_ else 0 for p in y_pred]\n",
    "        \n",
    "        \n",
    "        # compute true positive for current class\n",
    "        tp = true_positive(temp_true, temp_pred)\n",
    "        \n",
    "        # compute false negative for current class\n",
    "        fn = false_negative(temp_true, temp_pred)\n",
    "        \n",
    "        \n",
    "        # compute recall for current class\n",
    "        temp_recall = tp / (tp + fn + 1e-6)\n",
    "        \n",
    "        # keep adding recall for all classes\n",
    "        recall += temp_recall\n",
    "        \n",
    "    # calculate and return average recall over all classes\n",
    "    recall /= num_classes\n",
    "    \n",
    "    return recall"
   ]
  },
  {
   "cell_type": "code",
   "execution_count": 80,
   "metadata": {},
   "outputs": [
    {
     "name": "stdout",
     "output_type": "stream",
     "text": [
      "Macro-averaged recall score : 0.6457383288612065\n"
     ]
    }
   ],
   "source": [
    "print(f\"Macro-averaged recall score : {macro_recall(y_test, y_pred)}\")"
   ]
  },
  {
   "cell_type": "code",
   "execution_count": 81,
   "metadata": {},
   "outputs": [],
   "source": [
    "def micro_recall(y_true, y_pred):\n",
    "\n",
    "\n",
    "    # find the number of classes \n",
    "    num_classes = len(np.unique(y_true))\n",
    "    \n",
    "    # initialize tp and fp to 0\n",
    "    tp = 0\n",
    "    fn = 0\n",
    "    \n",
    "    # loop over all classes\n",
    "    for class_ in y_true.unique():\n",
    "        \n",
    "        # all classes except current are considered negative\n",
    "        temp_true = [1 if p == class_ else 0 for p in y_true]\n",
    "        temp_pred = [1 if p == class_ else 0 for p in y_pred]\n",
    "        \n",
    "        # calculate true positive for current class\n",
    "        # and update overall tp\n",
    "        tp += true_positive(temp_true, temp_pred)\n",
    "        \n",
    "        # calculate false negative for current class\n",
    "        # and update overall tp\n",
    "        fn += false_negative(temp_true, temp_pred)\n",
    "        \n",
    "    # calculate and return overall recall\n",
    "    recall = tp / (tp + fn)\n",
    "    return recall"
   ]
  },
  {
   "cell_type": "code",
   "execution_count": 82,
   "metadata": {},
   "outputs": [
    {
     "name": "stdout",
     "output_type": "stream",
     "text": [
      "Micro-averaged recall score : 0.6786477113525183\n"
     ]
    }
   ],
   "source": [
    "print(f\"Micro-averaged recall score : {micro_recall(y_test, y_pred)}\")"
   ]
  },
  {
   "cell_type": "code",
   "execution_count": 83,
   "metadata": {},
   "outputs": [],
   "source": [
    "#Computation of macro-averaged fi score\n",
    "\n",
    "def macro_f1(y_true, y_pred):\n",
    "\n",
    "    # find the number of classes\n",
    "    num_classes = len(np.unique(y_true))\n",
    "\n",
    "    # initialize f1 to 0\n",
    "    f1 = 0\n",
    "    \n",
    "    # loop over all classes\n",
    "    for class_ in list(y_true.unique()):\n",
    "        \n",
    "        # all classes except current are considered negative\n",
    "        temp_true = [1 if p == class_ else 0 for p in y_true]\n",
    "        temp_pred = [1 if p == class_ else 0 for p in y_pred]\n",
    "        \n",
    "        \n",
    "        # compute true positive for current class\n",
    "        tp = true_positive(temp_true, temp_pred)\n",
    "        \n",
    "        # compute false negative for current class\n",
    "        fn = false_negative(temp_true, temp_pred)\n",
    "        \n",
    "        # compute false positive for current class\n",
    "        fp = false_positive(temp_true, temp_pred)\n",
    "        \n",
    "        \n",
    "        # compute recall for current class\n",
    "        temp_recall = tp / (tp + fn + 1e-6)\n",
    "        \n",
    "        # compute precision for current class\n",
    "        temp_precision = tp / (tp + fp + 1e-6)\n",
    "        \n",
    "        \n",
    "        temp_f1 = 2 * temp_precision * temp_recall / (temp_precision + temp_recall + 1e-6)\n",
    "        \n",
    "        # keep adding f1 score for all classes\n",
    "        f1 += temp_f1\n",
    "        \n",
    "    # calculate and return average f1 score over all classes\n",
    "    f1 /= num_classes\n",
    "    \n",
    "    return f1"
   ]
  },
  {
   "cell_type": "code",
   "execution_count": 84,
   "metadata": {},
   "outputs": [
    {
     "name": "stdout",
     "output_type": "stream",
     "text": [
      "Macro-averaged f1 score : 0.5782192104327364\n"
     ]
    }
   ],
   "source": [
    "print(f\"Macro-averaged f1 score : {macro_f1(y_test, y_pred)}\")"
   ]
  },
  {
   "cell_type": "code",
   "execution_count": 85,
   "metadata": {},
   "outputs": [],
   "source": [
    "def micro_f1(y_true, y_pred):\n",
    "\n",
    "\n",
    "    #micro-averaged precision score\n",
    "    P = micro_precision(y_true, y_pred)\n",
    "\n",
    "    #micro-averaged recall score\n",
    "    R = micro_recall(y_true, y_pred)\n",
    "\n",
    "    #micro averaged f1 score\n",
    "    f1 = 2*P*R / (P + R)    \n",
    "\n",
    "    return f1"
   ]
  },
  {
   "cell_type": "code",
   "execution_count": 86,
   "metadata": {},
   "outputs": [
    {
     "name": "stdout",
     "output_type": "stream",
     "text": [
      "Micro-averaged recall score : 0.6786477113525183\n"
     ]
    }
   ],
   "source": [
    "print(f\"Micro-averaged recall score : {micro_f1(y_test, y_pred)}\")"
   ]
  },
  {
   "cell_type": "code",
   "execution_count": 87,
   "metadata": {},
   "outputs": [],
   "source": [
    "from sklearn.metrics import roc_auc_score\n",
    "\n",
    "def roc_auc_score_multiclass(actual_class, pred_class, average = \"macro\"):\n",
    "    \n",
    "    #creating a set of all the unique classes using the actual class list\n",
    "    unique_class = set(actual_class)\n",
    "    roc_auc_dict = {}\n",
    "    for per_class in unique_class:\n",
    "        \n",
    "        #creating a list of all the classes except the current class \n",
    "        other_class = [x for x in unique_class if x != per_class]\n",
    "\n",
    "        #marking the current class as 1 and all other classes as 0\n",
    "        new_actual_class = [0 if x in other_class else 1 for x in actual_class]\n",
    "        new_pred_class = [0 if x in other_class else 1 for x in pred_class]\n",
    "\n",
    "        #using the sklearn metrics method to calculate the roc_auc_score\n",
    "        roc_auc = roc_auc_score(new_actual_class, new_pred_class, average = average)\n",
    "        roc_auc_dict[per_class] = roc_auc\n",
    "\n",
    "    return roc_auc_dict"
   ]
  },
  {
   "cell_type": "code",
   "execution_count": 88,
   "metadata": {},
   "outputs": [
    {
     "data": {
      "text/plain": [
       "{0.0: 0.9289891595266656, 1.0: 0.529821048181983, 2.0: 0.7549990103452116}"
      ]
     },
     "execution_count": 88,
     "metadata": {},
     "output_type": "execute_result"
    }
   ],
   "source": [
    "roc_auc_dict = roc_auc_score_multiclass(y_test, y_pred)\n",
    "roc_auc_dict"
   ]
  },
  {
   "cell_type": "code",
   "execution_count": 89,
   "metadata": {},
   "outputs": [],
   "source": [
    "import seaborn as sns"
   ]
  },
  {
   "cell_type": "code",
   "execution_count": 90,
   "metadata": {},
   "outputs": [
    {
     "data": {
      "image/png": "[encoded data removed]",
      "text/plain": [
       "<Figure size 1800x800 with 2 Axes>"
      ]
     },
     "metadata": {},
     "output_type": "display_data"
    }
   ],
   "source": [
    "plt.figure(figsize = (18,8))\n",
    "sns.heatmap(metrics.confusion_matrix(y_test, y_pred), annot = True, xticklabels = y_test.unique(), yticklabels = y_test.unique(), cmap = 'summer')\n",
    "plt.xlabel('Predicted Labels')\n",
    "plt.ylabel('True Labels')\n",
    "plt.show()"
   ]
  },
  {
   "cell_type": "code",
   "execution_count": 91,
   "metadata": {},
   "outputs": [
    {
     "data": {
      "text/plain": [
       "array([1., 2., 0.], dtype=float32)"
      ]
     },
     "execution_count": 91,
     "metadata": {},
     "output_type": "execute_result"
    }
   ],
   "source": [
    "y_test.unique()"
   ]
  },
  {
   "cell_type": "code",
   "execution_count": 92,
   "metadata": {},
   "outputs": [
    {
     "data": {
      "text/plain": [
       "array([[25440,    85,  3187],\n",
       "       [ 1336,  1601, 23037],\n",
       "       [  302,    37, 32057]], dtype=int64)"
      ]
     },
     "execution_count": 92,
     "metadata": {},
     "output_type": "execute_result"
    }
   ],
   "source": [
    "metrics.confusion_matrix(y_test, y_pred)"
   ]
  },
  {
   "cell_type": "code",
   "execution_count": 93,
   "metadata": {},
   "outputs": [],
   "source": [
    "np.random.set_state(st0)"
   ]
  },
  {
   "cell_type": "code",
   "execution_count": 94,
   "metadata": {},
   "outputs": [],
   "source": [
    "X_train, X_test, y_train, y_test = train_test_split(X, y, test_size=0.33)"
   ]
  },
  {
   "cell_type": "code",
   "execution_count": 95,
   "metadata": {},
   "outputs": [
    {
     "data": {
      "text/html": [
       "<div>\n",
       "<style scoped>\n",
       "    .dataframe tbody tr th:only-of-type {\n",
       "        vertical-align: middle;\n",
       "    }\n",
       "\n",
       "    .dataframe tbody tr th {\n",
       "        vertical-align: top;\n",
       "    }\n",
       "\n",
       "    .dataframe thead th {\n",
       "        text-align: right;\n",
       "    }\n",
       "</style>\n",
       "<table border=\"1\" class=\"dataframe\">\n",
       "  <thead>\n",
       "    <tr style=\"text-align: right;\">\n",
       "      <th></th>\n",
       "      <th>code</th>\n",
       "      <th>Type_of_currency_1</th>\n",
       "      <th>Type_of_currency_2</th>\n",
       "      <th>Currency</th>\n",
       "      <th>Transaction_date</th>\n",
       "      <th>Delivery_date</th>\n",
       "      <th>Rate</th>\n",
       "      <th>Price</th>\n",
       "    </tr>\n",
       "  </thead>\n",
       "  <tbody>\n",
       "    <tr>\n",
       "      <th>55156</th>\n",
       "      <td>1051233.0</td>\n",
       "      <td>1.0</td>\n",
       "      <td>2.0</td>\n",
       "      <td>0.169872</td>\n",
       "      <td>17847.0</td>\n",
       "      <td>1245.0</td>\n",
       "      <td>0.000000</td>\n",
       "      <td>30552.0</td>\n",
       "    </tr>\n",
       "    <tr>\n",
       "      <th>56275</th>\n",
       "      <td>67952.0</td>\n",
       "      <td>1.0</td>\n",
       "      <td>2.0</td>\n",
       "      <td>0.258133</td>\n",
       "      <td>232821.0</td>\n",
       "      <td>164.0</td>\n",
       "      <td>0.000000</td>\n",
       "      <td>24100.0</td>\n",
       "    </tr>\n",
       "    <tr>\n",
       "      <th>56083</th>\n",
       "      <td>261706.0</td>\n",
       "      <td>1.0</td>\n",
       "      <td>1.0</td>\n",
       "      <td>0.759208</td>\n",
       "      <td>77945.0</td>\n",
       "      <td>358.0</td>\n",
       "      <td>0.376667</td>\n",
       "      <td>58105.0</td>\n",
       "    </tr>\n",
       "    <tr>\n",
       "      <th>86417</th>\n",
       "      <td>95071.0</td>\n",
       "      <td>0.0</td>\n",
       "      <td>0.0</td>\n",
       "      <td>0.692387</td>\n",
       "      <td>105924.0</td>\n",
       "      <td>608.0</td>\n",
       "      <td>0.210000</td>\n",
       "      <td>58105.0</td>\n",
       "    </tr>\n",
       "    <tr>\n",
       "      <th>66941</th>\n",
       "      <td>2359544.0</td>\n",
       "      <td>0.0</td>\n",
       "      <td>2.0</td>\n",
       "      <td>0.112861</td>\n",
       "      <td>37425.0</td>\n",
       "      <td>1087.0</td>\n",
       "      <td>0.000000</td>\n",
       "      <td>58105.0</td>\n",
       "    </tr>\n",
       "    <tr>\n",
       "      <th>...</th>\n",
       "      <td>...</td>\n",
       "      <td>...</td>\n",
       "      <td>...</td>\n",
       "      <td>...</td>\n",
       "      <td>...</td>\n",
       "      <td>...</td>\n",
       "      <td>...</td>\n",
       "      <td>...</td>\n",
       "    </tr>\n",
       "    <tr>\n",
       "      <th>57705</th>\n",
       "      <td>6548047.0</td>\n",
       "      <td>0.0</td>\n",
       "      <td>2.0</td>\n",
       "      <td>0.241222</td>\n",
       "      <td>233477.0</td>\n",
       "      <td>1275.0</td>\n",
       "      <td>0.000000</td>\n",
       "      <td>5296.0</td>\n",
       "    </tr>\n",
       "    <tr>\n",
       "      <th>66689</th>\n",
       "      <td>474322.0</td>\n",
       "      <td>1.0</td>\n",
       "      <td>2.0</td>\n",
       "      <td>0.850609</td>\n",
       "      <td>46438.0</td>\n",
       "      <td>234.0</td>\n",
       "      <td>0.000000</td>\n",
       "      <td>58105.0</td>\n",
       "    </tr>\n",
       "    <tr>\n",
       "      <th>93571</th>\n",
       "      <td>838905.0</td>\n",
       "      <td>0.0</td>\n",
       "      <td>2.0</td>\n",
       "      <td>0.421564</td>\n",
       "      <td>51737.0</td>\n",
       "      <td>1025.0</td>\n",
       "      <td>0.000000</td>\n",
       "      <td>58105.0</td>\n",
       "    </tr>\n",
       "    <tr>\n",
       "      <th>47454</th>\n",
       "      <td>505213.0</td>\n",
       "      <td>1.0</td>\n",
       "      <td>2.0</td>\n",
       "      <td>0.632256</td>\n",
       "      <td>164599.0</td>\n",
       "      <td>42.0</td>\n",
       "      <td>0.000000</td>\n",
       "      <td>58105.0</td>\n",
       "    </tr>\n",
       "    <tr>\n",
       "      <th>91133</th>\n",
       "      <td>50086.0</td>\n",
       "      <td>1.0</td>\n",
       "      <td>2.0</td>\n",
       "      <td>0.807788</td>\n",
       "      <td>198609.0</td>\n",
       "      <td>283.0</td>\n",
       "      <td>0.000000</td>\n",
       "      <td>39639.0</td>\n",
       "    </tr>\n",
       "  </tbody>\n",
       "</table>\n",
       "<p>176802 rows × 8 columns</p>\n",
       "</div>"
      ],
      "text/plain": [
       "            code  Type_of_currency_1  Type_of_currency_2  Currency  \\\n",
       "55156  1051233.0                 1.0                 2.0  0.169872   \n",
       "56275    67952.0                 1.0                 2.0  0.258133   \n",
       "56083   261706.0                 1.0                 1.0  0.759208   \n",
       "86417    95071.0                 0.0                 0.0  0.692387   \n",
       "66941  2359544.0                 0.0                 2.0  0.112861   \n",
       "...          ...                 ...                 ...       ...   \n",
       "57705  6548047.0                 0.0                 2.0  0.241222   \n",
       "66689   474322.0                 1.0                 2.0  0.850609   \n",
       "93571   838905.0                 0.0                 2.0  0.421564   \n",
       "47454   505213.0                 1.0                 2.0  0.632256   \n",
       "91133    50086.0                 1.0                 2.0  0.807788   \n",
       "\n",
       "       Transaction_date  Delivery_date      Rate    Price  \n",
       "55156           17847.0         1245.0  0.000000  30552.0  \n",
       "56275          232821.0          164.0  0.000000  24100.0  \n",
       "56083           77945.0          358.0  0.376667  58105.0  \n",
       "86417          105924.0          608.0  0.210000  58105.0  \n",
       "66941           37425.0         1087.0  0.000000  58105.0  \n",
       "...                 ...            ...       ...      ...  \n",
       "57705          233477.0         1275.0  0.000000   5296.0  \n",
       "66689           46438.0          234.0  0.000000  58105.0  \n",
       "93571           51737.0         1025.0  0.000000  58105.0  \n",
       "47454          164599.0           42.0  0.000000  58105.0  \n",
       "91133          198609.0          283.0  0.000000  39639.0  \n",
       "\n",
       "[176802 rows x 8 columns]"
      ]
     },
     "execution_count": 95,
     "metadata": {},
     "output_type": "execute_result"
    }
   ],
   "source": [
    "X_train"
   ]
  },
  {
   "cell_type": "code",
   "execution_count": 96,
   "metadata": {},
   "outputs": [],
   "source": [
    "# determine the number of input features\n",
    "n_features = X_train.shape[1]\n"
   ]
  },
  {
   "cell_type": "code",
   "execution_count": 97,
   "metadata": {},
   "outputs": [
    {
     "data": {
      "text/plain": [
       "8"
      ]
     },
     "execution_count": 97,
     "metadata": {},
     "output_type": "execute_result"
    }
   ],
   "source": [
    "n_features"
   ]
  },
  {
   "cell_type": "code",
   "execution_count": 98,
   "metadata": {},
   "outputs": [
    {
     "name": "stdout",
     "output_type": "stream",
     "text": [
      "Epoch 1/25\n",
      "3868/3868 [==============================] - 8s 2ms/step - loss: 1215.5616 - accuracy: 0.3652 - val_loss: 12.8448 - val_accuracy: 0.3952\n",
      "Epoch 2/25\n",
      "3868/3868 [==============================] - 7s 2ms/step - loss: 2.2867 - accuracy: 0.3931 - val_loss: 1.0874 - val_accuracy: 0.3911\n",
      "Epoch 3/25\n",
      "3868/3868 [==============================] - 7s 2ms/step - loss: 1.0836 - accuracy: 0.3861 - val_loss: 1.0824 - val_accuracy: 0.3834\n",
      "Epoch 4/25\n",
      "3868/3868 [==============================] - 7s 2ms/step - loss: 1.0877 - accuracy: 0.3768 - val_loss: 1.0874 - val_accuracy: 0.3792\n",
      "Epoch 5/25\n",
      "3868/3868 [==============================] - 7s 2ms/step - loss: 1.0918 - accuracy: 0.3746 - val_loss: 1.0881 - val_accuracy: 0.3790\n",
      "Epoch 6/25\n",
      "3868/3868 [==============================] - 7s 2ms/step - loss: 1.0884 - accuracy: 0.3739 - val_loss: 1.0879 - val_accuracy: 0.3789\n",
      "Epoch 7/25\n",
      "3868/3868 [==============================] - 7s 2ms/step - loss: 1.0883 - accuracy: 0.3763 - val_loss: 1.0874 - val_accuracy: 0.3795\n",
      "Epoch 8/25\n",
      "3868/3868 [==============================] - 7s 2ms/step - loss: 1.0875 - accuracy: 0.3778 - val_loss: 1.0868 - val_accuracy: 0.3799\n",
      "Epoch 9/25\n",
      "3868/3868 [==============================] - 9s 2ms/step - loss: 1.0876 - accuracy: 0.3766 - val_loss: 1.0879 - val_accuracy: 0.3754\n",
      "Epoch 10/25\n",
      "3868/3868 [==============================] - 7s 2ms/step - loss: 1.0899 - accuracy: 0.3758 - val_loss: 1.0870 - val_accuracy: 0.3798\n",
      "Epoch 11/25\n",
      "3868/3868 [==============================] - 7s 2ms/step - loss: 1.0875 - accuracy: 0.3765 - val_loss: 1.0872 - val_accuracy: 0.3754\n",
      "Epoch 12/25\n",
      "3354/3868 [=========================>....] - ETA: 0s - loss: 1.0885 - accuracy: 0.3767"
     ]
    },
    {
     "ename": "KeyboardInterrupt",
     "evalue": "",
     "output_type": "error",
     "traceback": [
      "\u001b[1;31m---------------------------------------------------------------------------\u001b[0m",
      "\u001b[1;31mKeyboardInterrupt\u001b[0m                         Traceback (most recent call last)",
      "Cell \u001b[1;32mIn[98], line 10\u001b[0m\n\u001b[0;32m      8\u001b[0m model\u001b[39m.\u001b[39madd(Activation(\u001b[39m'\u001b[39m\u001b[39msoftmax\u001b[39m\u001b[39m'\u001b[39m))\n\u001b[0;32m      9\u001b[0m model\u001b[39m.\u001b[39mcompile(optimizer\u001b[39m=\u001b[39m\u001b[39m'\u001b[39m\u001b[39madam\u001b[39m\u001b[39m'\u001b[39m, loss\u001b[39m=\u001b[39m\u001b[39m'\u001b[39m\u001b[39msparse_categorical_crossentropy\u001b[39m\u001b[39m'\u001b[39m, metrics\u001b[39m=\u001b[39m[\u001b[39m'\u001b[39m\u001b[39maccuracy\u001b[39m\u001b[39m'\u001b[39m])\n\u001b[1;32m---> 10\u001b[0m history1 \u001b[39m=\u001b[39m model\u001b[39m.\u001b[39;49mfit(X_train, y_train, epochs\u001b[39m=\u001b[39;49m\u001b[39m25\u001b[39;49m, verbose\u001b[39m=\u001b[39;49m\u001b[39m1\u001b[39;49m, validation_split \u001b[39m=\u001b[39;49m \u001b[39m0.3\u001b[39;49m)\n",
      "File \u001b[1;32mc:\\Users\\Admin\\AppData\\Local\\Programs\\Python\\Python310\\lib\\site-packages\\keras\\utils\\traceback_utils.py:65\u001b[0m, in \u001b[0;36mfilter_traceback.<locals>.error_handler\u001b[1;34m(*args, **kwargs)\u001b[0m\n\u001b[0;32m     63\u001b[0m filtered_tb \u001b[39m=\u001b[39m \u001b[39mNone\u001b[39;00m\n\u001b[0;32m     64\u001b[0m \u001b[39mtry\u001b[39;00m:\n\u001b[1;32m---> 65\u001b[0m     \u001b[39mreturn\u001b[39;00m fn(\u001b[39m*\u001b[39margs, \u001b[39m*\u001b[39m\u001b[39m*\u001b[39mkwargs)\n\u001b[0;32m     66\u001b[0m \u001b[39mexcept\u001b[39;00m \u001b[39mException\u001b[39;00m \u001b[39mas\u001b[39;00m e:\n\u001b[0;32m     67\u001b[0m     filtered_tb \u001b[39m=\u001b[39m _process_traceback_frames(e\u001b[39m.\u001b[39m__traceback__)\n",
      "File \u001b[1;32mc:\\Users\\Admin\\AppData\\Local\\Programs\\Python\\Python310\\lib\\site-packages\\keras\\engine\\training.py:1641\u001b[0m, in \u001b[0;36mModel.fit\u001b[1;34m(self, x, y, batch_size, epochs, verbose, callbacks, validation_split, validation_data, shuffle, class_weight, sample_weight, initial_epoch, steps_per_epoch, validation_steps, validation_batch_size, validation_freq, max_queue_size, workers, use_multiprocessing)\u001b[0m\n\u001b[0;32m   1639\u001b[0m callbacks\u001b[39m.\u001b[39mon_epoch_begin(epoch)\n\u001b[0;32m   1640\u001b[0m \u001b[39mwith\u001b[39;00m data_handler\u001b[39m.\u001b[39mcatch_stop_iteration():\n\u001b[1;32m-> 1641\u001b[0m     \u001b[39mfor\u001b[39;00m step \u001b[39min\u001b[39;00m data_handler\u001b[39m.\u001b[39msteps():\n\u001b[0;32m   1642\u001b[0m         \u001b[39mwith\u001b[39;00m tf\u001b[39m.\u001b[39mprofiler\u001b[39m.\u001b[39mexperimental\u001b[39m.\u001b[39mTrace(\n\u001b[0;32m   1643\u001b[0m             \u001b[39m\"\u001b[39m\u001b[39mtrain\u001b[39m\u001b[39m\"\u001b[39m,\n\u001b[0;32m   1644\u001b[0m             epoch_num\u001b[39m=\u001b[39mepoch,\n\u001b[1;32m   (...)\u001b[0m\n\u001b[0;32m   1647\u001b[0m             _r\u001b[39m=\u001b[39m\u001b[39m1\u001b[39m,\n\u001b[0;32m   1648\u001b[0m         ):\n\u001b[0;32m   1649\u001b[0m             callbacks\u001b[39m.\u001b[39mon_train_batch_begin(step)\n",
      "File \u001b[1;32mc:\\Users\\Admin\\AppData\\Local\\Programs\\Python\\Python310\\lib\\site-packages\\keras\\engine\\data_adapter.py:1371\u001b[0m, in \u001b[0;36mDataHandler.steps\u001b[1;34m(self)\u001b[0m\n\u001b[0;32m   1369\u001b[0m \u001b[39mif\u001b[39;00m \u001b[39mself\u001b[39m\u001b[39m.\u001b[39m_insufficient_data:  \u001b[39m# Set by `catch_stop_iteration`.\u001b[39;00m\n\u001b[0;32m   1370\u001b[0m     \u001b[39mbreak\u001b[39;00m\n\u001b[1;32m-> 1371\u001b[0m original_spe \u001b[39m=\u001b[39m \u001b[39mself\u001b[39;49m\u001b[39m.\u001b[39;49m_steps_per_execution\u001b[39m.\u001b[39;49mnumpy()\u001b[39m.\u001b[39mitem()\n\u001b[0;32m   1372\u001b[0m can_run_full_execution \u001b[39m=\u001b[39m (\n\u001b[0;32m   1373\u001b[0m     original_spe \u001b[39m==\u001b[39m \u001b[39m1\u001b[39m\n\u001b[0;32m   1374\u001b[0m     \u001b[39mor\u001b[39;00m \u001b[39mself\u001b[39m\u001b[39m.\u001b[39m_inferred_steps \u001b[39mis\u001b[39;00m \u001b[39mNone\u001b[39;00m\n\u001b[0;32m   1375\u001b[0m     \u001b[39mor\u001b[39;00m \u001b[39mself\u001b[39m\u001b[39m.\u001b[39m_inferred_steps \u001b[39m-\u001b[39m \u001b[39mself\u001b[39m\u001b[39m.\u001b[39m_current_step \u001b[39m>\u001b[39m\u001b[39m=\u001b[39m original_spe\n\u001b[0;32m   1376\u001b[0m )\n\u001b[0;32m   1378\u001b[0m \u001b[39mif\u001b[39;00m can_run_full_execution:\n",
      "File \u001b[1;32mc:\\Users\\Admin\\AppData\\Local\\Programs\\Python\\Python310\\lib\\site-packages\\tensorflow\\python\\ops\\resource_variable_ops.py:639\u001b[0m, in \u001b[0;36mBaseResourceVariable.numpy\u001b[1;34m(self)\u001b[0m\n\u001b[0;32m    637\u001b[0m \u001b[39mdef\u001b[39;00m \u001b[39mnumpy\u001b[39m(\u001b[39mself\u001b[39m):\n\u001b[0;32m    638\u001b[0m   \u001b[39mif\u001b[39;00m context\u001b[39m.\u001b[39mexecuting_eagerly():\n\u001b[1;32m--> 639\u001b[0m     \u001b[39mreturn\u001b[39;00m \u001b[39mself\u001b[39;49m\u001b[39m.\u001b[39;49mread_value()\u001b[39m.\u001b[39mnumpy()\n\u001b[0;32m    640\u001b[0m   \u001b[39mraise\u001b[39;00m \u001b[39mNotImplementedError\u001b[39;00m(\n\u001b[0;32m    641\u001b[0m       \u001b[39m\"\u001b[39m\u001b[39mnumpy() is only available when eager execution is enabled.\u001b[39m\u001b[39m\"\u001b[39m)\n",
      "File \u001b[1;32mc:\\Users\\Admin\\AppData\\Local\\Programs\\Python\\Python310\\lib\\site-packages\\tensorflow\\python\\ops\\resource_variable_ops.py:727\u001b[0m, in \u001b[0;36mBaseResourceVariable.read_value\u001b[1;34m(self)\u001b[0m\n\u001b[0;32m    718\u001b[0m \u001b[39m\u001b[39m\u001b[39m\"\"\"Constructs an op which reads the value of this variable.\u001b[39;00m\n\u001b[0;32m    719\u001b[0m \n\u001b[0;32m    720\u001b[0m \u001b[39mShould be used when there are multiple reads, or when it is desirable to\u001b[39;00m\n\u001b[1;32m   (...)\u001b[0m\n\u001b[0;32m    724\u001b[0m \u001b[39m  The value of the variable.\u001b[39;00m\n\u001b[0;32m    725\u001b[0m \u001b[39m\"\"\"\u001b[39;00m\n\u001b[0;32m    726\u001b[0m \u001b[39mwith\u001b[39;00m ops\u001b[39m.\u001b[39mname_scope(\u001b[39m\"\u001b[39m\u001b[39mRead\u001b[39m\u001b[39m\"\u001b[39m):\n\u001b[1;32m--> 727\u001b[0m   value \u001b[39m=\u001b[39m \u001b[39mself\u001b[39;49m\u001b[39m.\u001b[39;49m_read_variable_op()\n\u001b[0;32m    728\u001b[0m \u001b[39m# Return an identity so it can get placed on whatever device the context\u001b[39;00m\n\u001b[0;32m    729\u001b[0m \u001b[39m# specifies instead of the device where the variable is.\u001b[39;00m\n\u001b[0;32m    730\u001b[0m \u001b[39mreturn\u001b[39;00m array_ops\u001b[39m.\u001b[39midentity(value)\n",
      "File \u001b[1;32mc:\\Users\\Admin\\AppData\\Local\\Programs\\Python\\Python310\\lib\\site-packages\\tensorflow\\python\\ops\\resource_variable_ops.py:706\u001b[0m, in \u001b[0;36mBaseResourceVariable._read_variable_op\u001b[1;34m(self, no_copy)\u001b[0m\n\u001b[0;32m    704\u001b[0m       result \u001b[39m=\u001b[39m read_and_set_handle(no_copy)\n\u001b[0;32m    705\u001b[0m \u001b[39melse\u001b[39;00m:\n\u001b[1;32m--> 706\u001b[0m   result \u001b[39m=\u001b[39m read_and_set_handle(no_copy)\n\u001b[0;32m    708\u001b[0m \u001b[39mif\u001b[39;00m \u001b[39mnot\u001b[39;00m context\u001b[39m.\u001b[39mexecuting_eagerly():\n\u001b[0;32m    709\u001b[0m   \u001b[39m# Note that if a control flow context is active the input of the read op\u001b[39;00m\n\u001b[0;32m    710\u001b[0m   \u001b[39m# might not actually be the handle. This line bypasses it.\u001b[39;00m\n\u001b[0;32m    711\u001b[0m   tape\u001b[39m.\u001b[39mrecord_operation(\n\u001b[0;32m    712\u001b[0m       \u001b[39m\"\u001b[39m\u001b[39mReadVariableOp\u001b[39m\u001b[39m\"\u001b[39m, [result], [\u001b[39mself\u001b[39m\u001b[39m.\u001b[39mhandle],\n\u001b[0;32m    713\u001b[0m       backward_function\u001b[39m=\u001b[39m\u001b[39mlambda\u001b[39;00m x: [x],\n\u001b[0;32m    714\u001b[0m       forward_function\u001b[39m=\u001b[39m\u001b[39mlambda\u001b[39;00m x: [x])\n",
      "File \u001b[1;32mc:\\Users\\Admin\\AppData\\Local\\Programs\\Python\\Python310\\lib\\site-packages\\tensorflow\\python\\ops\\resource_variable_ops.py:696\u001b[0m, in \u001b[0;36mBaseResourceVariable._read_variable_op.<locals>.read_and_set_handle\u001b[1;34m(no_copy)\u001b[0m\n\u001b[0;32m    694\u001b[0m \u001b[39mif\u001b[39;00m no_copy \u001b[39mand\u001b[39;00m forward_compat\u001b[39m.\u001b[39mforward_compatible(\u001b[39m2022\u001b[39m, \u001b[39m5\u001b[39m, \u001b[39m3\u001b[39m):\n\u001b[0;32m    695\u001b[0m   gen_resource_variable_ops\u001b[39m.\u001b[39mdisable_copy_on_read(\u001b[39mself\u001b[39m\u001b[39m.\u001b[39mhandle)\n\u001b[1;32m--> 696\u001b[0m result \u001b[39m=\u001b[39m gen_resource_variable_ops\u001b[39m.\u001b[39;49mread_variable_op(\n\u001b[0;32m    697\u001b[0m     \u001b[39mself\u001b[39;49m\u001b[39m.\u001b[39;49mhandle, \u001b[39mself\u001b[39;49m\u001b[39m.\u001b[39;49m_dtype)\n\u001b[0;32m    698\u001b[0m _maybe_set_handle_data(\u001b[39mself\u001b[39m\u001b[39m.\u001b[39m_dtype, \u001b[39mself\u001b[39m\u001b[39m.\u001b[39mhandle, result)\n\u001b[0;32m    699\u001b[0m \u001b[39mreturn\u001b[39;00m result\n",
      "File \u001b[1;32mc:\\Users\\Admin\\AppData\\Local\\Programs\\Python\\Python310\\lib\\site-packages\\tensorflow\\python\\ops\\gen_resource_variable_ops.py:580\u001b[0m, in \u001b[0;36mread_variable_op\u001b[1;34m(resource, dtype, name)\u001b[0m\n\u001b[0;32m    578\u001b[0m \u001b[39mif\u001b[39;00m tld\u001b[39m.\u001b[39mis_eager:\n\u001b[0;32m    579\u001b[0m   \u001b[39mtry\u001b[39;00m:\n\u001b[1;32m--> 580\u001b[0m     _result \u001b[39m=\u001b[39m pywrap_tfe\u001b[39m.\u001b[39;49mTFE_Py_FastPathExecute(\n\u001b[0;32m    581\u001b[0m       _ctx, \u001b[39m\"\u001b[39;49m\u001b[39mReadVariableOp\u001b[39;49m\u001b[39m\"\u001b[39;49m, name, resource, \u001b[39m\"\u001b[39;49m\u001b[39mdtype\u001b[39;49m\u001b[39m\"\u001b[39;49m, dtype)\n\u001b[0;32m    582\u001b[0m     \u001b[39mreturn\u001b[39;00m _result\n\u001b[0;32m    583\u001b[0m   \u001b[39mexcept\u001b[39;00m _core\u001b[39m.\u001b[39m_NotOkStatusException \u001b[39mas\u001b[39;00m e:\n",
      "\u001b[1;31mKeyboardInterrupt\u001b[0m: "
     ]
    }
   ],
   "source": [
    "# Model defining\n",
    "model = Sequential()\n",
    "model.add(Dense(8, input_shape=(n_features,)))\n",
    "model.add(Activation('relu'))\n",
    "model.add(Dense(6))\n",
    "model.add(Activation('relu'))\n",
    "model.add(Dense(3))\n",
    "model.add(Activation('softmax'))\n",
    "model.compile(optimizer='adam', loss='sparse_categorical_crossentropy', metrics=['accuracy'])\n",
    "history1 = model.fit(X_train, y_train, epochs=25, verbose=1, validation_split = 0.3)"
   ]
  },
  {
   "cell_type": "code",
   "execution_count": null,
   "metadata": {},
   "outputs": [
    {
     "data": {
      "image/png": "[encoded data removed]",
      "text/plain": [
       "<Figure size 640x480 with 1 Axes>"
      ]
     },
     "metadata": {},
     "output_type": "display_data"
    },
    {
     "data": {
      "image/png": "[encoded data removed]",
      "text/plain": [
       "<Figure size 640x480 with 1 Axes>"
      ]
     },
     "metadata": {},
     "output_type": "display_data"
    }
   ],
   "source": [
    "plt.plot(history1.history['accuracy'])\n",
    "plt.plot(history1.history['val_accuracy'])\n",
    "\n",
    "plt.title('model accuracy')\n",
    "plt.ylabel('accuracy')\n",
    "plt.xlabel('epoch')\n",
    "plt.legend(['train','test'], loc='upper left')\n",
    "plt.show()\n",
    "\n",
    "plt.plot(history1.history['loss'])\n",
    "plt.plot(history1.history['val_loss'])\n",
    "\n",
    "plt.title('model loss')\n",
    "plt.ylabel('loss')\n",
    "plt.xlabel('epoch')\n",
    "plt.legend(['train','test'], loc='upper left')\n",
    "plt.show()"
   ]
  },
  {
   "cell_type": "code",
   "execution_count": null,
   "metadata": {},
   "outputs": [],
   "source": [
    "# Model defining\n",
    "model = Sequential()\n",
    "model.add(Dense(8, kernel_initializer='he_normal', input_shape=(n_features,)))\n",
    "model.add(BatchNormalization())\n",
    "model.add(Activation('elu'))\n",
    "model.add(Dense(6, kernel_initializer='he_normal'))\n",
    "model.add(BatchNormalization())\n",
    "model.add(Activation('elu'))\n",
    "model.add(Dense(3))\n",
    "model.add(Activation('softmax'))\n"
   ]
  },
  {
   "cell_type": "code",
   "execution_count": null,
   "metadata": {},
   "outputs": [],
   "source": [
    "with open('random_state.csv', 'w') as file:\n",
    "    writer = csv.writer(file, delimiter=',')\n",
    "    writer.writerow(st0)"
   ]
  },
  {
   "cell_type": "code",
   "execution_count": null,
   "metadata": {},
   "outputs": [],
   "source": [
    "import csv;"
   ]
  },
  {
   "cell_type": "code",
   "execution_count": null,
   "metadata": {},
   "outputs": [],
   "source": [
    "# compile the modelD\n",
    "opt = optimizers.SGD(learning_rate=0.001)"
   ]
  },
  {
   "cell_type": "code",
   "execution_count": null,
   "metadata": {},
   "outputs": [],
   "source": [
    "model.compile(optimizer=opt, loss='sparse_categorical_crossentropy', metrics=['accuracy'])\n"
   ]
  },
  {
   "cell_type": "code",
   "execution_count": null,
   "metadata": {},
   "outputs": [
    {
     "name": "stdout",
     "output_type": "stream",
     "text": [
      "Epoch 1/100\n",
      "3868/3868 [==============================] - 10s 2ms/step - loss: 1.1426 - accuracy: 0.3520 - val_loss: 1.1015 - val_accuracy: 0.3708\n",
      "Epoch 2/100\n",
      "3868/3868 [==============================] - 9s 2ms/step - loss: 1.0985 - accuracy: 0.3723 - val_loss: 1.0967 - val_accuracy: 0.3729\n",
      "Epoch 3/100\n",
      "3868/3868 [==============================] - 11s 3ms/step - loss: 1.0955 - accuracy: 0.3734 - val_loss: 1.0943 - val_accuracy: 0.3736\n",
      "Epoch 4/100\n",
      "3868/3868 [==============================] - 15s 4ms/step - loss: 1.0922 - accuracy: 0.3746 - val_loss: 1.0859 - val_accuracy: 0.3805\n",
      "Epoch 5/100\n",
      "3868/3868 [==============================] - 8s 2ms/step - loss: 1.0809 - accuracy: 0.4304 - val_loss: 1.0722 - val_accuracy: 0.4783\n",
      "Epoch 6/100\n",
      "3868/3868 [==============================] - 9s 2ms/step - loss: 1.0620 - accuracy: 0.4721 - val_loss: 1.0403 - val_accuracy: 0.5066\n",
      "Epoch 7/100\n",
      "3868/3868 [==============================] - 8s 2ms/step - loss: 0.8713 - accuracy: 0.5955 - val_loss: 0.8181 - val_accuracy: 0.6021\n",
      "Epoch 8/100\n",
      "3868/3868 [==============================] - 8s 2ms/step - loss: 0.7480 - accuracy: 0.6263 - val_loss: 0.7222 - val_accuracy: 0.6339\n",
      "Epoch 9/100\n",
      "3868/3868 [==============================] - 9s 2ms/step - loss: 0.7103 - accuracy: 0.6313 - val_loss: 0.9252 - val_accuracy: 0.5674\n",
      "Epoch 10/100\n",
      "3868/3868 [==============================] - 9s 2ms/step - loss: 0.6934 - accuracy: 0.6328 - val_loss: 0.9411 - val_accuracy: 0.5515\n",
      "Epoch 11/100\n",
      "3868/3868 [==============================] - 8s 2ms/step - loss: 0.6824 - accuracy: 0.6369 - val_loss: 0.9418 - val_accuracy: 0.5819\n",
      "Epoch 12/100\n",
      "3868/3868 [==============================] - 8s 2ms/step - loss: 0.6694 - accuracy: 0.6415 - val_loss: 0.6723 - val_accuracy: 0.6465\n",
      "Epoch 13/100\n",
      "3868/3868 [==============================] - 9s 2ms/step - loss: 0.6645 - accuracy: 0.6429 - val_loss: 0.8800 - val_accuracy: 0.3999\n",
      "Epoch 14/100\n",
      "3868/3868 [==============================] - 8s 2ms/step - loss: 0.6550 - accuracy: 0.6460 - val_loss: 1.0656 - val_accuracy: 0.5331\n",
      "Epoch 15/100\n",
      "3868/3868 [==============================] - 9s 2ms/step - loss: 0.6510 - accuracy: 0.6461 - val_loss: 0.8452 - val_accuracy: 0.6092\n",
      "Epoch 16/100\n",
      "3868/3868 [==============================] - 9s 2ms/step - loss: 0.6463 - accuracy: 0.6478 - val_loss: 0.6903 - val_accuracy: 0.6381\n",
      "Epoch 17/100\n",
      "3868/3868 [==============================] - 9s 2ms/step - loss: 0.6448 - accuracy: 0.6481 - val_loss: 0.7575 - val_accuracy: 0.6101\n",
      "Epoch 18/100\n",
      "3868/3868 [==============================] - 9s 2ms/step - loss: 0.6484 - accuracy: 0.6481 - val_loss: 0.8866 - val_accuracy: 0.4760\n",
      "Epoch 19/100\n",
      "3868/3868 [==============================] - 9s 2ms/step - loss: 0.6351 - accuracy: 0.6519 - val_loss: 7.5543 - val_accuracy: 0.4586\n",
      "Epoch 20/100\n",
      "3868/3868 [==============================] - 9s 2ms/step - loss: 0.6331 - accuracy: 0.6526 - val_loss: 0.6660 - val_accuracy: 0.6158\n",
      "Epoch 21/100\n",
      "3868/3868 [==============================] - 8s 2ms/step - loss: 0.6255 - accuracy: 0.6537 - val_loss: 0.8954 - val_accuracy: 0.5758\n",
      "Epoch 22/100\n",
      "3868/3868 [==============================] - 9s 2ms/step - loss: 0.6277 - accuracy: 0.6538 - val_loss: 0.6631 - val_accuracy: 0.6378\n",
      "Epoch 23/100\n",
      "3868/3868 [==============================] - 8s 2ms/step - loss: 0.6239 - accuracy: 0.6552 - val_loss: 0.7561 - val_accuracy: 0.6182\n",
      "Epoch 24/100\n",
      "3868/3868 [==============================] - 9s 2ms/step - loss: 0.6294 - accuracy: 0.6543 - val_loss: 0.5844 - val_accuracy: 0.6782\n",
      "Epoch 25/100\n",
      "3868/3868 [==============================] - 10s 3ms/step - loss: 0.6246 - accuracy: 0.6543 - val_loss: 1.1004 - val_accuracy: 0.5210\n",
      "Epoch 26/100\n",
      "3868/3868 [==============================] - 10s 3ms/step - loss: 0.6280 - accuracy: 0.6532 - val_loss: 6.1275 - val_accuracy: 0.4704\n",
      "Epoch 27/100\n",
      "3868/3868 [==============================] - 9s 2ms/step - loss: 0.6223 - accuracy: 0.6549 - val_loss: 3.5862 - val_accuracy: 0.5014\n",
      "Epoch 28/100\n",
      "3868/3868 [==============================] - 9s 2ms/step - loss: 0.6339 - accuracy: 0.6507 - val_loss: 0.6054 - val_accuracy: 0.6586\n",
      "Epoch 29/100\n",
      "3868/3868 [==============================] - 9s 2ms/step - loss: 0.6345 - accuracy: 0.6511 - val_loss: 6.3938 - val_accuracy: 0.3306\n",
      "Epoch 30/100\n",
      "3868/3868 [==============================] - 8s 2ms/step - loss: 0.6241 - accuracy: 0.6546 - val_loss: 0.8012 - val_accuracy: 0.6022\n",
      "Epoch 31/100\n",
      "3868/3868 [==============================] - 8s 2ms/step - loss: 0.6183 - accuracy: 0.6560 - val_loss: 2.9021 - val_accuracy: 0.5699\n",
      "Epoch 32/100\n",
      "3868/3868 [==============================] - 8s 2ms/step - loss: 0.6213 - accuracy: 0.6553 - val_loss: 0.6374 - val_accuracy: 0.6495\n",
      "Epoch 33/100\n",
      "3868/3868 [==============================] - 9s 2ms/step - loss: 0.6194 - accuracy: 0.6555 - val_loss: 0.5909 - val_accuracy: 0.6625\n",
      "Epoch 34/100\n",
      "3868/3868 [==============================] - 9s 2ms/step - loss: 0.6150 - accuracy: 0.6572 - val_loss: 0.6202 - val_accuracy: 0.6499\n",
      "Epoch 35/100\n",
      "3868/3868 [==============================] - 8s 2ms/step - loss: 0.6237 - accuracy: 0.6547 - val_loss: 0.8992 - val_accuracy: 0.5977\n",
      "Epoch 36/100\n",
      "3868/3868 [==============================] - 9s 2ms/step - loss: 0.6300 - accuracy: 0.6524 - val_loss: 0.7828 - val_accuracy: 0.6131\n",
      "Epoch 37/100\n",
      "3868/3868 [==============================] - 9s 2ms/step - loss: 0.6307 - accuracy: 0.6523 - val_loss: 1.4387 - val_accuracy: 0.4019\n",
      "Epoch 38/100\n",
      "3868/3868 [==============================] - 8s 2ms/step - loss: 0.6244 - accuracy: 0.6538 - val_loss: 0.9644 - val_accuracy: 0.4267\n",
      "Epoch 39/100\n",
      "3868/3868 [==============================] - 8s 2ms/step - loss: 0.6163 - accuracy: 0.6573 - val_loss: 3.1648 - val_accuracy: 0.5682\n",
      "Epoch 40/100\n",
      "3868/3868 [==============================] - 8s 2ms/step - loss: 0.6232 - accuracy: 0.6550 - val_loss: 0.6622 - val_accuracy: 0.6398\n",
      "Epoch 41/100\n",
      "3868/3868 [==============================] - 8s 2ms/step - loss: 0.6187 - accuracy: 0.6559 - val_loss: 0.5996 - val_accuracy: 0.6784\n",
      "Epoch 42/100\n",
      "3868/3868 [==============================] - 12s 3ms/step - loss: 0.6164 - accuracy: 0.6565 - val_loss: 0.5918 - val_accuracy: 0.6614\n",
      "Epoch 43/100\n",
      "3868/3868 [==============================] - 11s 3ms/step - loss: 0.6226 - accuracy: 0.6537 - val_loss: 0.5973 - val_accuracy: 0.6599\n",
      "Epoch 44/100\n",
      "3868/3868 [==============================] - 9s 2ms/step - loss: 0.6160 - accuracy: 0.6581 - val_loss: 0.6413 - val_accuracy: 0.6472\n",
      "Epoch 45/100\n",
      "3868/3868 [==============================] - 9s 2ms/step - loss: 0.6168 - accuracy: 0.6566 - val_loss: 0.5670 - val_accuracy: 0.6772\n",
      "Epoch 46/100\n",
      "3868/3868 [==============================] - 9s 2ms/step - loss: 0.6157 - accuracy: 0.6570 - val_loss: 0.5858 - val_accuracy: 0.6639\n",
      "Epoch 47/100\n",
      "3868/3868 [==============================] - 9s 2ms/step - loss: 0.6153 - accuracy: 0.6564 - val_loss: 0.5774 - val_accuracy: 0.6821\n",
      "Epoch 48/100\n",
      "3868/3868 [==============================] - 9s 2ms/step - loss: 0.6138 - accuracy: 0.6588 - val_loss: 0.5834 - val_accuracy: 0.6838\n",
      "Epoch 49/100\n",
      "3868/3868 [==============================] - 9s 2ms/step - loss: 0.6207 - accuracy: 0.6552 - val_loss: 0.5909 - val_accuracy: 0.6621\n",
      "Epoch 50/100\n",
      "3868/3868 [==============================] - 9s 2ms/step - loss: 0.6128 - accuracy: 0.6568 - val_loss: 0.5816 - val_accuracy: 0.6795\n",
      "Epoch 51/100\n",
      "3868/3868 [==============================] - 9s 2ms/step - loss: 0.6187 - accuracy: 0.6570 - val_loss: 0.5781 - val_accuracy: 0.6845\n",
      "Epoch 52/100\n",
      "3868/3868 [==============================] - 9s 2ms/step - loss: 0.6177 - accuracy: 0.6564 - val_loss: 1.6628 - val_accuracy: 0.5766\n",
      "Epoch 53/100\n",
      "3868/3868 [==============================] - 11s 3ms/step - loss: 0.6139 - accuracy: 0.6567 - val_loss: 2.9101 - val_accuracy: 0.5574\n",
      "Epoch 54/100\n",
      "3868/3868 [==============================] - 10s 3ms/step - loss: 0.6193 - accuracy: 0.6558 - val_loss: 0.6809 - val_accuracy: 0.6356\n",
      "Epoch 55/100\n",
      "3868/3868 [==============================] - 10s 3ms/step - loss: 0.6133 - accuracy: 0.6580 - val_loss: 0.7107 - val_accuracy: 0.6250\n",
      "Epoch 56/100\n",
      "3868/3868 [==============================] - 10s 3ms/step - loss: 0.6148 - accuracy: 0.6565 - val_loss: 0.5636 - val_accuracy: 0.6775\n",
      "Epoch 57/100\n",
      "3868/3868 [==============================] - 10s 2ms/step - loss: 0.6135 - accuracy: 0.6566 - val_loss: 0.5825 - val_accuracy: 0.6641\n",
      "Epoch 58/100\n",
      "3868/3868 [==============================] - 10s 3ms/step - loss: 0.6135 - accuracy: 0.6565 - val_loss: 0.5787 - val_accuracy: 0.6664\n",
      "Epoch 59/100\n",
      "3868/3868 [==============================] - 9s 2ms/step - loss: 0.6184 - accuracy: 0.6571 - val_loss: 0.5879 - val_accuracy: 0.6855\n",
      "Epoch 60/100\n",
      "3868/3868 [==============================] - 10s 2ms/step - loss: 0.6200 - accuracy: 0.6549 - val_loss: 1.2964 - val_accuracy: 0.4012\n",
      "Epoch 61/100\n",
      "3868/3868 [==============================] - 9s 2ms/step - loss: 0.6136 - accuracy: 0.6570 - val_loss: 0.5970 - val_accuracy: 0.6592\n",
      "Epoch 62/100\n",
      "3868/3868 [==============================] - 10s 3ms/step - loss: 0.6186 - accuracy: 0.6558 - val_loss: 0.7399 - val_accuracy: 0.6168\n",
      "Epoch 63/100\n",
      "3868/3868 [==============================] - 10s 2ms/step - loss: 0.6139 - accuracy: 0.6571 - val_loss: 0.6142 - val_accuracy: 0.6536\n",
      "Epoch 64/100\n",
      "3868/3868 [==============================] - 9s 2ms/step - loss: 0.6122 - accuracy: 0.6580 - val_loss: 0.5774 - val_accuracy: 0.6674\n",
      "Epoch 65/100\n",
      "3868/3868 [==============================] - 10s 2ms/step - loss: 0.6106 - accuracy: 0.6581 - val_loss: 0.9259 - val_accuracy: 0.5736\n",
      "Epoch 66/100\n",
      "3868/3868 [==============================] - 10s 3ms/step - loss: 0.6147 - accuracy: 0.6564 - val_loss: 0.7226 - val_accuracy: 0.6211\n",
      "Epoch 67/100\n",
      "3868/3868 [==============================] - 10s 2ms/step - loss: 0.6163 - accuracy: 0.6559 - val_loss: 0.6125 - val_accuracy: 0.6543\n",
      "Epoch 68/100\n",
      "3868/3868 [==============================] - 10s 2ms/step - loss: 0.6129 - accuracy: 0.6584 - val_loss: 0.6564 - val_accuracy: 0.6467\n",
      "Epoch 69/100\n",
      "3868/3868 [==============================] - 10s 2ms/step - loss: 0.6146 - accuracy: 0.6559 - val_loss: 0.5699 - val_accuracy: 0.6829\n",
      "Epoch 70/100\n",
      "3868/3868 [==============================] - 10s 3ms/step - loss: 0.6134 - accuracy: 0.6579 - val_loss: 2.3221 - val_accuracy: 0.5718\n",
      "Epoch 71/100\n",
      "3868/3868 [==============================] - 9s 2ms/step - loss: 0.6146 - accuracy: 0.6570 - val_loss: 0.5666 - val_accuracy: 0.6722\n",
      "Epoch 72/100\n",
      "3868/3868 [==============================] - 10s 3ms/step - loss: 0.6078 - accuracy: 0.6585 - val_loss: 0.9064 - val_accuracy: 0.5880\n",
      "Epoch 73/100\n",
      "3868/3868 [==============================] - 10s 3ms/step - loss: 0.6140 - accuracy: 0.6571 - val_loss: 0.6800 - val_accuracy: 0.6341\n",
      "Epoch 74/100\n",
      "3868/3868 [==============================] - 10s 3ms/step - loss: 0.6144 - accuracy: 0.6570 - val_loss: 0.7553 - val_accuracy: 0.6132\n",
      "Epoch 75/100\n",
      "3868/3868 [==============================] - 10s 2ms/step - loss: 0.6114 - accuracy: 0.6580 - val_loss: 0.8162 - val_accuracy: 0.5963\n",
      "Epoch 76/100\n",
      "3868/3868 [==============================] - 10s 3ms/step - loss: 0.6125 - accuracy: 0.6577 - val_loss: 0.6170 - val_accuracy: 0.6529\n",
      "Epoch 77/100\n",
      "3868/3868 [==============================] - 10s 3ms/step - loss: 0.6201 - accuracy: 0.6566 - val_loss: 0.8476 - val_accuracy: 0.5901\n",
      "Epoch 78/100\n",
      "3868/3868 [==============================] - 10s 3ms/step - loss: 0.6124 - accuracy: 0.6577 - val_loss: 0.6914 - val_accuracy: 0.6306\n",
      "Epoch 79/100\n",
      "3868/3868 [==============================] - 10s 3ms/step - loss: 0.6100 - accuracy: 0.6583 - val_loss: 2.5821 - val_accuracy: 0.5725\n",
      "Epoch 80/100\n",
      "3868/3868 [==============================] - 10s 2ms/step - loss: 0.6106 - accuracy: 0.6585 - val_loss: 0.5803 - val_accuracy: 0.6660\n",
      "Epoch 81/100\n",
      "3868/3868 [==============================] - 10s 3ms/step - loss: 0.6081 - accuracy: 0.6579 - val_loss: 0.7738 - val_accuracy: 0.6073\n",
      "Epoch 82/100\n",
      "3868/3868 [==============================] - 10s 2ms/step - loss: 0.6131 - accuracy: 0.6583 - val_loss: 0.6047 - val_accuracy: 0.6439\n",
      "Epoch 83/100\n",
      "3868/3868 [==============================] - 9s 2ms/step - loss: 0.6126 - accuracy: 0.6576 - val_loss: 0.6640 - val_accuracy: 0.6383\n",
      "Epoch 84/100\n",
      "3868/3868 [==============================] - 10s 3ms/step - loss: 0.6122 - accuracy: 0.6575 - val_loss: 0.6328 - val_accuracy: 0.6479\n",
      "Epoch 85/100\n",
      "3868/3868 [==============================] - 10s 2ms/step - loss: 0.6076 - accuracy: 0.6596 - val_loss: 0.6161 - val_accuracy: 0.6534\n",
      "Epoch 86/100\n",
      "3868/3868 [==============================] - 10s 3ms/step - loss: 0.6103 - accuracy: 0.6575 - val_loss: 0.6514 - val_accuracy: 0.6420\n",
      "Epoch 87/100\n",
      "3868/3868 [==============================] - 10s 3ms/step - loss: 0.6155 - accuracy: 0.6570 - val_loss: 0.6590 - val_accuracy: 0.6399\n",
      "Epoch 88/100\n",
      "3868/3868 [==============================] - 10s 3ms/step - loss: 0.6122 - accuracy: 0.6579 - val_loss: 0.6159 - val_accuracy: 0.6534\n",
      "Epoch 89/100\n",
      "3868/3868 [==============================] - 10s 3ms/step - loss: 0.6074 - accuracy: 0.6593 - val_loss: 0.5740 - val_accuracy: 0.6838\n",
      "Epoch 90/100\n",
      "3868/3868 [==============================] - 10s 2ms/step - loss: 0.6130 - accuracy: 0.6571 - val_loss: 0.6026 - val_accuracy: 0.6572\n",
      "Epoch 91/100\n",
      "3868/3868 [==============================] - 10s 3ms/step - loss: 0.6152 - accuracy: 0.6557 - val_loss: 0.6461 - val_accuracy: 0.6440\n",
      "Epoch 92/100\n",
      "3868/3868 [==============================] - 10s 3ms/step - loss: 0.6108 - accuracy: 0.6577 - val_loss: 0.5620 - val_accuracy: 0.6795\n",
      "Epoch 93/100\n",
      "3868/3868 [==============================] - 9s 2ms/step - loss: 0.6089 - accuracy: 0.6589 - val_loss: 0.6130 - val_accuracy: 0.6542\n",
      "Epoch 94/100\n",
      "3868/3868 [==============================] - 10s 2ms/step - loss: 0.6081 - accuracy: 0.6586 - val_loss: 1.0239 - val_accuracy: 0.5836\n",
      "Epoch 95/100\n",
      "3868/3868 [==============================] - 9s 2ms/step - loss: 0.6108 - accuracy: 0.6575 - val_loss: 0.6587 - val_accuracy: 0.6392\n",
      "Epoch 96/100\n",
      "3868/3868 [==============================] - 10s 3ms/step - loss: 0.6122 - accuracy: 0.6579 - val_loss: 0.6123 - val_accuracy: 0.6306\n",
      "Epoch 97/100\n",
      "3868/3868 [==============================] - 10s 2ms/step - loss: 0.6073 - accuracy: 0.6602 - val_loss: 0.5638 - val_accuracy: 0.6770\n",
      "Epoch 98/100\n",
      "3868/3868 [==============================] - 10s 2ms/step - loss: 0.6076 - accuracy: 0.6596 - val_loss: 0.6733 - val_accuracy: 0.6361\n",
      "Epoch 99/100\n",
      "3868/3868 [==============================] - 10s 3ms/step - loss: 0.6098 - accuracy: 0.6578 - val_loss: 0.5677 - val_accuracy: 0.6719\n",
      "Epoch 100/100\n",
      "3868/3868 [==============================] - 10s 3ms/step - loss: 0.6111 - accuracy: 0.6580 - val_loss: 0.9803 - val_accuracy: 0.5841\n"
     ]
    }
   ],
   "source": [
    "# fit the model\n",
    "history = model.fit(X_train, y_train, epochs=100, verbose=1, validation_split = 0.3)"
   ]
  },
  {
   "cell_type": "code",
   "execution_count": null,
   "metadata": {},
   "outputs": [
    {
     "name": "stdout",
     "output_type": "stream",
     "text": [
      "2722/2722 [==============================] - 4s 1ms/step\n"
     ]
    },
    {
     "data": {
      "text/plain": [
       "array([[3.5268091e-02, 3.8839760e-01, 5.7633430e-01],\n",
       "       [4.2018898e-02, 3.9203355e-01, 5.6594759e-01],\n",
       "       [9.9996400e-01, 1.4961321e-05, 2.0991909e-05],\n",
       "       ...,\n",
       "       [1.4622620e-01, 3.8863388e-01, 4.6513990e-01],\n",
       "       [2.8334908e-02, 3.8322994e-01, 5.8843517e-01],\n",
       "       [6.4995728e-02, 3.9397478e-01, 5.4102951e-01]], dtype=float32)"
      ]
     },
     "execution_count": 178,
     "metadata": {},
     "output_type": "execute_result"
    }
   ],
   "source": [
    "# make a prediction\n",
    "y_pred = model.predict(X_test)\n",
    "y_pred"
   ]
  },
  {
   "cell_type": "code",
   "execution_count": null,
   "metadata": {},
   "outputs": [
    {
     "data": {
      "image/png": "[encoded data removed]",
      "text/plain": [
       "<Figure size 640x480 with 1 Axes>"
      ]
     },
     "metadata": {},
     "output_type": "display_data"
    },
    {
     "data": {
      "image/png": "[encoded data removed]",
      "text/plain": [
       "<Figure size 640x480 with 1 Axes>"
      ]
     },
     "metadata": {},
     "output_type": "display_data"
    }
   ],
   "source": [
    "plt.plot(history.history['accuracy'])\n",
    "plt.plot(history.history['val_accuracy'])\n",
    "\n",
    "plt.title('model accuracy')\n",
    "plt.ylabel('accuracy')\n",
    "plt.xlabel('epoch')\n",
    "plt.legend(['train','test'], loc='upper left')\n",
    "plt.show()\n",
    "\n",
    "plt.plot(history.history['loss'])\n",
    "plt.plot(history.history['val_loss'])\n",
    "\n",
    "plt.title('model loss')\n",
    "plt.ylabel('loss')\n",
    "plt.xlabel('epoch')\n",
    "plt.legend(['train','test'], loc='upper left')\n",
    "plt.show()"
   ]
  },
  {
   "cell_type": "code",
   "execution_count": null,
   "metadata": {},
   "outputs": [],
   "source": [
    "st1 = pd.read_csv('random_state.csv')"
   ]
  },
  {
   "cell_type": "code",
   "execution_count": null,
   "metadata": {},
   "outputs": [],
   "source": [
    "st2 = [159592800,3189858206,3616876815,1189482972,3509234474,1011050887\n",
    ",1820120539,2479253492,854637099,2686635522,2516400776,3242559793\n",
    ",2539312793,458540397,4060140387,749114653,580500429,4088678444\n",
    ",3903594783,1843411217,2654462931,3896934121,1215819008,2052758069\n",
    ",3320058432,2553295574,2944714131,4089341542,252886438,3566875977\n",
    ",2240650787,2049753166,1121056845,914688796,3605757717,145372496\n",
    ",4174769293,693275081,683144899,3113560492,2306163099,3545199846\n",
    ",2903465138,2248912791,1393728458,4236769194,1450444904,547035974\n",
    ",3929168683,3475755187,700774280,2494917396,2706994137,4036162238\n",
    ",4172814991,3372927686,1255981317,1865806116,2154248884,1494094591\n",
    ",1520430918,15931637,3041069705,1043945318,2724548154,259055771\n",
    ",2961979695,3648009845,1243919987,2202807549,2429252261,714599206\n",
    ",569465458,3080400767,3402983379,1688620248,3170304180,3756225372\n",
    ",2395016413,1267978861,3423988273,2379424307,2795324514,2401992886\n",
    ",2376433549,3733979288,3402972782,341372983,2732090087,2107909113\n",
    ",948083207,2030432363,4148662872,2961151804,4031424656,2462071007\n",
    ",1607300677,1108209135,2363598963,2387253250,113124588,3432038028\n",
    ",18946957,1524607841,747298318,2174255883,1785669563,1592089175\n",
    ",3069514768,958501379,3795640199,2220058161,3934613664,89292508\n",
    ",2834504439,2333258282,3611977397,1768389973,3264301088,3491793966\n",
    ",2126802731,2081230037,165460564,93692853,3563860139,2207819351\n",
    ",1282739833,2179174202,3061311601,3787597840,2871479293,2114376606\n",
    ",310297069,104798839,313290751,1877695500,4278409670,3923862549\n",
    ",4032258421,3204702354,3662149039,2546314918,3456864858,924027388\n",
    ",2843198352,4056995147,2344199774,2445968219,1020796216,205329891\n",
    ",3024206628,735916025,1821812648,224369267,742519664,2277198213\n",
    ",582694801,1133391806,2556900639,2228571771,3209189672,2634766707\n",
    ",2200172856,3130423934,2041522451,2558165567,117043841,4241248190\n",
    ",1932911149,2675281128,3691471481,3793865551,4184163857,1169437619\n",
    ",2624279130,3614481721,1819087349,619903142,4084346951,1841307871\n",
    ",3863482128,3976101678,808500946,1673701449,1878827071,4065823084\n",
    ",447606999,718465510,2463656647,176002139,1393349468,1128255043\n",
    ",2247525151,252752206,3416254340,2456917443,909520555,1230791446\n",
    ",534272457,3234859193,542713200,715904033,4073329919,1485586505\n",
    ",3461950859,1083780677,922437004,570620318,304434209,896021058\n",
    ",1817816084,948811336,3597846920,2657905176,1452686855,3784712912\n",
    ",2581580253,1958979431,2628119043,544788298,3144273662,1659786504\n",
    ",82793764,3909187812,1308404429,3331373285,3745395115,1642964879\n",
    ",456360183,1135801773,3140139799,1462464472,1703844012,255813930\n",
    ",2040596794,3735506341,1593395516,2779891236,1232748618,3889193445\n",
    ",3508609561,2049896479,1067844083,1442499725,1562489766,3887998175\n",
    ",1123763972,335536061,455562247,471321068,1147802859,6702894\n",
    ",4288396885,1639208923,2020944106,1736694588,1762466913,3423440401\n",
    ",829273951,2637285394,3813386041,3357436865,1501900811,1332963793\n",
    ",1392238570,3690800527,514719028,4286426956,540679361,2605000764\n",
    ",3976879288,276295369,1605331794,3774406669,582248215,3663376628\n",
    ",1222458112,1646158296,4210655179,843689948,69148117,2454224939\n",
    ",3161215263,4110002769,2918158949,431527850,2850707667,497027158\n",
    ",2652472543,938017781,3851498924,1450234298,3842368723,764489619\n",
    ",3094366934,1938977561,1658589324,3640967366,1299530897,3038591853\n",
    ",921204069,3823082570,3608010515,3804836941,3550346071,3167671127\n",
    ",2690827388,1881998489,559025827,2960802197,1703342772,1820092655\n",
    ",1988672579,4183832648,3645409295,3573886215,3795096500,4117195963\n",
    ",442718505,2819107011,3207264251,138607708,67125161,4175931903\n",
    ",3923284800,1878899305,3642831275,1620351202,804955130,600048184\n",
    ",1396109138,3873073366,4155886768,3022109628,227593899,1501526581\n",
    ",1418410136,1701406869,676929052,2050561333,3963380354,288875241\n",
    ",2550416877,1400509118,1420513521,1587332870,3677447085,1925124806\n",
    ",1418180389,2296879309,1548381858,3716495407,2516710238,4028118956\n",
    ",4229594388,3482201955,2112280740,501787088,3718225375,1762401264\n",
    ",3374037958,2452529179,757084704,3674589968,817873082,3156393934\n",
    ",3131262670,1964495574,1502971990,1506006447,3766550116,3486293964\n",
    ",1275869643,2705952964,3473954367,2492654377,397073307,199034012\n",
    ",1095422685,1489056387,2368886728,3546853329,705605711,2328012133\n",
    ",839583317,170146832,2039204599,4076711402,1870000626,4256455481\n",
    ",1624168148,713704030,2335994118,3353701555,1498647562,1636733393\n",
    ",1359320743,2005583198,595496816,1279444194,1842702907,1449079187\n",
    ",3828618955,2387587100,1422782883,367080967,760892092,2173356283\n",
    ",235128252,1192224717,3954759334,559290146,2939737824,1312290407\n",
    ",351193688,2210137390,328078381,1686625572,1568330596,409148508\n",
    ",220270965,260248379,561055277,2527830802,1390030306,1188563937\n",
    ",3424376567,347799817,983293113,1980025591,5902246,3211148348\n",
    ",1306191268,205868854,1238003629,1467027942,2818253373,2388248361\n",
    ",1333336513,1740442247,323236455,647120230,1575793036,3988068381\n",
    ",3908532354,793407836,1943307981,453829366,3457503382,1733506580\n",
    ",1983062981,1617227157,2079489686,1950248843,2288681702,3007440233\n",
    ",893371384,2886272804,3206769249,1238525615,3076053450,601199774\n",
    ",2259673754,2270288388,2713465519,4009916933,1147879734,2088501210\n",
    ",1263584260,3370675896,947979825,2524919739,1330023022,1693725658\n",
    ",2667058443,2749163555,838294116,1278649644,1405170084,3966038271\n",
    ",434580348,3132277464,4065023361,1000728966,2214545493,1352843345\n",
    ",928634840,1693763132,2306744016,2092463967,4225411538,474536524\n",
    ",1175834369,65043997,218313180,661598253,953152842,1734473009\n",
    ",1752721476,3967066712,952983957,1911169427,1249682816,3238214957\n",
    ",2953208773,1929494328,1440214649,3288567506,1774302365,3534951990\n",
    ",1563120449,1334185090,3238112893,2982305361,2186303518,1569633925\n",
    ",2922209691,2787628514,2666178005,926003829,621256737,2088789944\n",
    ",1179008507,913052529,3749701479,862960648,1265759856,917376158\n",
    ",4178210104,3353051034,4159600702,411486525,4028411561,316765033\n",
    ",981400304,388272636,3899754060,2053904327,1775936156,560124200\n",
    ",3038538796,630942613,3387979958,725718802,1000343262,683496\n",
    ",400099746,1615368164,3493316647,4113161588,635422348,1169848531\n",
    ",3040080344,3281559751,1135724557,3046525522,3031978799,1616034289\n",
    ",3334491688,500293914,4249206108,2751287284,3966708422,534283407\n",
    ",2865113572,275907505,82100427,1716769149,819815381,134337897\n",
    ",1501834217,2252059407,1754790049,740233107,94668625,643117549\n",
    ",1387517127,1011360710,738969028,3361273571,3096408263,4029020981\n",
    ",3059423379,1962672044,2523947777,3406212905,2645603116,545078748\n",
    ",3047626421,3479414419,3902455761,4063113480,2577767718,3504606558\n",
    ",3411914178,1339879419,3543890081,966974226,814915197,3434845881\n",
    ",3751448345,2388164843,3146068284,3761432606,590224009,3643490904\n",
    ",1382927130,361534385,518777650,1301433958,3124851486,1324012403\n",
    ",2838800002,4229151235,2976477923,4046030981,2743912879,2752326671\n",
    ",836227615,3997470783,2159508968,2343000142,382243462,365170199]"
   ]
  },
  {
   "cell_type": "code",
   "execution_count": null,
   "metadata": {},
   "outputs": [
    {
     "ename": "ValueError",
     "evalue": "set_state can only be used with legacy MT19937state instances.",
     "output_type": "error",
     "traceback": [
      "\u001b[1;31m---------------------------------------------------------------------------\u001b[0m",
      "\u001b[1;31mValueError\u001b[0m                                Traceback (most recent call last)",
      "Cell \u001b[1;32mIn[9], line 1\u001b[0m\n\u001b[1;32m----> 1\u001b[0m np\u001b[39m.\u001b[39;49mrandom\u001b[39m.\u001b[39;49mset_state(st2)\n",
      "File \u001b[1;32mmtrand.pyx:371\u001b[0m, in \u001b[0;36mnumpy.random.mtrand.RandomState.set_state\u001b[1;34m()\u001b[0m\n",
      "\u001b[1;31mValueError\u001b[0m: set_state can only be used with legacy MT19937state instances."
     ]
    }
   ],
   "source": [
    "np.random.set_state(st2)"
   ]
  },
  {
   "cell_type": "code",
   "execution_count": null,
   "metadata": {},
   "outputs": [],
   "source": [
    "np.random.seed(42)"
   ]
  }
 ],
 "metadata": {
  "kernelspec": {
   "display_name": "Python 3",
   "language": "python",
   "name": "python3"
  },
  "language_info": {
   "codemirror_mode": {
    "name": "ipython",
    "version": 3
   },
   "file_extension": ".py",
   "mimetype": "text/x-python",
   "name": "python",
   "nbconvert_exporter": "python",
   "pygments_lexer": "ipython3",
   "version": "3.10.2"
  },
  "orig_nbformat": 4
 },
 "nbformat": 4,
 "nbformat_minor": 2
}
