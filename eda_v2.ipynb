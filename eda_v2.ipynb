{
 "cells": [
  {
   "cell_type": "markdown",
   "metadata": {},
   "source": [
    "# Load Packages"
   ]
  },
  {
   "cell_type": "code",
   "execution_count": 134,
   "metadata": {},
   "outputs": [],
   "source": [
    "import pandas as pd;\n",
    "import numpy as np;\n",
    "from sklearn.preprocessing import OneHotEncoder;\n",
    "from sklearn.preprocessing import LabelEncoder;\n",
    "from sklearn.preprocessing import MinMaxScaler;\n",
    "import matplotlib.pyplot as plt;"
   ]
  },
  {
   "cell_type": "markdown",
   "metadata": {},
   "source": [
    "# Explonational Data Analysis\n",
    "## Datasets\n",
    "I could to add a new column named True_type_of_transaction for the model training propose (avoid NLP including)\n"
   ]
  },
  {
   "cell_type": "code",
   "execution_count": 135,
   "metadata": {},
   "outputs": [
    {
     "data": {
      "text/html": [
       "<div>\n",
       "<style scoped>\n",
       "    .dataframe tbody tr th:only-of-type {\n",
       "        vertical-align: middle;\n",
       "    }\n",
       "\n",
       "    .dataframe tbody tr th {\n",
       "        vertical-align: top;\n",
       "    }\n",
       "\n",
       "    .dataframe thead th {\n",
       "        text-align: right;\n",
       "    }\n",
       "</style>\n",
       "<table border=\"1\" class=\"dataframe\">\n",
       "  <thead>\n",
       "    <tr style=\"text-align: right;\">\n",
       "      <th></th>\n",
       "      <th>code</th>\n",
       "      <th>Type_of_Transaction</th>\n",
       "      <th>Currency</th>\n",
       "      <th>Transaction_date</th>\n",
       "      <th>Delivery_date</th>\n",
       "      <th>Price</th>\n",
       "      <th>Type_of_currency_1</th>\n",
       "      <th>True_type_of_transaction</th>\n",
       "    </tr>\n",
       "  </thead>\n",
       "  <tbody>\n",
       "    <tr>\n",
       "      <th>0</th>\n",
       "      <td>89169</td>\n",
       "      <td>forward</td>\n",
       "      <td>79242</td>\n",
       "      <td>7/10/2021 13:4</td>\n",
       "      <td>13/10/2021</td>\n",
       "      <td>68851</td>\n",
       "      <td>BTC</td>\n",
       "      <td>forward</td>\n",
       "    </tr>\n",
       "    <tr>\n",
       "      <th>1</th>\n",
       "      <td>45059</td>\n",
       "      <td>forw</td>\n",
       "      <td>18064</td>\n",
       "      <td>14/9/2022 21:30</td>\n",
       "      <td>20/9/2021</td>\n",
       "      <td>39733</td>\n",
       "      <td>BTC</td>\n",
       "      <td>forward</td>\n",
       "    </tr>\n",
       "    <tr>\n",
       "      <th>2</th>\n",
       "      <td>33264</td>\n",
       "      <td>FORWARD</td>\n",
       "      <td>12140</td>\n",
       "      <td>28/10/2021 9:20</td>\n",
       "      <td>28/12/2021</td>\n",
       "      <td>53992</td>\n",
       "      <td>EURO</td>\n",
       "      <td>forward</td>\n",
       "    </tr>\n",
       "    <tr>\n",
       "      <th>3</th>\n",
       "      <td>341610</td>\n",
       "      <td>FORWARD</td>\n",
       "      <td>45912</td>\n",
       "      <td>27/7/2022 11:53</td>\n",
       "      <td>8/2/2021</td>\n",
       "      <td>93761</td>\n",
       "      <td>EURO</td>\n",
       "      <td>forward</td>\n",
       "    </tr>\n",
       "    <tr>\n",
       "      <th>4</th>\n",
       "      <td>354429</td>\n",
       "      <td>forward</td>\n",
       "      <td>96834</td>\n",
       "      <td>25/10/2021 18:5</td>\n",
       "      <td>2/12/2021</td>\n",
       "      <td>43918</td>\n",
       "      <td>BTC</td>\n",
       "      <td>forward</td>\n",
       "    </tr>\n",
       "  </tbody>\n",
       "</table>\n",
       "</div>"
      ],
      "text/plain": [
       "     code Type_of_Transaction  Currency Transaction_date Delivery_date  Price  \\\n",
       "0   89169             forward     79242   7/10/2021 13:4    13/10/2021  68851   \n",
       "1   45059                forw     18064  14/9/2022 21:30     20/9/2021  39733   \n",
       "2   33264             FORWARD     12140  28/10/2021 9:20    28/12/2021  53992   \n",
       "3  341610             FORWARD     45912  27/7/2022 11:53      8/2/2021  93761   \n",
       "4  354429             forward     96834  25/10/2021 18:5     2/12/2021  43918   \n",
       "\n",
       "  Type_of_currency_1 True_type_of_transaction  \n",
       "0                BTC                  forward  \n",
       "1                BTC                  forward  \n",
       "2               EURO                  forward  \n",
       "3               EURO                  forward  \n",
       "4                BTC                  forward  "
      ]
     },
     "execution_count": 135,
     "metadata": {},
     "output_type": "execute_result"
    }
   ],
   "source": [
    "df_forward = pd.read_csv(\"forward_dataset1.csv\")\n",
    "df_forward[\"True_type_of_transaction\"] = \"forward\"\n",
    "df_forward.head()"
   ]
  },
  {
   "cell_type": "code",
   "execution_count": 136,
   "metadata": {},
   "outputs": [
    {
     "data": {
      "text/html": [
       "<div>\n",
       "<style scoped>\n",
       "    .dataframe tbody tr th:only-of-type {\n",
       "        vertical-align: middle;\n",
       "    }\n",
       "\n",
       "    .dataframe tbody tr th {\n",
       "        vertical-align: top;\n",
       "    }\n",
       "\n",
       "    .dataframe thead th {\n",
       "        text-align: right;\n",
       "    }\n",
       "</style>\n",
       "<table border=\"1\" class=\"dataframe\">\n",
       "  <thead>\n",
       "    <tr style=\"text-align: right;\">\n",
       "      <th></th>\n",
       "      <th>code</th>\n",
       "      <th>Type_of_Transaction</th>\n",
       "      <th>Currency</th>\n",
       "      <th>Transaction_date</th>\n",
       "      <th>Delivery_date</th>\n",
       "      <th>Type_of_currency_1</th>\n",
       "      <th>True_type_of_transaction</th>\n",
       "    </tr>\n",
       "  </thead>\n",
       "  <tbody>\n",
       "    <tr>\n",
       "      <th>0</th>\n",
       "      <td>89169</td>\n",
       "      <td>future</td>\n",
       "      <td>79054</td>\n",
       "      <td>6/7/2022 8:0</td>\n",
       "      <td>13/11/2021</td>\n",
       "      <td>EURO</td>\n",
       "      <td>future</td>\n",
       "    </tr>\n",
       "    <tr>\n",
       "      <th>1</th>\n",
       "      <td>732405</td>\n",
       "      <td>future</td>\n",
       "      <td>4174</td>\n",
       "      <td>7/2/2021 23:43</td>\n",
       "      <td>18/11/2021</td>\n",
       "      <td>BTC</td>\n",
       "      <td>future</td>\n",
       "    </tr>\n",
       "    <tr>\n",
       "      <th>2</th>\n",
       "      <td>23579</td>\n",
       "      <td>FUT</td>\n",
       "      <td>53230</td>\n",
       "      <td>21/3/2022 18:16</td>\n",
       "      <td>21/3/2022</td>\n",
       "      <td>EURO</td>\n",
       "      <td>future</td>\n",
       "    </tr>\n",
       "    <tr>\n",
       "      <th>3</th>\n",
       "      <td>547821</td>\n",
       "      <td>fut</td>\n",
       "      <td>74052</td>\n",
       "      <td>21/9/2022 8:50</td>\n",
       "      <td>5/8/2021</td>\n",
       "      <td>EURO</td>\n",
       "      <td>future</td>\n",
       "    </tr>\n",
       "    <tr>\n",
       "      <th>4</th>\n",
       "      <td>21513</td>\n",
       "      <td>FUT</td>\n",
       "      <td>89732</td>\n",
       "      <td>19/9/2021 15:7</td>\n",
       "      <td>5/11/2021</td>\n",
       "      <td>BTC</td>\n",
       "      <td>future</td>\n",
       "    </tr>\n",
       "  </tbody>\n",
       "</table>\n",
       "</div>"
      ],
      "text/plain": [
       "     code Type_of_Transaction  Currency Transaction_date Delivery_date  \\\n",
       "0   89169              future     79054     6/7/2022 8:0    13/11/2021   \n",
       "1  732405              future      4174   7/2/2021 23:43    18/11/2021   \n",
       "2   23579                 FUT     53230  21/3/2022 18:16     21/3/2022   \n",
       "3  547821                 fut     74052   21/9/2022 8:50      5/8/2021   \n",
       "4   21513                 FUT     89732   19/9/2021 15:7     5/11/2021   \n",
       "\n",
       "  Type_of_currency_1 True_type_of_transaction  \n",
       "0               EURO                   future  \n",
       "1                BTC                   future  \n",
       "2               EURO                   future  \n",
       "3               EURO                   future  \n",
       "4                BTC                   future  "
      ]
     },
     "execution_count": 136,
     "metadata": {},
     "output_type": "execute_result"
    }
   ],
   "source": [
    "df_future = pd.read_csv(\"future_dataset1.csv\")\n",
    "df_future[\"True_type_of_transaction\"] = \"future\"\n",
    "df_future.head()"
   ]
  },
  {
   "cell_type": "code",
   "execution_count": 137,
   "metadata": {},
   "outputs": [
    {
     "data": {
      "text/html": [
       "<div>\n",
       "<style scoped>\n",
       "    .dataframe tbody tr th:only-of-type {\n",
       "        vertical-align: middle;\n",
       "    }\n",
       "\n",
       "    .dataframe tbody tr th {\n",
       "        vertical-align: top;\n",
       "    }\n",
       "\n",
       "    .dataframe thead th {\n",
       "        text-align: right;\n",
       "    }\n",
       "</style>\n",
       "<table border=\"1\" class=\"dataframe\">\n",
       "  <thead>\n",
       "    <tr style=\"text-align: right;\">\n",
       "      <th></th>\n",
       "      <th>code</th>\n",
       "      <th>Type_of_currency_1</th>\n",
       "      <th>Type_of_currency_2</th>\n",
       "      <th>Currency</th>\n",
       "      <th>Transaction_date</th>\n",
       "      <th>Delivery_date</th>\n",
       "      <th>Rate</th>\n",
       "      <th>Type_of_Transaction</th>\n",
       "      <th>True_type_of_transaction</th>\n",
       "    </tr>\n",
       "  </thead>\n",
       "  <tbody>\n",
       "    <tr>\n",
       "      <th>0</th>\n",
       "      <td>120446</td>\n",
       "      <td>EURO</td>\n",
       "      <td>EURO</td>\n",
       "      <td>20150</td>\n",
       "      <td>2021-1-13 4:56</td>\n",
       "      <td>2022-11-19</td>\n",
       "      <td>2.69</td>\n",
       "      <td>swp</td>\n",
       "      <td>swap</td>\n",
       "    </tr>\n",
       "    <tr>\n",
       "      <th>1</th>\n",
       "      <td>89169</td>\n",
       "      <td>EURO</td>\n",
       "      <td>BTC</td>\n",
       "      <td>2069</td>\n",
       "      <td>2021-10-5 23:57</td>\n",
       "      <td>2022-8-18</td>\n",
       "      <td>1.93</td>\n",
       "      <td>SWP</td>\n",
       "      <td>swap</td>\n",
       "    </tr>\n",
       "    <tr>\n",
       "      <th>2</th>\n",
       "      <td>955202</td>\n",
       "      <td>EURO</td>\n",
       "      <td>EURO</td>\n",
       "      <td>28210</td>\n",
       "      <td>2021-2-25 12:44</td>\n",
       "      <td>2021-7-2</td>\n",
       "      <td>2.11</td>\n",
       "      <td>swap</td>\n",
       "      <td>swap</td>\n",
       "    </tr>\n",
       "    <tr>\n",
       "      <th>3</th>\n",
       "      <td>80352</td>\n",
       "      <td>EURO</td>\n",
       "      <td>EURO</td>\n",
       "      <td>25432</td>\n",
       "      <td>2022-7-3 12:11</td>\n",
       "      <td>2022-8-27</td>\n",
       "      <td>2.54</td>\n",
       "      <td>swp</td>\n",
       "      <td>swap</td>\n",
       "    </tr>\n",
       "    <tr>\n",
       "      <th>4</th>\n",
       "      <td>114998</td>\n",
       "      <td>EURO</td>\n",
       "      <td>EURO</td>\n",
       "      <td>99121</td>\n",
       "      <td>2021-4-28 11:29</td>\n",
       "      <td>2021-7-11</td>\n",
       "      <td>0.09</td>\n",
       "      <td>swp</td>\n",
       "      <td>swap</td>\n",
       "    </tr>\n",
       "  </tbody>\n",
       "</table>\n",
       "</div>"
      ],
      "text/plain": [
       "     code Type_of_currency_1 Type_of_currency_2  Currency Transaction_date  \\\n",
       "0  120446               EURO               EURO     20150   2021-1-13 4:56   \n",
       "1   89169               EURO                BTC      2069  2021-10-5 23:57   \n",
       "2  955202               EURO               EURO     28210  2021-2-25 12:44   \n",
       "3   80352               EURO               EURO     25432   2022-7-3 12:11   \n",
       "4  114998               EURO               EURO     99121  2021-4-28 11:29   \n",
       "\n",
       "  Delivery_date  Rate Type_of_Transaction True_type_of_transaction  \n",
       "0    2022-11-19  2.69                 swp                     swap  \n",
       "1     2022-8-18  1.93                 SWP                     swap  \n",
       "2      2021-7-2  2.11                swap                     swap  \n",
       "3     2022-8-27  2.54                 swp                     swap  \n",
       "4     2021-7-11  0.09                 swp                     swap  "
      ]
     },
     "execution_count": 137,
     "metadata": {},
     "output_type": "execute_result"
    }
   ],
   "source": [
    "df_swap = pd.read_csv(\"swap_dataset1.csv\")\n",
    "df_swap[\"True_type_of_transaction\"] = \"swap\"\n",
    "df_swap.head()"
   ]
  },
  {
   "cell_type": "markdown",
   "metadata": {},
   "source": [
    "Concatenate all three datasets in one"
   ]
  },
  {
   "cell_type": "code",
   "execution_count": 138,
   "metadata": {},
   "outputs": [
    {
     "data": {
      "text/html": [
       "<div>\n",
       "<style scoped>\n",
       "    .dataframe tbody tr th:only-of-type {\n",
       "        vertical-align: middle;\n",
       "    }\n",
       "\n",
       "    .dataframe tbody tr th {\n",
       "        vertical-align: top;\n",
       "    }\n",
       "\n",
       "    .dataframe thead th {\n",
       "        text-align: right;\n",
       "    }\n",
       "</style>\n",
       "<table border=\"1\" class=\"dataframe\">\n",
       "  <thead>\n",
       "    <tr style=\"text-align: right;\">\n",
       "      <th></th>\n",
       "      <th>code</th>\n",
       "      <th>Type_of_currency_1</th>\n",
       "      <th>Type_of_currency_2</th>\n",
       "      <th>Currency</th>\n",
       "      <th>Transaction_date</th>\n",
       "      <th>Delivery_date</th>\n",
       "      <th>Rate</th>\n",
       "      <th>Type_of_Transaction</th>\n",
       "      <th>True_type_of_transaction</th>\n",
       "      <th>Price</th>\n",
       "    </tr>\n",
       "  </thead>\n",
       "  <tbody>\n",
       "    <tr>\n",
       "      <th>0</th>\n",
       "      <td>120446</td>\n",
       "      <td>EURO</td>\n",
       "      <td>EURO</td>\n",
       "      <td>20150</td>\n",
       "      <td>2021-1-13 4:56</td>\n",
       "      <td>2022-11-19</td>\n",
       "      <td>2.69</td>\n",
       "      <td>swp</td>\n",
       "      <td>swap</td>\n",
       "      <td>NaN</td>\n",
       "    </tr>\n",
       "    <tr>\n",
       "      <th>1</th>\n",
       "      <td>89169</td>\n",
       "      <td>EURO</td>\n",
       "      <td>BTC</td>\n",
       "      <td>2069</td>\n",
       "      <td>2021-10-5 23:57</td>\n",
       "      <td>2022-8-18</td>\n",
       "      <td>1.93</td>\n",
       "      <td>SWP</td>\n",
       "      <td>swap</td>\n",
       "      <td>NaN</td>\n",
       "    </tr>\n",
       "    <tr>\n",
       "      <th>2</th>\n",
       "      <td>955202</td>\n",
       "      <td>EURO</td>\n",
       "      <td>EURO</td>\n",
       "      <td>28210</td>\n",
       "      <td>2021-2-25 12:44</td>\n",
       "      <td>2021-7-2</td>\n",
       "      <td>2.11</td>\n",
       "      <td>swap</td>\n",
       "      <td>swap</td>\n",
       "      <td>NaN</td>\n",
       "    </tr>\n",
       "    <tr>\n",
       "      <th>3</th>\n",
       "      <td>80352</td>\n",
       "      <td>EURO</td>\n",
       "      <td>EURO</td>\n",
       "      <td>25432</td>\n",
       "      <td>2022-7-3 12:11</td>\n",
       "      <td>2022-8-27</td>\n",
       "      <td>2.54</td>\n",
       "      <td>swp</td>\n",
       "      <td>swap</td>\n",
       "      <td>NaN</td>\n",
       "    </tr>\n",
       "    <tr>\n",
       "      <th>4</th>\n",
       "      <td>114998</td>\n",
       "      <td>EURO</td>\n",
       "      <td>EURO</td>\n",
       "      <td>99121</td>\n",
       "      <td>2021-4-28 11:29</td>\n",
       "      <td>2021-7-11</td>\n",
       "      <td>0.09</td>\n",
       "      <td>swp</td>\n",
       "      <td>swap</td>\n",
       "      <td>NaN</td>\n",
       "    </tr>\n",
       "  </tbody>\n",
       "</table>\n",
       "</div>"
      ],
      "text/plain": [
       "     code Type_of_currency_1 Type_of_currency_2  Currency Transaction_date  \\\n",
       "0  120446               EURO               EURO     20150   2021-1-13 4:56   \n",
       "1   89169               EURO                BTC      2069  2021-10-5 23:57   \n",
       "2  955202               EURO               EURO     28210  2021-2-25 12:44   \n",
       "3   80352               EURO               EURO     25432   2022-7-3 12:11   \n",
       "4  114998               EURO               EURO     99121  2021-4-28 11:29   \n",
       "\n",
       "  Delivery_date  Rate Type_of_Transaction True_type_of_transaction  Price  \n",
       "0    2022-11-19  2.69                 swp                     swap    NaN  \n",
       "1     2022-8-18  1.93                 SWP                     swap    NaN  \n",
       "2      2021-7-2  2.11                swap                     swap    NaN  \n",
       "3     2022-8-27  2.54                 swp                     swap    NaN  \n",
       "4     2021-7-11  0.09                 swp                     swap    NaN  "
      ]
     },
     "execution_count": 138,
     "metadata": {},
     "output_type": "execute_result"
    }
   ],
   "source": [
    "df_concat = pd.concat([df_swap, df_forward, df_future])\n",
    "df_concat.head()"
   ]
  },
  {
   "cell_type": "markdown",
   "metadata": {},
   "source": [
    "Let's have a look at the types of variable in this dataset"
   ]
  },
  {
   "cell_type": "code",
   "execution_count": 139,
   "metadata": {},
   "outputs": [
    {
     "data": {
      "text/plain": [
       "code                          int64\n",
       "Type_of_currency_1           object\n",
       "Type_of_currency_2           object\n",
       "Currency                      int64\n",
       "Transaction_date             object\n",
       "Delivery_date                object\n",
       "Rate                        float64\n",
       "Type_of_Transaction          object\n",
       "True_type_of_transaction     object\n",
       "Price                       float64\n",
       "dtype: object"
      ]
     },
     "execution_count": 139,
     "metadata": {},
     "output_type": "execute_result"
    }
   ],
   "source": [
    "df_concat.dtypes"
   ]
  },
  {
   "cell_type": "markdown",
   "metadata": {},
   "source": [
    "We have 10 variablies.\n",
    "4 numerical variablies and 6 categoricals."
   ]
  },
  {
   "cell_type": "markdown",
   "metadata": {},
   "source": [
    "Due to the fact the code should be unique, and the previous concatenatenation i have to check, do i have duplicate code."
   ]
  },
  {
   "cell_type": "code",
   "execution_count": 140,
   "metadata": {},
   "outputs": [
    {
     "name": "stdout",
     "output_type": "stream",
     "text": [
      "Numbers of code duplicate rows: 36113 \n",
      "Numbers of transaction in dataset: 299997 \n",
      "\n"
     ]
    }
   ],
   "source": [
    "df_code_duplicate = len(df_concat['code'])-len(df_concat['code'].drop_duplicates())\n",
    "print(\"Numbers of code duplicate rows: {}\".format(df_code_duplicate), \"\\n\"\n",
    "        \"Numbers of transaction in dataset: {}\".format(len(df_concat)), \"\\n\"\n",
    "        \"\")"
   ]
  },
  {
   "cell_type": "markdown",
   "metadata": {},
   "source": [
    "I have approximately 12% of duplicate codes in dataset. That not much, I will drop that rows."
   ]
  },
  {
   "cell_type": "code",
   "execution_count": 141,
   "metadata": {},
   "outputs": [],
   "source": [
    "df_concat = df_concat.drop_duplicates(subset=['code'])"
   ]
  },
  {
   "cell_type": "code",
   "execution_count": 142,
   "metadata": {},
   "outputs": [
    {
     "data": {
      "text/plain": [
       "(263884, 10)"
      ]
     },
     "execution_count": 142,
     "metadata": {},
     "output_type": "execute_result"
    }
   ],
   "source": [
    "df_concat.shape"
   ]
  },
  {
   "cell_type": "markdown",
   "metadata": {},
   "source": [
    "To have opportunity for the code to be not only number, let leave it like string variable."
   ]
  },
  {
   "cell_type": "markdown",
   "metadata": {},
   "source": [
    "Now let have a look at type_of_transaction 1 and 2 "
   ]
  },
  {
   "cell_type": "code",
   "execution_count": 143,
   "metadata": {},
   "outputs": [
    {
     "data": {
      "text/plain": [
       "EURO    132270\n",
       "BTC     131614\n",
       "Name: Type_of_currency_1, dtype: int64"
      ]
     },
     "execution_count": 143,
     "metadata": {},
     "output_type": "execute_result"
    }
   ],
   "source": [
    "df_concat['Type_of_currency_1'].value_counts()"
   ]
  },
  {
   "cell_type": "markdown",
   "metadata": {},
   "source": [
    "The column Type_of_currency_1 contain categorical nominal variables"
   ]
  },
  {
   "cell_type": "code",
   "execution_count": 144,
   "metadata": {},
   "outputs": [
    {
     "data": {
      "text/plain": [
       "BTC     49441\n",
       "EURO    49279\n",
       "Name: Type_of_currency_2, dtype: int64"
      ]
     },
     "execution_count": 144,
     "metadata": {},
     "output_type": "execute_result"
    }
   ],
   "source": [
    "df_concat['Type_of_currency_2'].value_counts()"
   ]
  },
  {
   "cell_type": "markdown",
   "metadata": {},
   "source": [
    "The column Type_of_currency_2 contain categorical nominal variables too. The type_of_currency 2 appears only in swap transaction."
   ]
  },
  {
   "cell_type": "code",
   "execution_count": 145,
   "metadata": {},
   "outputs": [
    {
     "data": {
      "text/plain": [
       "165164"
      ]
     },
     "execution_count": 145,
     "metadata": {},
     "output_type": "execute_result"
    }
   ],
   "source": [
    "df_concat['Type_of_currency_2'].isnull().sum()"
   ]
  },
  {
   "cell_type": "markdown",
   "metadata": {},
   "source": [
    "I have, 165164 NaN values that means it is not possible to drop NaN rows. In this case, I will replace NaN values with string \"None\"."
   ]
  },
  {
   "cell_type": "code",
   "execution_count": 146,
   "metadata": {},
   "outputs": [],
   "source": [
    "df_concat.loc[:,\"Type_of_currency_2\"] = df_concat[\"Type_of_currency_2\"].astype(str).fillna('NONE')"
   ]
  },
  {
   "cell_type": "code",
   "execution_count": 147,
   "metadata": {},
   "outputs": [
    {
     "data": {
      "text/plain": [
       "nan     165164\n",
       "BTC      49441\n",
       "EURO     49279\n",
       "Name: Type_of_currency_2, dtype: int64"
      ]
     },
     "execution_count": 147,
     "metadata": {},
     "output_type": "execute_result"
    }
   ],
   "source": [
    "df_concat['Type_of_currency_2'].value_counts()"
   ]
  },
  {
   "cell_type": "markdown",
   "metadata": {},
   "source": []
  },
  {
   "cell_type": "code",
   "execution_count": 148,
   "metadata": {},
   "outputs": [
    {
     "name": "stderr",
     "output_type": "stream",
     "text": [
      "C:\\Users\\Admin\\AppData\\Local\\Temp\\ipykernel_9056\\467005550.py:3: DeprecationWarning: In a future version, `df.iloc[:, i] = newvals` will attempt to set the values inplace instead of always setting a new array. To retain the old behavior, use either `df[df.columns[i]] = newvals` or, if columns are non-unique, `df.isetitem(i, newvals)`\n",
      "  df_concat.loc[:,'Type_of_currency_1'] = lbl.transform(df_concat['Type_of_currency_1'])\n"
     ]
    }
   ],
   "source": [
    "lbl = LabelEncoder()\n",
    "lbl.fit(df_concat['Type_of_currency_1'])\n",
    "df_concat.loc[:,'Type_of_currency_1'] = lbl.transform(df_concat['Type_of_currency_1'])\n"
   ]
  },
  {
   "cell_type": "code",
   "execution_count": 149,
   "metadata": {},
   "outputs": [
    {
     "name": "stderr",
     "output_type": "stream",
     "text": [
      "C:\\Users\\Admin\\AppData\\Local\\Temp\\ipykernel_9056\\1365538789.py:2: DeprecationWarning: In a future version, `df.iloc[:, i] = newvals` will attempt to set the values inplace instead of always setting a new array. To retain the old behavior, use either `df[df.columns[i]] = newvals` or, if columns are non-unique, `df.isetitem(i, newvals)`\n",
      "  df_concat.loc[:,'Type_of_currency_2'] = lbl.transform(df_concat['Type_of_currency_2'])\n"
     ]
    }
   ],
   "source": [
    "lbl.fit(df_concat['Type_of_currency_2'])\n",
    "df_concat.loc[:,'Type_of_currency_2'] = lbl.transform(df_concat['Type_of_currency_2'])"
   ]
  },
  {
   "cell_type": "code",
   "execution_count": 150,
   "metadata": {},
   "outputs": [
    {
     "data": {
      "text/plain": [
       "1    132270\n",
       "0    131614\n",
       "Name: Type_of_currency_1, dtype: int64"
      ]
     },
     "execution_count": 150,
     "metadata": {},
     "output_type": "execute_result"
    }
   ],
   "source": [
    "df_concat['Type_of_currency_1'].value_counts()"
   ]
  },
  {
   "cell_type": "code",
   "execution_count": 151,
   "metadata": {},
   "outputs": [
    {
     "data": {
      "text/plain": [
       "2    165164\n",
       "0     49441\n",
       "1     49279\n",
       "Name: Type_of_currency_2, dtype: int64"
      ]
     },
     "execution_count": 151,
     "metadata": {},
     "output_type": "execute_result"
    }
   ],
   "source": [
    "df_concat['Type_of_currency_2'].value_counts()"
   ]
  },
  {
   "cell_type": "code",
   "execution_count": 152,
   "metadata": {},
   "outputs": [
    {
     "data": {
      "text/html": [
       "<div>\n",
       "<style scoped>\n",
       "    .dataframe tbody tr th:only-of-type {\n",
       "        vertical-align: middle;\n",
       "    }\n",
       "\n",
       "    .dataframe tbody tr th {\n",
       "        vertical-align: top;\n",
       "    }\n",
       "\n",
       "    .dataframe thead th {\n",
       "        text-align: right;\n",
       "    }\n",
       "</style>\n",
       "<table border=\"1\" class=\"dataframe\">\n",
       "  <thead>\n",
       "    <tr style=\"text-align: right;\">\n",
       "      <th></th>\n",
       "      <th>code</th>\n",
       "      <th>Type_of_currency_1</th>\n",
       "      <th>Type_of_currency_2</th>\n",
       "      <th>Currency</th>\n",
       "      <th>Transaction_date</th>\n",
       "      <th>Delivery_date</th>\n",
       "      <th>Rate</th>\n",
       "      <th>Type_of_Transaction</th>\n",
       "      <th>True_type_of_transaction</th>\n",
       "      <th>Price</th>\n",
       "    </tr>\n",
       "  </thead>\n",
       "  <tbody>\n",
       "    <tr>\n",
       "      <th>0</th>\n",
       "      <td>120446</td>\n",
       "      <td>1</td>\n",
       "      <td>1</td>\n",
       "      <td>20150</td>\n",
       "      <td>2021-1-13 4:56</td>\n",
       "      <td>2022-11-19</td>\n",
       "      <td>2.69</td>\n",
       "      <td>swp</td>\n",
       "      <td>swap</td>\n",
       "      <td>NaN</td>\n",
       "    </tr>\n",
       "    <tr>\n",
       "      <th>1</th>\n",
       "      <td>89169</td>\n",
       "      <td>1</td>\n",
       "      <td>0</td>\n",
       "      <td>2069</td>\n",
       "      <td>2021-10-5 23:57</td>\n",
       "      <td>2022-8-18</td>\n",
       "      <td>1.93</td>\n",
       "      <td>SWP</td>\n",
       "      <td>swap</td>\n",
       "      <td>NaN</td>\n",
       "    </tr>\n",
       "    <tr>\n",
       "      <th>2</th>\n",
       "      <td>955202</td>\n",
       "      <td>1</td>\n",
       "      <td>1</td>\n",
       "      <td>28210</td>\n",
       "      <td>2021-2-25 12:44</td>\n",
       "      <td>2021-7-2</td>\n",
       "      <td>2.11</td>\n",
       "      <td>swap</td>\n",
       "      <td>swap</td>\n",
       "      <td>NaN</td>\n",
       "    </tr>\n",
       "    <tr>\n",
       "      <th>3</th>\n",
       "      <td>80352</td>\n",
       "      <td>1</td>\n",
       "      <td>1</td>\n",
       "      <td>25432</td>\n",
       "      <td>2022-7-3 12:11</td>\n",
       "      <td>2022-8-27</td>\n",
       "      <td>2.54</td>\n",
       "      <td>swp</td>\n",
       "      <td>swap</td>\n",
       "      <td>NaN</td>\n",
       "    </tr>\n",
       "    <tr>\n",
       "      <th>4</th>\n",
       "      <td>114998</td>\n",
       "      <td>1</td>\n",
       "      <td>1</td>\n",
       "      <td>99121</td>\n",
       "      <td>2021-4-28 11:29</td>\n",
       "      <td>2021-7-11</td>\n",
       "      <td>0.09</td>\n",
       "      <td>swp</td>\n",
       "      <td>swap</td>\n",
       "      <td>NaN</td>\n",
       "    </tr>\n",
       "  </tbody>\n",
       "</table>\n",
       "</div>"
      ],
      "text/plain": [
       "     code  Type_of_currency_1  Type_of_currency_2  Currency Transaction_date  \\\n",
       "0  120446                   1                   1     20150   2021-1-13 4:56   \n",
       "1   89169                   1                   0      2069  2021-10-5 23:57   \n",
       "2  955202                   1                   1     28210  2021-2-25 12:44   \n",
       "3   80352                   1                   1     25432   2022-7-3 12:11   \n",
       "4  114998                   1                   1     99121  2021-4-28 11:29   \n",
       "\n",
       "  Delivery_date  Rate Type_of_Transaction True_type_of_transaction  Price  \n",
       "0    2022-11-19  2.69                 swp                     swap    NaN  \n",
       "1     2022-8-18  1.93                 SWP                     swap    NaN  \n",
       "2      2021-7-2  2.11                swap                     swap    NaN  \n",
       "3     2022-8-27  2.54                 swp                     swap    NaN  \n",
       "4     2021-7-11  0.09                 swp                     swap    NaN  "
      ]
     },
     "execution_count": 152,
     "metadata": {},
     "output_type": "execute_result"
    }
   ],
   "source": [
    "df_concat.head()"
   ]
  },
  {
   "cell_type": "code",
   "execution_count": 153,
   "metadata": {},
   "outputs": [
    {
     "data": {
      "text/html": [
       "<div>\n",
       "<style scoped>\n",
       "    .dataframe tbody tr th:only-of-type {\n",
       "        vertical-align: middle;\n",
       "    }\n",
       "\n",
       "    .dataframe tbody tr th {\n",
       "        vertical-align: top;\n",
       "    }\n",
       "\n",
       "    .dataframe thead th {\n",
       "        text-align: right;\n",
       "    }\n",
       "</style>\n",
       "<table border=\"1\" class=\"dataframe\">\n",
       "  <thead>\n",
       "    <tr style=\"text-align: right;\">\n",
       "      <th></th>\n",
       "      <th>code</th>\n",
       "      <th>Type_of_currency_1</th>\n",
       "      <th>Type_of_currency_2</th>\n",
       "      <th>Currency</th>\n",
       "      <th>Rate</th>\n",
       "      <th>Price</th>\n",
       "    </tr>\n",
       "  </thead>\n",
       "  <tbody>\n",
       "    <tr>\n",
       "      <th>count</th>\n",
       "      <td>2.638840e+05</td>\n",
       "      <td>263884.000000</td>\n",
       "      <td>263884.000000</td>\n",
       "      <td>263884.000000</td>\n",
       "      <td>98720.000000</td>\n",
       "      <td>86859.000000</td>\n",
       "    </tr>\n",
       "    <tr>\n",
       "      <th>mean</th>\n",
       "      <td>2.213522e+06</td>\n",
       "      <td>0.501243</td>\n",
       "      <td>1.438537</td>\n",
       "      <td>49966.978790</td>\n",
       "      <td>1.500079</td>\n",
       "      <td>49998.604474</td>\n",
       "    </tr>\n",
       "    <tr>\n",
       "      <th>std</th>\n",
       "      <td>2.940484e+06</td>\n",
       "      <td>0.499999</td>\n",
       "      <td>0.787999</td>\n",
       "      <td>28825.627432</td>\n",
       "      <td>0.867078</td>\n",
       "      <td>28975.316691</td>\n",
       "    </tr>\n",
       "    <tr>\n",
       "      <th>min</th>\n",
       "      <td>0.000000e+00</td>\n",
       "      <td>0.000000</td>\n",
       "      <td>0.000000</td>\n",
       "      <td>1.000000</td>\n",
       "      <td>0.000000</td>\n",
       "      <td>2.000000</td>\n",
       "    </tr>\n",
       "    <tr>\n",
       "      <th>25%</th>\n",
       "      <td>9.554875e+04</td>\n",
       "      <td>0.000000</td>\n",
       "      <td>1.000000</td>\n",
       "      <td>25096.750000</td>\n",
       "      <td>0.750000</td>\n",
       "      <td>24777.000000</td>\n",
       "    </tr>\n",
       "    <tr>\n",
       "      <th>50%</th>\n",
       "      <td>6.710505e+05</td>\n",
       "      <td>1.000000</td>\n",
       "      <td>2.000000</td>\n",
       "      <td>49961.500000</td>\n",
       "      <td>1.490000</td>\n",
       "      <td>49985.000000</td>\n",
       "    </tr>\n",
       "    <tr>\n",
       "      <th>75%</th>\n",
       "      <td>3.801197e+06</td>\n",
       "      <td>1.000000</td>\n",
       "      <td>2.000000</td>\n",
       "      <td>74888.250000</td>\n",
       "      <td>2.250000</td>\n",
       "      <td>75281.500000</td>\n",
       "    </tr>\n",
       "    <tr>\n",
       "      <th>max</th>\n",
       "      <td>9.999968e+06</td>\n",
       "      <td>1.000000</td>\n",
       "      <td>2.000000</td>\n",
       "      <td>100000.000000</td>\n",
       "      <td>3.000000</td>\n",
       "      <td>99998.000000</td>\n",
       "    </tr>\n",
       "  </tbody>\n",
       "</table>\n",
       "</div>"
      ],
      "text/plain": [
       "               code  Type_of_currency_1  Type_of_currency_2       Currency  \\\n",
       "count  2.638840e+05       263884.000000       263884.000000  263884.000000   \n",
       "mean   2.213522e+06            0.501243            1.438537   49966.978790   \n",
       "std    2.940484e+06            0.499999            0.787999   28825.627432   \n",
       "min    0.000000e+00            0.000000            0.000000       1.000000   \n",
       "25%    9.554875e+04            0.000000            1.000000   25096.750000   \n",
       "50%    6.710505e+05            1.000000            2.000000   49961.500000   \n",
       "75%    3.801197e+06            1.000000            2.000000   74888.250000   \n",
       "max    9.999968e+06            1.000000            2.000000  100000.000000   \n",
       "\n",
       "               Rate         Price  \n",
       "count  98720.000000  86859.000000  \n",
       "mean       1.500079  49998.604474  \n",
       "std        0.867078  28975.316691  \n",
       "min        0.000000      2.000000  \n",
       "25%        0.750000  24777.000000  \n",
       "50%        1.490000  49985.000000  \n",
       "75%        2.250000  75281.500000  \n",
       "max        3.000000  99998.000000  "
      ]
     },
     "execution_count": 153,
     "metadata": {},
     "output_type": "execute_result"
    }
   ],
   "source": [
    "df_concat.describe()"
   ]
  },
  {
   "cell_type": "markdown",
   "metadata": {},
   "source": [
    "Due to the fact that our dataset is learning dataset, the currency, rate and price columns has normal distribution. "
   ]
  },
  {
   "cell_type": "markdown",
   "metadata": {},
   "source": [
    "For the machine learning model is good practice to normalizate the value between 0 and 1, that increase the learning speed of the model."
   ]
  },
  {
   "cell_type": "code",
   "execution_count": 154,
   "metadata": {},
   "outputs": [],
   "source": [
    "cols_continuous = [\"Currency\", \"Rate\", \"Price\"]"
   ]
  },
  {
   "cell_type": "code",
   "execution_count": 155,
   "metadata": {},
   "outputs": [
    {
     "data": {
      "text/html": [
       "<div>\n",
       "<style scoped>\n",
       "    .dataframe tbody tr th:only-of-type {\n",
       "        vertical-align: middle;\n",
       "    }\n",
       "\n",
       "    .dataframe tbody tr th {\n",
       "        vertical-align: top;\n",
       "    }\n",
       "\n",
       "    .dataframe thead th {\n",
       "        text-align: right;\n",
       "    }\n",
       "</style>\n",
       "<table border=\"1\" class=\"dataframe\">\n",
       "  <thead>\n",
       "    <tr style=\"text-align: right;\">\n",
       "      <th></th>\n",
       "      <th>code</th>\n",
       "      <th>Type_of_currency_1</th>\n",
       "      <th>Type_of_currency_2</th>\n",
       "      <th>Currency</th>\n",
       "      <th>Transaction_date</th>\n",
       "      <th>Delivery_date</th>\n",
       "      <th>Rate</th>\n",
       "      <th>Type_of_Transaction</th>\n",
       "      <th>True_type_of_transaction</th>\n",
       "      <th>Price</th>\n",
       "    </tr>\n",
       "  </thead>\n",
       "  <tbody>\n",
       "    <tr>\n",
       "      <th>0</th>\n",
       "      <td>120446</td>\n",
       "      <td>1</td>\n",
       "      <td>1</td>\n",
       "      <td>0.201492</td>\n",
       "      <td>2021-1-13 4:56</td>\n",
       "      <td>2022-11-19</td>\n",
       "      <td>0.896667</td>\n",
       "      <td>swp</td>\n",
       "      <td>swap</td>\n",
       "      <td>NaN</td>\n",
       "    </tr>\n",
       "    <tr>\n",
       "      <th>1</th>\n",
       "      <td>89169</td>\n",
       "      <td>1</td>\n",
       "      <td>0</td>\n",
       "      <td>0.020680</td>\n",
       "      <td>2021-10-5 23:57</td>\n",
       "      <td>2022-8-18</td>\n",
       "      <td>0.643333</td>\n",
       "      <td>SWP</td>\n",
       "      <td>swap</td>\n",
       "      <td>NaN</td>\n",
       "    </tr>\n",
       "    <tr>\n",
       "      <th>2</th>\n",
       "      <td>955202</td>\n",
       "      <td>1</td>\n",
       "      <td>1</td>\n",
       "      <td>0.282093</td>\n",
       "      <td>2021-2-25 12:44</td>\n",
       "      <td>2021-7-2</td>\n",
       "      <td>0.703333</td>\n",
       "      <td>swap</td>\n",
       "      <td>swap</td>\n",
       "      <td>NaN</td>\n",
       "    </tr>\n",
       "    <tr>\n",
       "      <th>3</th>\n",
       "      <td>80352</td>\n",
       "      <td>1</td>\n",
       "      <td>1</td>\n",
       "      <td>0.254313</td>\n",
       "      <td>2022-7-3 12:11</td>\n",
       "      <td>2022-8-27</td>\n",
       "      <td>0.846667</td>\n",
       "      <td>swp</td>\n",
       "      <td>swap</td>\n",
       "      <td>NaN</td>\n",
       "    </tr>\n",
       "    <tr>\n",
       "      <th>4</th>\n",
       "      <td>114998</td>\n",
       "      <td>1</td>\n",
       "      <td>1</td>\n",
       "      <td>0.991210</td>\n",
       "      <td>2021-4-28 11:29</td>\n",
       "      <td>2021-7-11</td>\n",
       "      <td>0.030000</td>\n",
       "      <td>swp</td>\n",
       "      <td>swap</td>\n",
       "      <td>NaN</td>\n",
       "    </tr>\n",
       "  </tbody>\n",
       "</table>\n",
       "</div>"
      ],
      "text/plain": [
       "     code  Type_of_currency_1  Type_of_currency_2  Currency Transaction_date  \\\n",
       "0  120446                   1                   1  0.201492   2021-1-13 4:56   \n",
       "1   89169                   1                   0  0.020680  2021-10-5 23:57   \n",
       "2  955202                   1                   1  0.282093  2021-2-25 12:44   \n",
       "3   80352                   1                   1  0.254313   2022-7-3 12:11   \n",
       "4  114998                   1                   1  0.991210  2021-4-28 11:29   \n",
       "\n",
       "  Delivery_date      Rate Type_of_Transaction True_type_of_transaction  Price  \n",
       "0    2022-11-19  0.896667                 swp                     swap    NaN  \n",
       "1     2022-8-18  0.643333                 SWP                     swap    NaN  \n",
       "2      2021-7-2  0.703333                swap                     swap    NaN  \n",
       "3     2022-8-27  0.846667                 swp                     swap    NaN  \n",
       "4     2021-7-11  0.030000                 swp                     swap    NaN  "
      ]
     },
     "execution_count": 155,
     "metadata": {},
     "output_type": "execute_result"
    }
   ],
   "source": [
    "cs = MinMaxScaler();\n",
    "df_concat[cols_continuous] = cs.fit_transform(df_concat[cols_continuous])\n",
    "df_concat.head()"
   ]
  },
  {
   "cell_type": "code",
   "execution_count": 156,
   "metadata": {},
   "outputs": [
    {
     "data": {
      "text/html": [
       "<div>\n",
       "<style scoped>\n",
       "    .dataframe tbody tr th:only-of-type {\n",
       "        vertical-align: middle;\n",
       "    }\n",
       "\n",
       "    .dataframe tbody tr th {\n",
       "        vertical-align: top;\n",
       "    }\n",
       "\n",
       "    .dataframe thead th {\n",
       "        text-align: right;\n",
       "    }\n",
       "</style>\n",
       "<table border=\"1\" class=\"dataframe\">\n",
       "  <thead>\n",
       "    <tr style=\"text-align: right;\">\n",
       "      <th></th>\n",
       "      <th>code</th>\n",
       "      <th>Type_of_currency_1</th>\n",
       "      <th>Type_of_currency_2</th>\n",
       "      <th>Currency</th>\n",
       "      <th>Transaction_date</th>\n",
       "      <th>Delivery_date</th>\n",
       "      <th>Rate</th>\n",
       "      <th>Type_of_Transaction</th>\n",
       "      <th>True_type_of_transaction</th>\n",
       "      <th>Price</th>\n",
       "    </tr>\n",
       "  </thead>\n",
       "  <tbody>\n",
       "    <tr>\n",
       "      <th>0</th>\n",
       "      <td>120446</td>\n",
       "      <td>1</td>\n",
       "      <td>1</td>\n",
       "      <td>0.201492</td>\n",
       "      <td>2021-1-13 4:56</td>\n",
       "      <td>2022-11-19</td>\n",
       "      <td>0.896667</td>\n",
       "      <td>swp</td>\n",
       "      <td>swap</td>\n",
       "      <td>NaN</td>\n",
       "    </tr>\n",
       "    <tr>\n",
       "      <th>1</th>\n",
       "      <td>89169</td>\n",
       "      <td>1</td>\n",
       "      <td>0</td>\n",
       "      <td>0.020680</td>\n",
       "      <td>2021-10-5 23:57</td>\n",
       "      <td>2022-8-18</td>\n",
       "      <td>0.643333</td>\n",
       "      <td>SWP</td>\n",
       "      <td>swap</td>\n",
       "      <td>NaN</td>\n",
       "    </tr>\n",
       "    <tr>\n",
       "      <th>2</th>\n",
       "      <td>955202</td>\n",
       "      <td>1</td>\n",
       "      <td>1</td>\n",
       "      <td>0.282093</td>\n",
       "      <td>2021-2-25 12:44</td>\n",
       "      <td>2021-7-2</td>\n",
       "      <td>0.703333</td>\n",
       "      <td>swap</td>\n",
       "      <td>swap</td>\n",
       "      <td>NaN</td>\n",
       "    </tr>\n",
       "    <tr>\n",
       "      <th>3</th>\n",
       "      <td>80352</td>\n",
       "      <td>1</td>\n",
       "      <td>1</td>\n",
       "      <td>0.254313</td>\n",
       "      <td>2022-7-3 12:11</td>\n",
       "      <td>2022-8-27</td>\n",
       "      <td>0.846667</td>\n",
       "      <td>swp</td>\n",
       "      <td>swap</td>\n",
       "      <td>NaN</td>\n",
       "    </tr>\n",
       "    <tr>\n",
       "      <th>4</th>\n",
       "      <td>114998</td>\n",
       "      <td>1</td>\n",
       "      <td>1</td>\n",
       "      <td>0.991210</td>\n",
       "      <td>2021-4-28 11:29</td>\n",
       "      <td>2021-7-11</td>\n",
       "      <td>0.030000</td>\n",
       "      <td>swp</td>\n",
       "      <td>swap</td>\n",
       "      <td>NaN</td>\n",
       "    </tr>\n",
       "  </tbody>\n",
       "</table>\n",
       "</div>"
      ],
      "text/plain": [
       "     code  Type_of_currency_1  Type_of_currency_2  Currency Transaction_date  \\\n",
       "0  120446                   1                   1  0.201492   2021-1-13 4:56   \n",
       "1   89169                   1                   0  0.020680  2021-10-5 23:57   \n",
       "2  955202                   1                   1  0.282093  2021-2-25 12:44   \n",
       "3   80352                   1                   1  0.254313   2022-7-3 12:11   \n",
       "4  114998                   1                   1  0.991210  2021-4-28 11:29   \n",
       "\n",
       "  Delivery_date      Rate Type_of_Transaction True_type_of_transaction  Price  \n",
       "0    2022-11-19  0.896667                 swp                     swap    NaN  \n",
       "1     2022-8-18  0.643333                 SWP                     swap    NaN  \n",
       "2      2021-7-2  0.703333                swap                     swap    NaN  \n",
       "3     2022-8-27  0.846667                 swp                     swap    NaN  \n",
       "4     2021-7-11  0.030000                 swp                     swap    NaN  "
      ]
     },
     "execution_count": 156,
     "metadata": {},
     "output_type": "execute_result"
    }
   ],
   "source": [
    "df_concat.head()"
   ]
  },
  {
   "cell_type": "code",
   "execution_count": 157,
   "metadata": {},
   "outputs": [
    {
     "data": {
      "text/plain": [
       "0"
      ]
     },
     "execution_count": 157,
     "metadata": {},
     "output_type": "execute_result"
    }
   ],
   "source": [
    "df_concat['Transaction_date'].isnull().sum()"
   ]
  },
  {
   "cell_type": "code",
   "execution_count": 158,
   "metadata": {},
   "outputs": [
    {
     "data": {
      "text/plain": [
       "0"
      ]
     },
     "execution_count": 158,
     "metadata": {},
     "output_type": "execute_result"
    }
   ],
   "source": [
    "df_concat['True_type_of_transaction'].isnull().sum()"
   ]
  },
  {
   "cell_type": "code",
   "execution_count": 159,
   "metadata": {},
   "outputs": [
    {
     "data": {
      "text/plain": [
       "0"
      ]
     },
     "execution_count": 159,
     "metadata": {},
     "output_type": "execute_result"
    }
   ],
   "source": [
    "df_concat['Delivery_date'].isnull().sum()"
   ]
  },
  {
   "cell_type": "code",
   "execution_count": 160,
   "metadata": {},
   "outputs": [
    {
     "name": "stderr",
     "output_type": "stream",
     "text": [
      "C:\\Users\\Admin\\AppData\\Local\\Temp\\ipykernel_9056\\4156551979.py:2: DeprecationWarning: In a future version, `df.iloc[:, i] = newvals` will attempt to set the values inplace instead of always setting a new array. To retain the old behavior, use either `df[df.columns[i]] = newvals` or, if columns are non-unique, `df.isetitem(i, newvals)`\n",
      "  df_concat.loc[:,'Transaction_date'] = lbl.transform(df_concat['Transaction_date'])\n"
     ]
    }
   ],
   "source": [
    "lbl.fit(df_concat['Transaction_date'])\n",
    "df_concat.loc[:,'Transaction_date'] = lbl.transform(df_concat['Transaction_date'])"
   ]
  },
  {
   "cell_type": "code",
   "execution_count": 161,
   "metadata": {},
   "outputs": [
    {
     "name": "stderr",
     "output_type": "stream",
     "text": [
      "C:\\Users\\Admin\\AppData\\Local\\Temp\\ipykernel_9056\\79088673.py:2: DeprecationWarning: In a future version, `df.iloc[:, i] = newvals` will attempt to set the values inplace instead of always setting a new array. To retain the old behavior, use either `df[df.columns[i]] = newvals` or, if columns are non-unique, `df.isetitem(i, newvals)`\n",
      "  df_concat.loc[:,'Delivery_date'] = lbl.transform(df_concat['Delivery_date'])\n"
     ]
    }
   ],
   "source": [
    "lbl.fit(df_concat['Delivery_date'])\n",
    "df_concat.loc[:,'Delivery_date'] = lbl.transform(df_concat['Delivery_date'])"
   ]
  },
  {
   "cell_type": "code",
   "execution_count": 162,
   "metadata": {},
   "outputs": [
    {
     "name": "stderr",
     "output_type": "stream",
     "text": [
      "C:\\Users\\Admin\\AppData\\Local\\Temp\\ipykernel_9056\\4217628056.py:2: DeprecationWarning: In a future version, `df.iloc[:, i] = newvals` will attempt to set the values inplace instead of always setting a new array. To retain the old behavior, use either `df[df.columns[i]] = newvals` or, if columns are non-unique, `df.isetitem(i, newvals)`\n",
      "  df_concat.loc[:,'True_type_of_transaction'] = lbl.transform(df_concat['True_type_of_transaction'])\n"
     ]
    }
   ],
   "source": [
    "lbl.fit(df_concat['True_type_of_transaction'])\n",
    "df_concat.loc[:,'True_type_of_transaction'] = lbl.transform(df_concat['True_type_of_transaction'])"
   ]
  },
  {
   "cell_type": "code",
   "execution_count": 163,
   "metadata": {},
   "outputs": [
    {
     "data": {
      "text/html": [
       "<div>\n",
       "<style scoped>\n",
       "    .dataframe tbody tr th:only-of-type {\n",
       "        vertical-align: middle;\n",
       "    }\n",
       "\n",
       "    .dataframe tbody tr th {\n",
       "        vertical-align: top;\n",
       "    }\n",
       "\n",
       "    .dataframe thead th {\n",
       "        text-align: right;\n",
       "    }\n",
       "</style>\n",
       "<table border=\"1\" class=\"dataframe\">\n",
       "  <thead>\n",
       "    <tr style=\"text-align: right;\">\n",
       "      <th></th>\n",
       "      <th>code</th>\n",
       "      <th>Type_of_currency_1</th>\n",
       "      <th>Type_of_currency_2</th>\n",
       "      <th>Currency</th>\n",
       "      <th>Transaction_date</th>\n",
       "      <th>Delivery_date</th>\n",
       "      <th>Rate</th>\n",
       "      <th>Type_of_Transaction</th>\n",
       "      <th>True_type_of_transaction</th>\n",
       "      <th>Price</th>\n",
       "    </tr>\n",
       "  </thead>\n",
       "  <tbody>\n",
       "    <tr>\n",
       "      <th>0</th>\n",
       "      <td>120446</td>\n",
       "      <td>1</td>\n",
       "      <td>1</td>\n",
       "      <td>0.201492</td>\n",
       "      <td>71208</td>\n",
       "      <td>714</td>\n",
       "      <td>0.896667</td>\n",
       "      <td>swp</td>\n",
       "      <td>2</td>\n",
       "      <td>NaN</td>\n",
       "    </tr>\n",
       "    <tr>\n",
       "      <th>1</th>\n",
       "      <td>89169</td>\n",
       "      <td>1</td>\n",
       "      <td>0</td>\n",
       "      <td>0.020680</td>\n",
       "      <td>77706</td>\n",
       "      <td>937</td>\n",
       "      <td>0.643333</td>\n",
       "      <td>SWP</td>\n",
       "      <td>2</td>\n",
       "      <td>NaN</td>\n",
       "    </tr>\n",
       "    <tr>\n",
       "      <th>2</th>\n",
       "      <td>955202</td>\n",
       "      <td>1</td>\n",
       "      <td>1</td>\n",
       "      <td>0.282093</td>\n",
       "      <td>88424</td>\n",
       "      <td>575</td>\n",
       "      <td>0.703333</td>\n",
       "      <td>swap</td>\n",
       "      <td>2</td>\n",
       "      <td>NaN</td>\n",
       "    </tr>\n",
       "    <tr>\n",
       "      <th>3</th>\n",
       "      <td>80352</td>\n",
       "      <td>1</td>\n",
       "      <td>1</td>\n",
       "      <td>0.254313</td>\n",
       "      <td>155500</td>\n",
       "      <td>947</td>\n",
       "      <td>0.846667</td>\n",
       "      <td>swp</td>\n",
       "      <td>2</td>\n",
       "      <td>NaN</td>\n",
       "    </tr>\n",
       "    <tr>\n",
       "      <th>4</th>\n",
       "      <td>114998</td>\n",
       "      <td>1</td>\n",
       "      <td>1</td>\n",
       "      <td>0.991210</td>\n",
       "      <td>96698</td>\n",
       "      <td>566</td>\n",
       "      <td>0.030000</td>\n",
       "      <td>swp</td>\n",
       "      <td>2</td>\n",
       "      <td>NaN</td>\n",
       "    </tr>\n",
       "  </tbody>\n",
       "</table>\n",
       "</div>"
      ],
      "text/plain": [
       "     code  Type_of_currency_1  Type_of_currency_2  Currency  Transaction_date  \\\n",
       "0  120446                   1                   1  0.201492             71208   \n",
       "1   89169                   1                   0  0.020680             77706   \n",
       "2  955202                   1                   1  0.282093             88424   \n",
       "3   80352                   1                   1  0.254313            155500   \n",
       "4  114998                   1                   1  0.991210             96698   \n",
       "\n",
       "   Delivery_date      Rate Type_of_Transaction  True_type_of_transaction  \\\n",
       "0            714  0.896667                 swp                         2   \n",
       "1            937  0.643333                 SWP                         2   \n",
       "2            575  0.703333                swap                         2   \n",
       "3            947  0.846667                 swp                         2   \n",
       "4            566  0.030000                 swp                         2   \n",
       "\n",
       "   Price  \n",
       "0    NaN  \n",
       "1    NaN  \n",
       "2    NaN  \n",
       "3    NaN  \n",
       "4    NaN  "
      ]
     },
     "execution_count": 163,
     "metadata": {},
     "output_type": "execute_result"
    }
   ],
   "source": [
    "df_concat.head()"
   ]
  },
  {
   "cell_type": "code",
   "execution_count": 164,
   "metadata": {},
   "outputs": [
    {
     "name": "stderr",
     "output_type": "stream",
     "text": [
      "C:\\Users\\Admin\\AppData\\Local\\Temp\\ipykernel_9056\\1900163243.py:2: DeprecationWarning: In a future version, `df.iloc[:, i] = newvals` will attempt to set the values inplace instead of always setting a new array. To retain the old behavior, use either `df[df.columns[i]] = newvals` or, if columns are non-unique, `df.isetitem(i, newvals)`\n",
      "  df_concat.loc[:,'Price'] = lbl.transform(df_concat['Price'])\n"
     ]
    }
   ],
   "source": [
    "\n",
    "lbl.fit(df_concat['Price'])\n",
    "df_concat.loc[:,'Price'] = lbl.transform(df_concat['Price'])"
   ]
  },
  {
   "cell_type": "code",
   "execution_count": 165,
   "metadata": {},
   "outputs": [
    {
     "data": {
      "text/html": [
       "<div>\n",
       "<style scoped>\n",
       "    .dataframe tbody tr th:only-of-type {\n",
       "        vertical-align: middle;\n",
       "    }\n",
       "\n",
       "    .dataframe tbody tr th {\n",
       "        vertical-align: top;\n",
       "    }\n",
       "\n",
       "    .dataframe thead th {\n",
       "        text-align: right;\n",
       "    }\n",
       "</style>\n",
       "<table border=\"1\" class=\"dataframe\">\n",
       "  <thead>\n",
       "    <tr style=\"text-align: right;\">\n",
       "      <th></th>\n",
       "      <th>code</th>\n",
       "      <th>Type_of_currency_1</th>\n",
       "      <th>Type_of_currency_2</th>\n",
       "      <th>Currency</th>\n",
       "      <th>Transaction_date</th>\n",
       "      <th>Delivery_date</th>\n",
       "      <th>Rate</th>\n",
       "      <th>Type_of_Transaction</th>\n",
       "      <th>True_type_of_transaction</th>\n",
       "      <th>Price</th>\n",
       "    </tr>\n",
       "  </thead>\n",
       "  <tbody>\n",
       "    <tr>\n",
       "      <th>0</th>\n",
       "      <td>120446</td>\n",
       "      <td>1</td>\n",
       "      <td>1</td>\n",
       "      <td>0.201492</td>\n",
       "      <td>71208</td>\n",
       "      <td>714</td>\n",
       "      <td>0.896667</td>\n",
       "      <td>swp</td>\n",
       "      <td>2</td>\n",
       "      <td>58105</td>\n",
       "    </tr>\n",
       "    <tr>\n",
       "      <th>1</th>\n",
       "      <td>89169</td>\n",
       "      <td>1</td>\n",
       "      <td>0</td>\n",
       "      <td>0.020680</td>\n",
       "      <td>77706</td>\n",
       "      <td>937</td>\n",
       "      <td>0.643333</td>\n",
       "      <td>SWP</td>\n",
       "      <td>2</td>\n",
       "      <td>58105</td>\n",
       "    </tr>\n",
       "    <tr>\n",
       "      <th>2</th>\n",
       "      <td>955202</td>\n",
       "      <td>1</td>\n",
       "      <td>1</td>\n",
       "      <td>0.282093</td>\n",
       "      <td>88424</td>\n",
       "      <td>575</td>\n",
       "      <td>0.703333</td>\n",
       "      <td>swap</td>\n",
       "      <td>2</td>\n",
       "      <td>58105</td>\n",
       "    </tr>\n",
       "    <tr>\n",
       "      <th>3</th>\n",
       "      <td>80352</td>\n",
       "      <td>1</td>\n",
       "      <td>1</td>\n",
       "      <td>0.254313</td>\n",
       "      <td>155500</td>\n",
       "      <td>947</td>\n",
       "      <td>0.846667</td>\n",
       "      <td>swp</td>\n",
       "      <td>2</td>\n",
       "      <td>58105</td>\n",
       "    </tr>\n",
       "    <tr>\n",
       "      <th>4</th>\n",
       "      <td>114998</td>\n",
       "      <td>1</td>\n",
       "      <td>1</td>\n",
       "      <td>0.991210</td>\n",
       "      <td>96698</td>\n",
       "      <td>566</td>\n",
       "      <td>0.030000</td>\n",
       "      <td>swp</td>\n",
       "      <td>2</td>\n",
       "      <td>58105</td>\n",
       "    </tr>\n",
       "    <tr>\n",
       "      <th>...</th>\n",
       "      <td>...</td>\n",
       "      <td>...</td>\n",
       "      <td>...</td>\n",
       "      <td>...</td>\n",
       "      <td>...</td>\n",
       "      <td>...</td>\n",
       "      <td>...</td>\n",
       "      <td>...</td>\n",
       "      <td>...</td>\n",
       "      <td>...</td>\n",
       "    </tr>\n",
       "    <tr>\n",
       "      <th>99991</th>\n",
       "      <td>7321545</td>\n",
       "      <td>1</td>\n",
       "      <td>2</td>\n",
       "      <td>0.019710</td>\n",
       "      <td>16438</td>\n",
       "      <td>266</td>\n",
       "      <td>NaN</td>\n",
       "      <td>FUTURE</td>\n",
       "      <td>1</td>\n",
       "      <td>58105</td>\n",
       "    </tr>\n",
       "    <tr>\n",
       "      <th>99992</th>\n",
       "      <td>12210</td>\n",
       "      <td>0</td>\n",
       "      <td>2</td>\n",
       "      <td>0.978010</td>\n",
       "      <td>230501</td>\n",
       "      <td>145</td>\n",
       "      <td>NaN</td>\n",
       "      <td>FUT</td>\n",
       "      <td>1</td>\n",
       "      <td>58105</td>\n",
       "    </tr>\n",
       "    <tr>\n",
       "      <th>99994</th>\n",
       "      <td>780677</td>\n",
       "      <td>1</td>\n",
       "      <td>2</td>\n",
       "      <td>0.582086</td>\n",
       "      <td>210068</td>\n",
       "      <td>106</td>\n",
       "      <td>NaN</td>\n",
       "      <td>FUTURE</td>\n",
       "      <td>1</td>\n",
       "      <td>58105</td>\n",
       "    </tr>\n",
       "    <tr>\n",
       "      <th>99997</th>\n",
       "      <td>4393683</td>\n",
       "      <td>0</td>\n",
       "      <td>2</td>\n",
       "      <td>0.473025</td>\n",
       "      <td>26208</td>\n",
       "      <td>82</td>\n",
       "      <td>NaN</td>\n",
       "      <td>FUT</td>\n",
       "      <td>1</td>\n",
       "      <td>58105</td>\n",
       "    </tr>\n",
       "    <tr>\n",
       "      <th>99998</th>\n",
       "      <td>106699</td>\n",
       "      <td>0</td>\n",
       "      <td>2</td>\n",
       "      <td>0.691467</td>\n",
       "      <td>13991</td>\n",
       "      <td>1311</td>\n",
       "      <td>NaN</td>\n",
       "      <td>future</td>\n",
       "      <td>1</td>\n",
       "      <td>58105</td>\n",
       "    </tr>\n",
       "  </tbody>\n",
       "</table>\n",
       "<p>263884 rows × 10 columns</p>\n",
       "</div>"
      ],
      "text/plain": [
       "          code  Type_of_currency_1  Type_of_currency_2  Currency  \\\n",
       "0       120446                   1                   1  0.201492   \n",
       "1        89169                   1                   0  0.020680   \n",
       "2       955202                   1                   1  0.282093   \n",
       "3        80352                   1                   1  0.254313   \n",
       "4       114998                   1                   1  0.991210   \n",
       "...        ...                 ...                 ...       ...   \n",
       "99991  7321545                   1                   2  0.019710   \n",
       "99992    12210                   0                   2  0.978010   \n",
       "99994   780677                   1                   2  0.582086   \n",
       "99997  4393683                   0                   2  0.473025   \n",
       "99998   106699                   0                   2  0.691467   \n",
       "\n",
       "       Transaction_date  Delivery_date      Rate Type_of_Transaction  \\\n",
       "0                 71208            714  0.896667                 swp   \n",
       "1                 77706            937  0.643333                 SWP   \n",
       "2                 88424            575  0.703333                swap   \n",
       "3                155500            947  0.846667                 swp   \n",
       "4                 96698            566  0.030000                 swp   \n",
       "...                 ...            ...       ...                 ...   \n",
       "99991             16438            266       NaN              FUTURE   \n",
       "99992            230501            145       NaN                 FUT   \n",
       "99994            210068            106       NaN              FUTURE   \n",
       "99997             26208             82       NaN                 FUT   \n",
       "99998             13991           1311       NaN              future   \n",
       "\n",
       "       True_type_of_transaction  Price  \n",
       "0                             2  58105  \n",
       "1                             2  58105  \n",
       "2                             2  58105  \n",
       "3                             2  58105  \n",
       "4                             2  58105  \n",
       "...                         ...    ...  \n",
       "99991                         1  58105  \n",
       "99992                         1  58105  \n",
       "99994                         1  58105  \n",
       "99997                         1  58105  \n",
       "99998                         1  58105  \n",
       "\n",
       "[263884 rows x 10 columns]"
      ]
     },
     "execution_count": 165,
     "metadata": {},
     "output_type": "execute_result"
    }
   ],
   "source": [
    "df_concat"
   ]
  },
  {
   "cell_type": "code",
   "execution_count": 166,
   "metadata": {},
   "outputs": [
    {
     "data": {
      "text/html": [
       "<div>\n",
       "<style scoped>\n",
       "    .dataframe tbody tr th:only-of-type {\n",
       "        vertical-align: middle;\n",
       "    }\n",
       "\n",
       "    .dataframe tbody tr th {\n",
       "        vertical-align: top;\n",
       "    }\n",
       "\n",
       "    .dataframe thead th {\n",
       "        text-align: right;\n",
       "    }\n",
       "</style>\n",
       "<table border=\"1\" class=\"dataframe\">\n",
       "  <thead>\n",
       "    <tr style=\"text-align: right;\">\n",
       "      <th></th>\n",
       "      <th>code</th>\n",
       "      <th>Type_of_currency_1</th>\n",
       "      <th>Type_of_currency_2</th>\n",
       "      <th>Currency</th>\n",
       "      <th>Transaction_date</th>\n",
       "      <th>Delivery_date</th>\n",
       "      <th>Rate</th>\n",
       "      <th>Type_of_Transaction</th>\n",
       "      <th>True_type_of_transaction</th>\n",
       "      <th>Price</th>\n",
       "    </tr>\n",
       "  </thead>\n",
       "  <tbody>\n",
       "    <tr>\n",
       "      <th>0</th>\n",
       "      <td>120446</td>\n",
       "      <td>1</td>\n",
       "      <td>1</td>\n",
       "      <td>0.201492</td>\n",
       "      <td>71208</td>\n",
       "      <td>714</td>\n",
       "      <td>0.896667</td>\n",
       "      <td>swp</td>\n",
       "      <td>2</td>\n",
       "      <td>58105</td>\n",
       "    </tr>\n",
       "    <tr>\n",
       "      <th>1</th>\n",
       "      <td>89169</td>\n",
       "      <td>1</td>\n",
       "      <td>0</td>\n",
       "      <td>0.020680</td>\n",
       "      <td>77706</td>\n",
       "      <td>937</td>\n",
       "      <td>0.643333</td>\n",
       "      <td>SWP</td>\n",
       "      <td>2</td>\n",
       "      <td>58105</td>\n",
       "    </tr>\n",
       "    <tr>\n",
       "      <th>2</th>\n",
       "      <td>955202</td>\n",
       "      <td>1</td>\n",
       "      <td>1</td>\n",
       "      <td>0.282093</td>\n",
       "      <td>88424</td>\n",
       "      <td>575</td>\n",
       "      <td>0.703333</td>\n",
       "      <td>swap</td>\n",
       "      <td>2</td>\n",
       "      <td>58105</td>\n",
       "    </tr>\n",
       "    <tr>\n",
       "      <th>3</th>\n",
       "      <td>80352</td>\n",
       "      <td>1</td>\n",
       "      <td>1</td>\n",
       "      <td>0.254313</td>\n",
       "      <td>155500</td>\n",
       "      <td>947</td>\n",
       "      <td>0.846667</td>\n",
       "      <td>swp</td>\n",
       "      <td>2</td>\n",
       "      <td>58105</td>\n",
       "    </tr>\n",
       "    <tr>\n",
       "      <th>4</th>\n",
       "      <td>114998</td>\n",
       "      <td>1</td>\n",
       "      <td>1</td>\n",
       "      <td>0.991210</td>\n",
       "      <td>96698</td>\n",
       "      <td>566</td>\n",
       "      <td>0.030000</td>\n",
       "      <td>swp</td>\n",
       "      <td>2</td>\n",
       "      <td>58105</td>\n",
       "    </tr>\n",
       "  </tbody>\n",
       "</table>\n",
       "</div>"
      ],
      "text/plain": [
       "     code  Type_of_currency_1  Type_of_currency_2  Currency  Transaction_date  \\\n",
       "0  120446                   1                   1  0.201492             71208   \n",
       "1   89169                   1                   0  0.020680             77706   \n",
       "2  955202                   1                   1  0.282093             88424   \n",
       "3   80352                   1                   1  0.254313            155500   \n",
       "4  114998                   1                   1  0.991210             96698   \n",
       "\n",
       "   Delivery_date      Rate Type_of_Transaction  True_type_of_transaction  \\\n",
       "0            714  0.896667                 swp                         2   \n",
       "1            937  0.643333                 SWP                         2   \n",
       "2            575  0.703333                swap                         2   \n",
       "3            947  0.846667                 swp                         2   \n",
       "4            566  0.030000                 swp                         2   \n",
       "\n",
       "   Price  \n",
       "0  58105  \n",
       "1  58105  \n",
       "2  58105  \n",
       "3  58105  \n",
       "4  58105  "
      ]
     },
     "execution_count": 166,
     "metadata": {},
     "output_type": "execute_result"
    }
   ],
   "source": [
    "df_concat.head()"
   ]
  },
  {
   "cell_type": "code",
   "execution_count": 167,
   "metadata": {},
   "outputs": [
    {
     "data": {
      "text/plain": [
       "code                          int64\n",
       "Type_of_currency_1            int32\n",
       "Type_of_currency_2            int32\n",
       "Currency                    float64\n",
       "Transaction_date              int32\n",
       "Delivery_date                 int32\n",
       "Rate                        float64\n",
       "Type_of_Transaction          object\n",
       "True_type_of_transaction      int32\n",
       "Price                         int64\n",
       "dtype: object"
      ]
     },
     "execution_count": 167,
     "metadata": {},
     "output_type": "execute_result"
    }
   ],
   "source": [
    "df_concat.dtypes"
   ]
  },
  {
   "cell_type": "code",
   "execution_count": 168,
   "metadata": {},
   "outputs": [
    {
     "data": {
      "text/html": [
       "<div>\n",
       "<style scoped>\n",
       "    .dataframe tbody tr th:only-of-type {\n",
       "        vertical-align: middle;\n",
       "    }\n",
       "\n",
       "    .dataframe tbody tr th {\n",
       "        vertical-align: top;\n",
       "    }\n",
       "\n",
       "    .dataframe thead th {\n",
       "        text-align: right;\n",
       "    }\n",
       "</style>\n",
       "<table border=\"1\" class=\"dataframe\">\n",
       "  <thead>\n",
       "    <tr style=\"text-align: right;\">\n",
       "      <th></th>\n",
       "      <th>code</th>\n",
       "      <th>Type_of_currency_1</th>\n",
       "      <th>Type_of_currency_2</th>\n",
       "      <th>Currency</th>\n",
       "      <th>Transaction_date</th>\n",
       "      <th>Delivery_date</th>\n",
       "      <th>Rate</th>\n",
       "      <th>True_type_of_transaction</th>\n",
       "      <th>Price</th>\n",
       "    </tr>\n",
       "  </thead>\n",
       "  <tbody>\n",
       "    <tr>\n",
       "      <th>0</th>\n",
       "      <td>120446</td>\n",
       "      <td>1</td>\n",
       "      <td>1</td>\n",
       "      <td>0.201492</td>\n",
       "      <td>71208</td>\n",
       "      <td>714</td>\n",
       "      <td>0.896667</td>\n",
       "      <td>2</td>\n",
       "      <td>58105</td>\n",
       "    </tr>\n",
       "    <tr>\n",
       "      <th>1</th>\n",
       "      <td>89169</td>\n",
       "      <td>1</td>\n",
       "      <td>0</td>\n",
       "      <td>0.020680</td>\n",
       "      <td>77706</td>\n",
       "      <td>937</td>\n",
       "      <td>0.643333</td>\n",
       "      <td>2</td>\n",
       "      <td>58105</td>\n",
       "    </tr>\n",
       "    <tr>\n",
       "      <th>2</th>\n",
       "      <td>955202</td>\n",
       "      <td>1</td>\n",
       "      <td>1</td>\n",
       "      <td>0.282093</td>\n",
       "      <td>88424</td>\n",
       "      <td>575</td>\n",
       "      <td>0.703333</td>\n",
       "      <td>2</td>\n",
       "      <td>58105</td>\n",
       "    </tr>\n",
       "    <tr>\n",
       "      <th>3</th>\n",
       "      <td>80352</td>\n",
       "      <td>1</td>\n",
       "      <td>1</td>\n",
       "      <td>0.254313</td>\n",
       "      <td>155500</td>\n",
       "      <td>947</td>\n",
       "      <td>0.846667</td>\n",
       "      <td>2</td>\n",
       "      <td>58105</td>\n",
       "    </tr>\n",
       "    <tr>\n",
       "      <th>4</th>\n",
       "      <td>114998</td>\n",
       "      <td>1</td>\n",
       "      <td>1</td>\n",
       "      <td>0.991210</td>\n",
       "      <td>96698</td>\n",
       "      <td>566</td>\n",
       "      <td>0.030000</td>\n",
       "      <td>2</td>\n",
       "      <td>58105</td>\n",
       "    </tr>\n",
       "    <tr>\n",
       "      <th>...</th>\n",
       "      <td>...</td>\n",
       "      <td>...</td>\n",
       "      <td>...</td>\n",
       "      <td>...</td>\n",
       "      <td>...</td>\n",
       "      <td>...</td>\n",
       "      <td>...</td>\n",
       "      <td>...</td>\n",
       "      <td>...</td>\n",
       "    </tr>\n",
       "    <tr>\n",
       "      <th>99991</th>\n",
       "      <td>7321545</td>\n",
       "      <td>1</td>\n",
       "      <td>2</td>\n",
       "      <td>0.019710</td>\n",
       "      <td>16438</td>\n",
       "      <td>266</td>\n",
       "      <td>NaN</td>\n",
       "      <td>1</td>\n",
       "      <td>58105</td>\n",
       "    </tr>\n",
       "    <tr>\n",
       "      <th>99992</th>\n",
       "      <td>12210</td>\n",
       "      <td>0</td>\n",
       "      <td>2</td>\n",
       "      <td>0.978010</td>\n",
       "      <td>230501</td>\n",
       "      <td>145</td>\n",
       "      <td>NaN</td>\n",
       "      <td>1</td>\n",
       "      <td>58105</td>\n",
       "    </tr>\n",
       "    <tr>\n",
       "      <th>99994</th>\n",
       "      <td>780677</td>\n",
       "      <td>1</td>\n",
       "      <td>2</td>\n",
       "      <td>0.582086</td>\n",
       "      <td>210068</td>\n",
       "      <td>106</td>\n",
       "      <td>NaN</td>\n",
       "      <td>1</td>\n",
       "      <td>58105</td>\n",
       "    </tr>\n",
       "    <tr>\n",
       "      <th>99997</th>\n",
       "      <td>4393683</td>\n",
       "      <td>0</td>\n",
       "      <td>2</td>\n",
       "      <td>0.473025</td>\n",
       "      <td>26208</td>\n",
       "      <td>82</td>\n",
       "      <td>NaN</td>\n",
       "      <td>1</td>\n",
       "      <td>58105</td>\n",
       "    </tr>\n",
       "    <tr>\n",
       "      <th>99998</th>\n",
       "      <td>106699</td>\n",
       "      <td>0</td>\n",
       "      <td>2</td>\n",
       "      <td>0.691467</td>\n",
       "      <td>13991</td>\n",
       "      <td>1311</td>\n",
       "      <td>NaN</td>\n",
       "      <td>1</td>\n",
       "      <td>58105</td>\n",
       "    </tr>\n",
       "  </tbody>\n",
       "</table>\n",
       "<p>263884 rows × 9 columns</p>\n",
       "</div>"
      ],
      "text/plain": [
       "          code  Type_of_currency_1  Type_of_currency_2  Currency  \\\n",
       "0       120446                   1                   1  0.201492   \n",
       "1        89169                   1                   0  0.020680   \n",
       "2       955202                   1                   1  0.282093   \n",
       "3        80352                   1                   1  0.254313   \n",
       "4       114998                   1                   1  0.991210   \n",
       "...        ...                 ...                 ...       ...   \n",
       "99991  7321545                   1                   2  0.019710   \n",
       "99992    12210                   0                   2  0.978010   \n",
       "99994   780677                   1                   2  0.582086   \n",
       "99997  4393683                   0                   2  0.473025   \n",
       "99998   106699                   0                   2  0.691467   \n",
       "\n",
       "       Transaction_date  Delivery_date      Rate  True_type_of_transaction  \\\n",
       "0                 71208            714  0.896667                         2   \n",
       "1                 77706            937  0.643333                         2   \n",
       "2                 88424            575  0.703333                         2   \n",
       "3                155500            947  0.846667                         2   \n",
       "4                 96698            566  0.030000                         2   \n",
       "...                 ...            ...       ...                       ...   \n",
       "99991             16438            266       NaN                         1   \n",
       "99992            230501            145       NaN                         1   \n",
       "99994            210068            106       NaN                         1   \n",
       "99997             26208             82       NaN                         1   \n",
       "99998             13991           1311       NaN                         1   \n",
       "\n",
       "       Price  \n",
       "0      58105  \n",
       "1      58105  \n",
       "2      58105  \n",
       "3      58105  \n",
       "4      58105  \n",
       "...      ...  \n",
       "99991  58105  \n",
       "99992  58105  \n",
       "99994  58105  \n",
       "99997  58105  \n",
       "99998  58105  \n",
       "\n",
       "[263884 rows x 9 columns]"
      ]
     },
     "execution_count": 168,
     "metadata": {},
     "output_type": "execute_result"
    }
   ],
   "source": [
    "df_concat = df_concat.drop(\"Type_of_Transaction\", axis=1)\n",
    "df_concat"
   ]
  },
  {
   "cell_type": "code",
   "execution_count": 169,
   "metadata": {},
   "outputs": [],
   "source": [
    "\n",
    "df_concat['Rate'] = df_concat['Rate'].fillna(\"0\")"
   ]
  },
  {
   "cell_type": "code",
   "execution_count": 170,
   "metadata": {},
   "outputs": [
    {
     "data": {
      "text/html": [
       "<div>\n",
       "<style scoped>\n",
       "    .dataframe tbody tr th:only-of-type {\n",
       "        vertical-align: middle;\n",
       "    }\n",
       "\n",
       "    .dataframe tbody tr th {\n",
       "        vertical-align: top;\n",
       "    }\n",
       "\n",
       "    .dataframe thead th {\n",
       "        text-align: right;\n",
       "    }\n",
       "</style>\n",
       "<table border=\"1\" class=\"dataframe\">\n",
       "  <thead>\n",
       "    <tr style=\"text-align: right;\">\n",
       "      <th></th>\n",
       "      <th>code</th>\n",
       "      <th>Type_of_currency_1</th>\n",
       "      <th>Type_of_currency_2</th>\n",
       "      <th>Currency</th>\n",
       "      <th>Transaction_date</th>\n",
       "      <th>Delivery_date</th>\n",
       "      <th>Rate</th>\n",
       "      <th>True_type_of_transaction</th>\n",
       "      <th>Price</th>\n",
       "    </tr>\n",
       "  </thead>\n",
       "  <tbody>\n",
       "    <tr>\n",
       "      <th>0</th>\n",
       "      <td>120446</td>\n",
       "      <td>1</td>\n",
       "      <td>1</td>\n",
       "      <td>0.201492</td>\n",
       "      <td>71208</td>\n",
       "      <td>714</td>\n",
       "      <td>0.896667</td>\n",
       "      <td>2</td>\n",
       "      <td>58105</td>\n",
       "    </tr>\n",
       "    <tr>\n",
       "      <th>1</th>\n",
       "      <td>89169</td>\n",
       "      <td>1</td>\n",
       "      <td>0</td>\n",
       "      <td>0.020680</td>\n",
       "      <td>77706</td>\n",
       "      <td>937</td>\n",
       "      <td>0.643333</td>\n",
       "      <td>2</td>\n",
       "      <td>58105</td>\n",
       "    </tr>\n",
       "    <tr>\n",
       "      <th>2</th>\n",
       "      <td>955202</td>\n",
       "      <td>1</td>\n",
       "      <td>1</td>\n",
       "      <td>0.282093</td>\n",
       "      <td>88424</td>\n",
       "      <td>575</td>\n",
       "      <td>0.703333</td>\n",
       "      <td>2</td>\n",
       "      <td>58105</td>\n",
       "    </tr>\n",
       "    <tr>\n",
       "      <th>3</th>\n",
       "      <td>80352</td>\n",
       "      <td>1</td>\n",
       "      <td>1</td>\n",
       "      <td>0.254313</td>\n",
       "      <td>155500</td>\n",
       "      <td>947</td>\n",
       "      <td>0.846667</td>\n",
       "      <td>2</td>\n",
       "      <td>58105</td>\n",
       "    </tr>\n",
       "    <tr>\n",
       "      <th>4</th>\n",
       "      <td>114998</td>\n",
       "      <td>1</td>\n",
       "      <td>1</td>\n",
       "      <td>0.991210</td>\n",
       "      <td>96698</td>\n",
       "      <td>566</td>\n",
       "      <td>0.03</td>\n",
       "      <td>2</td>\n",
       "      <td>58105</td>\n",
       "    </tr>\n",
       "    <tr>\n",
       "      <th>...</th>\n",
       "      <td>...</td>\n",
       "      <td>...</td>\n",
       "      <td>...</td>\n",
       "      <td>...</td>\n",
       "      <td>...</td>\n",
       "      <td>...</td>\n",
       "      <td>...</td>\n",
       "      <td>...</td>\n",
       "      <td>...</td>\n",
       "    </tr>\n",
       "    <tr>\n",
       "      <th>99991</th>\n",
       "      <td>7321545</td>\n",
       "      <td>1</td>\n",
       "      <td>2</td>\n",
       "      <td>0.019710</td>\n",
       "      <td>16438</td>\n",
       "      <td>266</td>\n",
       "      <td>0</td>\n",
       "      <td>1</td>\n",
       "      <td>58105</td>\n",
       "    </tr>\n",
       "    <tr>\n",
       "      <th>99992</th>\n",
       "      <td>12210</td>\n",
       "      <td>0</td>\n",
       "      <td>2</td>\n",
       "      <td>0.978010</td>\n",
       "      <td>230501</td>\n",
       "      <td>145</td>\n",
       "      <td>0</td>\n",
       "      <td>1</td>\n",
       "      <td>58105</td>\n",
       "    </tr>\n",
       "    <tr>\n",
       "      <th>99994</th>\n",
       "      <td>780677</td>\n",
       "      <td>1</td>\n",
       "      <td>2</td>\n",
       "      <td>0.582086</td>\n",
       "      <td>210068</td>\n",
       "      <td>106</td>\n",
       "      <td>0</td>\n",
       "      <td>1</td>\n",
       "      <td>58105</td>\n",
       "    </tr>\n",
       "    <tr>\n",
       "      <th>99997</th>\n",
       "      <td>4393683</td>\n",
       "      <td>0</td>\n",
       "      <td>2</td>\n",
       "      <td>0.473025</td>\n",
       "      <td>26208</td>\n",
       "      <td>82</td>\n",
       "      <td>0</td>\n",
       "      <td>1</td>\n",
       "      <td>58105</td>\n",
       "    </tr>\n",
       "    <tr>\n",
       "      <th>99998</th>\n",
       "      <td>106699</td>\n",
       "      <td>0</td>\n",
       "      <td>2</td>\n",
       "      <td>0.691467</td>\n",
       "      <td>13991</td>\n",
       "      <td>1311</td>\n",
       "      <td>0</td>\n",
       "      <td>1</td>\n",
       "      <td>58105</td>\n",
       "    </tr>\n",
       "  </tbody>\n",
       "</table>\n",
       "<p>263884 rows × 9 columns</p>\n",
       "</div>"
      ],
      "text/plain": [
       "          code  Type_of_currency_1  Type_of_currency_2  Currency  \\\n",
       "0       120446                   1                   1  0.201492   \n",
       "1        89169                   1                   0  0.020680   \n",
       "2       955202                   1                   1  0.282093   \n",
       "3        80352                   1                   1  0.254313   \n",
       "4       114998                   1                   1  0.991210   \n",
       "...        ...                 ...                 ...       ...   \n",
       "99991  7321545                   1                   2  0.019710   \n",
       "99992    12210                   0                   2  0.978010   \n",
       "99994   780677                   1                   2  0.582086   \n",
       "99997  4393683                   0                   2  0.473025   \n",
       "99998   106699                   0                   2  0.691467   \n",
       "\n",
       "       Transaction_date  Delivery_date      Rate  True_type_of_transaction  \\\n",
       "0                 71208            714  0.896667                         2   \n",
       "1                 77706            937  0.643333                         2   \n",
       "2                 88424            575  0.703333                         2   \n",
       "3                155500            947  0.846667                         2   \n",
       "4                 96698            566      0.03                         2   \n",
       "...                 ...            ...       ...                       ...   \n",
       "99991             16438            266         0                         1   \n",
       "99992            230501            145         0                         1   \n",
       "99994            210068            106         0                         1   \n",
       "99997             26208             82         0                         1   \n",
       "99998             13991           1311         0                         1   \n",
       "\n",
       "       Price  \n",
       "0      58105  \n",
       "1      58105  \n",
       "2      58105  \n",
       "3      58105  \n",
       "4      58105  \n",
       "...      ...  \n",
       "99991  58105  \n",
       "99992  58105  \n",
       "99994  58105  \n",
       "99997  58105  \n",
       "99998  58105  \n",
       "\n",
       "[263884 rows x 9 columns]"
      ]
     },
     "execution_count": 170,
     "metadata": {},
     "output_type": "execute_result"
    }
   ],
   "source": [
    "df_concat"
   ]
  },
  {
   "cell_type": "code",
   "execution_count": 171,
   "metadata": {},
   "outputs": [],
   "source": [
    "df_concat = df_concat.astype('float32')"
   ]
  },
  {
   "cell_type": "code",
   "execution_count": 172,
   "metadata": {},
   "outputs": [],
   "source": [
    "import tensorflow as tf;\n",
    "from keras import optimizers;\n",
    "from sklearn.model_selection import train_test_split\n",
    "from keras import Sequential\n",
    "from keras.layers import Dense\n",
    "from keras.layers import Activation\n",
    "from keras.layers import BatchNormalization"
   ]
  },
  {
   "cell_type": "code",
   "execution_count": 173,
   "metadata": {},
   "outputs": [],
   "source": [
    "y = df_concat['True_type_of_transaction']\n",
    "X = df_concat.drop('True_type_of_transaction', axis = 1)"
   ]
  },
  {
   "cell_type": "code",
   "execution_count": 174,
   "metadata": {},
   "outputs": [],
   "source": [
    "X_train, X_test, y_train, y_test = train_test_split(X, y, test_size=0.33)"
   ]
  },
  {
   "cell_type": "code",
   "execution_count": 175,
   "metadata": {},
   "outputs": [
    {
     "data": {
      "text/html": [
       "<div>\n",
       "<style scoped>\n",
       "    .dataframe tbody tr th:only-of-type {\n",
       "        vertical-align: middle;\n",
       "    }\n",
       "\n",
       "    .dataframe tbody tr th {\n",
       "        vertical-align: top;\n",
       "    }\n",
       "\n",
       "    .dataframe thead th {\n",
       "        text-align: right;\n",
       "    }\n",
       "</style>\n",
       "<table border=\"1\" class=\"dataframe\">\n",
       "  <thead>\n",
       "    <tr style=\"text-align: right;\">\n",
       "      <th></th>\n",
       "      <th>code</th>\n",
       "      <th>Type_of_currency_1</th>\n",
       "      <th>Type_of_currency_2</th>\n",
       "      <th>Currency</th>\n",
       "      <th>Transaction_date</th>\n",
       "      <th>Delivery_date</th>\n",
       "      <th>Rate</th>\n",
       "      <th>Price</th>\n",
       "    </tr>\n",
       "  </thead>\n",
       "  <tbody>\n",
       "    <tr>\n",
       "      <th>18528</th>\n",
       "      <td>189088.0</td>\n",
       "      <td>0.0</td>\n",
       "      <td>0.0</td>\n",
       "      <td>0.503155</td>\n",
       "      <td>83083.0</td>\n",
       "      <td>403.0</td>\n",
       "      <td>0.423333</td>\n",
       "      <td>58105.0</td>\n",
       "    </tr>\n",
       "    <tr>\n",
       "      <th>44090</th>\n",
       "      <td>828846.0</td>\n",
       "      <td>1.0</td>\n",
       "      <td>2.0</td>\n",
       "      <td>0.766008</td>\n",
       "      <td>178667.0</td>\n",
       "      <td>243.0</td>\n",
       "      <td>0.000000</td>\n",
       "      <td>47963.0</td>\n",
       "    </tr>\n",
       "    <tr>\n",
       "      <th>10381</th>\n",
       "      <td>204394.0</td>\n",
       "      <td>1.0</td>\n",
       "      <td>1.0</td>\n",
       "      <td>0.852709</td>\n",
       "      <td>151831.0</td>\n",
       "      <td>329.0</td>\n",
       "      <td>0.123333</td>\n",
       "      <td>58105.0</td>\n",
       "    </tr>\n",
       "    <tr>\n",
       "      <th>95807</th>\n",
       "      <td>94075.0</td>\n",
       "      <td>0.0</td>\n",
       "      <td>0.0</td>\n",
       "      <td>0.317813</td>\n",
       "      <td>96846.0</td>\n",
       "      <td>539.0</td>\n",
       "      <td>0.220000</td>\n",
       "      <td>58105.0</td>\n",
       "    </tr>\n",
       "    <tr>\n",
       "      <th>62604</th>\n",
       "      <td>79492.0</td>\n",
       "      <td>1.0</td>\n",
       "      <td>0.0</td>\n",
       "      <td>0.563516</td>\n",
       "      <td>80756.0</td>\n",
       "      <td>818.0</td>\n",
       "      <td>0.370000</td>\n",
       "      <td>58105.0</td>\n",
       "    </tr>\n",
       "    <tr>\n",
       "      <th>...</th>\n",
       "      <td>...</td>\n",
       "      <td>...</td>\n",
       "      <td>...</td>\n",
       "      <td>...</td>\n",
       "      <td>...</td>\n",
       "      <td>...</td>\n",
       "      <td>...</td>\n",
       "      <td>...</td>\n",
       "    </tr>\n",
       "    <tr>\n",
       "      <th>93907</th>\n",
       "      <td>8585787.0</td>\n",
       "      <td>0.0</td>\n",
       "      <td>2.0</td>\n",
       "      <td>0.334673</td>\n",
       "      <td>16752.0</td>\n",
       "      <td>1209.0</td>\n",
       "      <td>0.000000</td>\n",
       "      <td>35237.0</td>\n",
       "    </tr>\n",
       "    <tr>\n",
       "      <th>31161</th>\n",
       "      <td>622720.0</td>\n",
       "      <td>1.0</td>\n",
       "      <td>2.0</td>\n",
       "      <td>0.521815</td>\n",
       "      <td>24624.0</td>\n",
       "      <td>157.0</td>\n",
       "      <td>0.000000</td>\n",
       "      <td>58105.0</td>\n",
       "    </tr>\n",
       "    <tr>\n",
       "      <th>67614</th>\n",
       "      <td>20331.0</td>\n",
       "      <td>0.0</td>\n",
       "      <td>0.0</td>\n",
       "      <td>0.938399</td>\n",
       "      <td>139994.0</td>\n",
       "      <td>808.0</td>\n",
       "      <td>0.953333</td>\n",
       "      <td>58105.0</td>\n",
       "    </tr>\n",
       "    <tr>\n",
       "      <th>22209</th>\n",
       "      <td>426631.0</td>\n",
       "      <td>1.0</td>\n",
       "      <td>2.0</td>\n",
       "      <td>0.255043</td>\n",
       "      <td>19822.0</td>\n",
       "      <td>1111.0</td>\n",
       "      <td>0.000000</td>\n",
       "      <td>45675.0</td>\n",
       "    </tr>\n",
       "    <tr>\n",
       "      <th>59695</th>\n",
       "      <td>5890930.0</td>\n",
       "      <td>0.0</td>\n",
       "      <td>2.0</td>\n",
       "      <td>0.119921</td>\n",
       "      <td>56997.0</td>\n",
       "      <td>991.0</td>\n",
       "      <td>0.000000</td>\n",
       "      <td>38466.0</td>\n",
       "    </tr>\n",
       "  </tbody>\n",
       "</table>\n",
       "<p>176802 rows × 8 columns</p>\n",
       "</div>"
      ],
      "text/plain": [
       "            code  Type_of_currency_1  Type_of_currency_2  Currency  \\\n",
       "18528   189088.0                 0.0                 0.0  0.503155   \n",
       "44090   828846.0                 1.0                 2.0  0.766008   \n",
       "10381   204394.0                 1.0                 1.0  0.852709   \n",
       "95807    94075.0                 0.0                 0.0  0.317813   \n",
       "62604    79492.0                 1.0                 0.0  0.563516   \n",
       "...          ...                 ...                 ...       ...   \n",
       "93907  8585787.0                 0.0                 2.0  0.334673   \n",
       "31161   622720.0                 1.0                 2.0  0.521815   \n",
       "67614    20331.0                 0.0                 0.0  0.938399   \n",
       "22209   426631.0                 1.0                 2.0  0.255043   \n",
       "59695  5890930.0                 0.0                 2.0  0.119921   \n",
       "\n",
       "       Transaction_date  Delivery_date      Rate    Price  \n",
       "18528           83083.0          403.0  0.423333  58105.0  \n",
       "44090          178667.0          243.0  0.000000  47963.0  \n",
       "10381          151831.0          329.0  0.123333  58105.0  \n",
       "95807           96846.0          539.0  0.220000  58105.0  \n",
       "62604           80756.0          818.0  0.370000  58105.0  \n",
       "...                 ...            ...       ...      ...  \n",
       "93907           16752.0         1209.0  0.000000  35237.0  \n",
       "31161           24624.0          157.0  0.000000  58105.0  \n",
       "67614          139994.0          808.0  0.953333  58105.0  \n",
       "22209           19822.0         1111.0  0.000000  45675.0  \n",
       "59695           56997.0          991.0  0.000000  38466.0  \n",
       "\n",
       "[176802 rows x 8 columns]"
      ]
     },
     "execution_count": 175,
     "metadata": {},
     "output_type": "execute_result"
    }
   ],
   "source": [
    "X_train"
   ]
  },
  {
   "cell_type": "code",
   "execution_count": 176,
   "metadata": {},
   "outputs": [
    {
     "data": {
      "text/plain": [
       "18528    2.0\n",
       "44090    0.0\n",
       "10381    2.0\n",
       "95807    2.0\n",
       "62604    2.0\n",
       "        ... \n",
       "93907    0.0\n",
       "31161    1.0\n",
       "67614    2.0\n",
       "22209    0.0\n",
       "59695    0.0\n",
       "Name: True_type_of_transaction, Length: 176802, dtype: float32"
      ]
     },
     "execution_count": 176,
     "metadata": {},
     "output_type": "execute_result"
    }
   ],
   "source": [
    "y_train"
   ]
  },
  {
   "cell_type": "code",
   "execution_count": 177,
   "metadata": {},
   "outputs": [],
   "source": [
    "# determine the number of input features\n",
    "n_features = X_train.shape[1]\n"
   ]
  },
  {
   "cell_type": "code",
   "execution_count": 178,
   "metadata": {},
   "outputs": [
    {
     "data": {
      "text/plain": [
       "8"
      ]
     },
     "execution_count": 178,
     "metadata": {},
     "output_type": "execute_result"
    }
   ],
   "source": [
    "n_features"
   ]
  },
  {
   "cell_type": "code",
   "execution_count": 179,
   "metadata": {},
   "outputs": [
    {
     "name": "stdout",
     "output_type": "stream",
     "text": [
      "Epoch 1/25\n",
      "3868/3868 [==============================] - 8s 2ms/step - loss: 4006.2996 - accuracy: 0.5940 - val_loss: 1591.7872 - val_accuracy: 0.6656\n",
      "Epoch 2/25\n",
      "3868/3868 [==============================] - 7s 2ms/step - loss: 1334.0093 - accuracy: 0.6870 - val_loss: 771.6248 - val_accuracy: 0.7377\n",
      "Epoch 3/25\n",
      "3868/3868 [==============================] - 7s 2ms/step - loss: 1184.4207 - accuracy: 0.7099 - val_loss: 3260.7773 - val_accuracy: 0.7013\n",
      "Epoch 4/25\n",
      "3868/3868 [==============================] - 7s 2ms/step - loss: 914.0366 - accuracy: 0.7314 - val_loss: 522.9003 - val_accuracy: 0.7646\n",
      "Epoch 5/25\n",
      "3868/3868 [==============================] - 7s 2ms/step - loss: 906.6282 - accuracy: 0.7354 - val_loss: 1515.6962 - val_accuracy: 0.7276\n",
      "Epoch 6/25\n",
      "3868/3868 [==============================] - 7s 2ms/step - loss: 790.3294 - accuracy: 0.7522 - val_loss: 297.4802 - val_accuracy: 0.8048\n",
      "Epoch 7/25\n",
      "3868/3868 [==============================] - 7s 2ms/step - loss: 789.8384 - accuracy: 0.7591 - val_loss: 425.6700 - val_accuracy: 0.7947\n",
      "Epoch 8/25\n",
      "3868/3868 [==============================] - 7s 2ms/step - loss: 734.0262 - accuracy: 0.7675 - val_loss: 1403.2639 - val_accuracy: 0.7228\n",
      "Epoch 9/25\n",
      "3868/3868 [==============================] - 7s 2ms/step - loss: 754.9820 - accuracy: 0.7731 - val_loss: 1545.2903 - val_accuracy: 0.6924\n",
      "Epoch 10/25\n",
      "3868/3868 [==============================] - 7s 2ms/step - loss: 665.7802 - accuracy: 0.7809 - val_loss: 415.9969 - val_accuracy: 0.7931\n",
      "Epoch 11/25\n",
      "3868/3868 [==============================] - 7s 2ms/step - loss: 669.1412 - accuracy: 0.7797 - val_loss: 295.6458 - val_accuracy: 0.8331\n",
      "Epoch 12/25\n",
      "3868/3868 [==============================] - 7s 2ms/step - loss: 566.1183 - accuracy: 0.7865 - val_loss: 335.5176 - val_accuracy: 0.8358\n",
      "Epoch 13/25\n",
      "3868/3868 [==============================] - 7s 2ms/step - loss: 569.2701 - accuracy: 0.7866 - val_loss: 424.7335 - val_accuracy: 0.8093\n",
      "Epoch 14/25\n",
      "3868/3868 [==============================] - 7s 2ms/step - loss: 525.1879 - accuracy: 0.7883 - val_loss: 919.1527 - val_accuracy: 0.7707\n",
      "Epoch 15/25\n",
      "3868/3868 [==============================] - 7s 2ms/step - loss: 531.9114 - accuracy: 0.7878 - val_loss: 293.6574 - val_accuracy: 0.7970\n",
      "Epoch 16/25\n",
      "3868/3868 [==============================] - 7s 2ms/step - loss: 469.0368 - accuracy: 0.7901 - val_loss: 320.6679 - val_accuracy: 0.8234\n",
      "Epoch 17/25\n",
      "3868/3868 [==============================] - 7s 2ms/step - loss: 433.1060 - accuracy: 0.7911 - val_loss: 203.5766 - val_accuracy: 0.8507\n",
      "Epoch 18/25\n",
      "3868/3868 [==============================] - 7s 2ms/step - loss: 399.8478 - accuracy: 0.7914 - val_loss: 400.9552 - val_accuracy: 0.7041\n",
      "Epoch 19/25\n",
      "3868/3868 [==============================] - 7s 2ms/step - loss: 339.8373 - accuracy: 0.7928 - val_loss: 394.9522 - val_accuracy: 0.6676\n",
      "Epoch 20/25\n",
      "3868/3868 [==============================] - 7s 2ms/step - loss: 308.7686 - accuracy: 0.7898 - val_loss: 425.2101 - val_accuracy: 0.7815\n",
      "Epoch 21/25\n",
      "3868/3868 [==============================] - 7s 2ms/step - loss: 247.9827 - accuracy: 0.7884 - val_loss: 240.0119 - val_accuracy: 0.7132\n",
      "Epoch 22/25\n",
      "3868/3868 [==============================] - 7s 2ms/step - loss: 219.8443 - accuracy: 0.7868 - val_loss: 251.3212 - val_accuracy: 0.7575\n",
      "Epoch 23/25\n",
      "3868/3868 [==============================] - 7s 2ms/step - loss: 185.7639 - accuracy: 0.7884 - val_loss: 102.2905 - val_accuracy: 0.8261\n",
      "Epoch 24/25\n",
      "3868/3868 [==============================] - 7s 2ms/step - loss: 156.4919 - accuracy: 0.7842 - val_loss: 72.3026 - val_accuracy: 0.7968\n",
      "Epoch 25/25\n",
      "3868/3868 [==============================] - 7s 2ms/step - loss: 112.2345 - accuracy: 0.7903 - val_loss: 30.2959 - val_accuracy: 0.8271\n"
     ]
    }
   ],
   "source": [
    "# Model defining\n",
    "model = Sequential()\n",
    "model.add(Dense(8, input_shape=(n_features,)))\n",
    "model.add(Activation('relu'))\n",
    "model.add(Dense(6))\n",
    "model.add(Activation('relu'))\n",
    "model.add(Dense(3))\n",
    "model.add(Activation('softmax'))\n",
    "model.compile(optimizer='adam', loss='sparse_categorical_crossentropy', metrics=['accuracy'])\n",
    "history1 = model.fit(X_train, y_train, epochs=25, verbose=1, validation_split = 0.3)"
   ]
  },
  {
   "cell_type": "code",
   "execution_count": 180,
   "metadata": {},
   "outputs": [
    {
     "data": {
      "image/png": "[encoded data removed]",
      "text/plain": [
       "<Figure size 640x480 with 1 Axes>"
      ]
     },
     "metadata": {},
     "output_type": "display_data"
    },
    {
     "data": {
      "image/png": "[encoded data removed]",
      "text/plain": [
       "<Figure size 640x480 with 1 Axes>"
      ]
     },
     "metadata": {},
     "output_type": "display_data"
    }
   ],
   "source": [
    "plt.plot(history1.history['accuracy'])\n",
    "plt.plot(history1.history['val_accuracy'])\n",
    "\n",
    "plt.title('model accuracy')\n",
    "plt.ylabel('accuracy')\n",
    "plt.xlabel('epoch')\n",
    "plt.legend(['train','test'], loc='upper left')\n",
    "plt.show()\n",
    "\n",
    "plt.plot(history1.history['loss'])\n",
    "plt.plot(history1.history['val_loss'])\n",
    "\n",
    "plt.title('model loss')\n",
    "plt.ylabel('loss')\n",
    "plt.xlabel('epoch')\n",
    "plt.legend(['train','test'], loc='upper left')\n",
    "plt.show()"
   ]
  },
  {
   "cell_type": "code",
   "execution_count": 181,
   "metadata": {},
   "outputs": [],
   "source": [
    "# Model defining\n",
    "model = Sequential()\n",
    "model.add(Dense(8, kernel_initializer='he_normal', input_shape=(n_features,)))\n",
    "model.add(BatchNormalization())\n",
    "model.add(Activation('elu'))\n",
    "model.add(Dense(6, kernel_initializer='he_normal'))\n",
    "model.add(BatchNormalization())\n",
    "model.add(Activation('elu'))\n",
    "model.add(Dense(3))\n",
    "model.add(Activation('softmax'))\n"
   ]
  },
  {
   "cell_type": "code",
   "execution_count": 182,
   "metadata": {},
   "outputs": [],
   "source": [
    "# compile the modelD\n",
    "opt = optimizers.SGD(learning_rate=0.001)"
   ]
  },
  {
   "cell_type": "code",
   "execution_count": 183,
   "metadata": {},
   "outputs": [],
   "source": [
    "model.compile(optimizer=opt, loss='sparse_categorical_crossentropy', metrics=['accuracy'])\n"
   ]
  },
  {
   "cell_type": "code",
   "execution_count": 184,
   "metadata": {},
   "outputs": [
    {
     "name": "stdout",
     "output_type": "stream",
     "text": [
      "Epoch 1/100\n",
      "3868/3868 [==============================] - 9s 2ms/step - loss: 0.9310 - accuracy: 0.5465 - val_loss: 0.9232 - val_accuracy: 0.5786\n",
      "Epoch 2/100\n",
      "3868/3868 [==============================] - 8s 2ms/step - loss: 0.7822 - accuracy: 0.6327 - val_loss: 0.8981 - val_accuracy: 0.5872\n",
      "Epoch 3/100\n",
      "3868/3868 [==============================] - 8s 2ms/step - loss: 0.7051 - accuracy: 0.6846 - val_loss: 0.7082 - val_accuracy: 0.7404\n",
      "Epoch 4/100\n",
      "3868/3868 [==============================] - 9s 2ms/step - loss: 0.6576 - accuracy: 0.7212 - val_loss: 1.7674 - val_accuracy: 0.4653\n",
      "Epoch 5/100\n",
      "3868/3868 [==============================] - 9s 2ms/step - loss: 0.6141 - accuracy: 0.7433 - val_loss: 0.7234 - val_accuracy: 0.7125\n",
      "Epoch 6/100\n",
      "3868/3868 [==============================] - 9s 2ms/step - loss: 0.5746 - accuracy: 0.7645 - val_loss: 0.9759 - val_accuracy: 0.5143\n",
      "Epoch 7/100\n",
      "3868/3868 [==============================] - 9s 2ms/step - loss: 0.5246 - accuracy: 0.7996 - val_loss: 1.4864 - val_accuracy: 0.6519\n",
      "Epoch 8/100\n",
      "3868/3868 [==============================] - 9s 2ms/step - loss: 0.4817 - accuracy: 0.8165 - val_loss: 0.7047 - val_accuracy: 0.7402\n",
      "Epoch 9/100\n",
      "3868/3868 [==============================] - 9s 2ms/step - loss: 0.4545 - accuracy: 0.8261 - val_loss: 0.4360 - val_accuracy: 0.8276\n",
      "Epoch 10/100\n",
      "3868/3868 [==============================] - 8s 2ms/step - loss: 0.4306 - accuracy: 0.8343 - val_loss: 0.4549 - val_accuracy: 0.8572\n",
      "Epoch 11/100\n",
      "3868/3868 [==============================] - 8s 2ms/step - loss: 0.4193 - accuracy: 0.8384 - val_loss: 0.3898 - val_accuracy: 0.8484\n",
      "Epoch 12/100\n",
      "3868/3868 [==============================] - 9s 2ms/step - loss: 0.4043 - accuracy: 0.8450 - val_loss: 2.3345 - val_accuracy: 0.5500\n",
      "Epoch 13/100\n",
      "3868/3868 [==============================] - 8s 2ms/step - loss: 0.3996 - accuracy: 0.8486 - val_loss: 0.9464 - val_accuracy: 0.7665\n",
      "Epoch 14/100\n",
      "3868/3868 [==============================] - 8s 2ms/step - loss: 0.3817 - accuracy: 0.8566 - val_loss: 0.3025 - val_accuracy: 0.9023\n",
      "Epoch 15/100\n",
      "3868/3868 [==============================] - 8s 2ms/step - loss: 0.3622 - accuracy: 0.8627 - val_loss: 1.2530 - val_accuracy: 0.7321\n",
      "Epoch 16/100\n",
      "3868/3868 [==============================] - 8s 2ms/step - loss: 0.3499 - accuracy: 0.8668 - val_loss: 1.2817 - val_accuracy: 0.7242\n",
      "Epoch 17/100\n",
      "3868/3868 [==============================] - 8s 2ms/step - loss: 0.3492 - accuracy: 0.8678 - val_loss: 0.4599 - val_accuracy: 0.8364\n",
      "Epoch 18/100\n",
      "3868/3868 [==============================] - 8s 2ms/step - loss: 0.3443 - accuracy: 0.8703 - val_loss: 0.6334 - val_accuracy: 0.8061\n",
      "Epoch 19/100\n",
      "3868/3868 [==============================] - 9s 2ms/step - loss: 0.3338 - accuracy: 0.8735 - val_loss: 0.9687 - val_accuracy: 0.7746\n",
      "Epoch 20/100\n",
      "3868/3868 [==============================] - 9s 2ms/step - loss: 0.3308 - accuracy: 0.8759 - val_loss: 0.2577 - val_accuracy: 0.9177\n",
      "Epoch 21/100\n",
      "3868/3868 [==============================] - 9s 2ms/step - loss: 0.3346 - accuracy: 0.8746 - val_loss: 0.6347 - val_accuracy: 0.7555\n",
      "Epoch 22/100\n",
      "3868/3868 [==============================] - 9s 2ms/step - loss: 0.3258 - accuracy: 0.8770 - val_loss: 0.2347 - val_accuracy: 0.9271\n",
      "Epoch 23/100\n",
      "3868/3868 [==============================] - 9s 2ms/step - loss: 0.3176 - accuracy: 0.8798 - val_loss: 0.3903 - val_accuracy: 0.8829\n",
      "Epoch 24/100\n",
      "3868/3868 [==============================] - 9s 2ms/step - loss: 0.3152 - accuracy: 0.8802 - val_loss: 0.2541 - val_accuracy: 0.9067\n",
      "Epoch 25/100\n",
      "3868/3868 [==============================] - 9s 2ms/step - loss: 0.3109 - accuracy: 0.8837 - val_loss: 0.2278 - val_accuracy: 0.9207\n",
      "Epoch 26/100\n",
      "3868/3868 [==============================] - 9s 2ms/step - loss: 0.3118 - accuracy: 0.8820 - val_loss: 1.8493 - val_accuracy: 0.7570\n",
      "Epoch 27/100\n",
      "3868/3868 [==============================] - 9s 2ms/step - loss: 0.3088 - accuracy: 0.8827 - val_loss: 0.2474 - val_accuracy: 0.8916\n",
      "Epoch 28/100\n",
      "3868/3868 [==============================] - 9s 2ms/step - loss: 0.3151 - accuracy: 0.8814 - val_loss: 0.2227 - val_accuracy: 0.9245\n",
      "Epoch 29/100\n",
      "3868/3868 [==============================] - 9s 2ms/step - loss: 0.3023 - accuracy: 0.8859 - val_loss: 0.2218 - val_accuracy: 0.9142\n",
      "Epoch 30/100\n",
      "3868/3868 [==============================] - 9s 2ms/step - loss: 0.3101 - accuracy: 0.8830 - val_loss: 0.2432 - val_accuracy: 0.9169\n",
      "Epoch 31/100\n",
      "3868/3868 [==============================] - 9s 2ms/step - loss: 0.3064 - accuracy: 0.8841 - val_loss: 0.2097 - val_accuracy: 0.9305\n",
      "Epoch 32/100\n",
      "3868/3868 [==============================] - 8s 2ms/step - loss: 0.3112 - accuracy: 0.8827 - val_loss: 1.6873 - val_accuracy: 0.6942\n",
      "Epoch 33/100\n",
      "3868/3868 [==============================] - 8s 2ms/step - loss: 0.3047 - accuracy: 0.8841 - val_loss: 0.6321 - val_accuracy: 0.8522\n",
      "Epoch 34/100\n",
      "3868/3868 [==============================] - 8s 2ms/step - loss: 0.2951 - accuracy: 0.8885 - val_loss: 0.2392 - val_accuracy: 0.9141\n",
      "Epoch 35/100\n",
      "3868/3868 [==============================] - 8s 2ms/step - loss: 0.3003 - accuracy: 0.8863 - val_loss: 0.2153 - val_accuracy: 0.9188\n",
      "Epoch 36/100\n",
      "3868/3868 [==============================] - 8s 2ms/step - loss: 0.2928 - accuracy: 0.8891 - val_loss: 3.2166 - val_accuracy: 0.5822\n",
      "Epoch 37/100\n",
      "3868/3868 [==============================] - 8s 2ms/step - loss: 0.2946 - accuracy: 0.8873 - val_loss: 0.2293 - val_accuracy: 0.9246\n",
      "Epoch 38/100\n",
      "3868/3868 [==============================] - 8s 2ms/step - loss: 0.2925 - accuracy: 0.8890 - val_loss: 0.2261 - val_accuracy: 0.9448\n",
      "Epoch 39/100\n",
      "3868/3868 [==============================] - 8s 2ms/step - loss: 0.3079 - accuracy: 0.8839 - val_loss: 0.2595 - val_accuracy: 0.9008\n",
      "Epoch 40/100\n",
      "3868/3868 [==============================] - 8s 2ms/step - loss: 0.2902 - accuracy: 0.8899 - val_loss: 0.4783 - val_accuracy: 0.8837\n",
      "Epoch 41/100\n",
      "3868/3868 [==============================] - 8s 2ms/step - loss: 0.2902 - accuracy: 0.8898 - val_loss: 0.1991 - val_accuracy: 0.9306\n",
      "Epoch 42/100\n",
      "3868/3868 [==============================] - 8s 2ms/step - loss: 0.2867 - accuracy: 0.8923 - val_loss: 0.7314 - val_accuracy: 0.7578\n",
      "Epoch 43/100\n",
      "3868/3868 [==============================] - 8s 2ms/step - loss: 0.3025 - accuracy: 0.8854 - val_loss: 0.2677 - val_accuracy: 0.9008\n",
      "Epoch 44/100\n",
      "3868/3868 [==============================] - 8s 2ms/step - loss: 0.2862 - accuracy: 0.8919 - val_loss: 0.2250 - val_accuracy: 0.9290\n",
      "Epoch 45/100\n",
      "3868/3868 [==============================] - 8s 2ms/step - loss: 0.2833 - accuracy: 0.8931 - val_loss: 0.1659 - val_accuracy: 0.9502\n",
      "Epoch 46/100\n",
      "3868/3868 [==============================] - 8s 2ms/step - loss: 0.2903 - accuracy: 0.8899 - val_loss: 1.1243 - val_accuracy: 0.7690\n",
      "Epoch 47/100\n",
      "3868/3868 [==============================] - 8s 2ms/step - loss: 0.2850 - accuracy: 0.8923 - val_loss: 0.2618 - val_accuracy: 0.9082\n",
      "Epoch 48/100\n",
      "3868/3868 [==============================] - 8s 2ms/step - loss: 0.2880 - accuracy: 0.8911 - val_loss: 0.2057 - val_accuracy: 0.9355\n",
      "Epoch 49/100\n",
      "3868/3868 [==============================] - 8s 2ms/step - loss: 0.2882 - accuracy: 0.8913 - val_loss: 1.6872 - val_accuracy: 0.7324\n",
      "Epoch 50/100\n",
      "3868/3868 [==============================] - 8s 2ms/step - loss: 0.2820 - accuracy: 0.8930 - val_loss: 0.2188 - val_accuracy: 0.9273\n",
      "Epoch 51/100\n",
      "3868/3868 [==============================] - 8s 2ms/step - loss: 0.2803 - accuracy: 0.8928 - val_loss: 0.9621 - val_accuracy: 0.7960\n",
      "Epoch 52/100\n",
      "3868/3868 [==============================] - 8s 2ms/step - loss: 0.2793 - accuracy: 0.8953 - val_loss: 0.2842 - val_accuracy: 0.8631\n",
      "Epoch 53/100\n",
      "3868/3868 [==============================] - 8s 2ms/step - loss: 0.2810 - accuracy: 0.8930 - val_loss: 0.1765 - val_accuracy: 0.9508\n",
      "Epoch 54/100\n",
      "3868/3868 [==============================] - 8s 2ms/step - loss: 0.2773 - accuracy: 0.8951 - val_loss: 0.5201 - val_accuracy: 0.8725\n",
      "Epoch 55/100\n",
      "3868/3868 [==============================] - 8s 2ms/step - loss: 0.2798 - accuracy: 0.8948 - val_loss: 0.3195 - val_accuracy: 0.9077\n",
      "Epoch 56/100\n",
      "3868/3868 [==============================] - 8s 2ms/step - loss: 0.2762 - accuracy: 0.8954 - val_loss: 0.1888 - val_accuracy: 0.9465\n",
      "Epoch 57/100\n",
      "3868/3868 [==============================] - 8s 2ms/step - loss: 0.2808 - accuracy: 0.8938 - val_loss: 0.5595 - val_accuracy: 0.8486\n",
      "Epoch 58/100\n",
      "3868/3868 [==============================] - 8s 2ms/step - loss: 0.2744 - accuracy: 0.8961 - val_loss: 0.1934 - val_accuracy: 0.9360\n",
      "Epoch 59/100\n",
      "3868/3868 [==============================] - 8s 2ms/step - loss: 0.2774 - accuracy: 0.8946 - val_loss: 0.2407 - val_accuracy: 0.9176\n",
      "Epoch 60/100\n",
      "3868/3868 [==============================] - 9s 2ms/step - loss: 0.2756 - accuracy: 0.8950 - val_loss: 0.2246 - val_accuracy: 0.9278\n",
      "Epoch 61/100\n",
      "3868/3868 [==============================] - 10s 2ms/step - loss: 0.2694 - accuracy: 0.8978 - val_loss: 0.1728 - val_accuracy: 0.9374\n",
      "Epoch 62/100\n",
      "3868/3868 [==============================] - 8s 2ms/step - loss: 0.2705 - accuracy: 0.8974 - val_loss: 0.2283 - val_accuracy: 0.9301\n",
      "Epoch 63/100\n",
      "3868/3868 [==============================] - 10s 2ms/step - loss: 0.2725 - accuracy: 0.8968 - val_loss: 0.2290 - val_accuracy: 0.9238\n",
      "Epoch 64/100\n",
      "3868/3868 [==============================] - 9s 2ms/step - loss: 0.2721 - accuracy: 0.8968 - val_loss: 0.1854 - val_accuracy: 0.9281\n",
      "Epoch 65/100\n",
      "3868/3868 [==============================] - 8s 2ms/step - loss: 0.2675 - accuracy: 0.8986 - val_loss: 0.2032 - val_accuracy: 0.9263\n",
      "Epoch 66/100\n",
      "3868/3868 [==============================] - 8s 2ms/step - loss: 0.2699 - accuracy: 0.8975 - val_loss: 0.1746 - val_accuracy: 0.9496\n",
      "Epoch 67/100\n",
      "3868/3868 [==============================] - 8s 2ms/step - loss: 0.2726 - accuracy: 0.8956 - val_loss: 0.4806 - val_accuracy: 0.8616\n",
      "Epoch 68/100\n",
      "3868/3868 [==============================] - 9s 2ms/step - loss: 0.2711 - accuracy: 0.8978 - val_loss: 0.2353 - val_accuracy: 0.9357\n",
      "Epoch 69/100\n",
      "3868/3868 [==============================] - 8s 2ms/step - loss: 0.2694 - accuracy: 0.8969 - val_loss: 0.4337 - val_accuracy: 0.8977\n",
      "Epoch 70/100\n",
      "3868/3868 [==============================] - 8s 2ms/step - loss: 0.2746 - accuracy: 0.8949 - val_loss: 0.3752 - val_accuracy: 0.8959\n",
      "Epoch 71/100\n",
      "3868/3868 [==============================] - 8s 2ms/step - loss: 0.2666 - accuracy: 0.8994 - val_loss: 0.2526 - val_accuracy: 0.9154\n",
      "Epoch 72/100\n",
      "3868/3868 [==============================] - 10s 3ms/step - loss: 0.2655 - accuracy: 0.8982 - val_loss: 0.2095 - val_accuracy: 0.9425\n",
      "Epoch 73/100\n",
      "3868/3868 [==============================] - 9s 2ms/step - loss: 0.2691 - accuracy: 0.8965 - val_loss: 0.5162 - val_accuracy: 0.8536\n",
      "Epoch 74/100\n",
      "3868/3868 [==============================] - 9s 2ms/step - loss: 0.2714 - accuracy: 0.8962 - val_loss: 0.4456 - val_accuracy: 0.8287\n",
      "Epoch 75/100\n",
      "3868/3868 [==============================] - 9s 2ms/step - loss: 0.2658 - accuracy: 0.8974 - val_loss: 0.2406 - val_accuracy: 0.9155\n",
      "Epoch 76/100\n",
      "3868/3868 [==============================] - 9s 2ms/step - loss: 0.2653 - accuracy: 0.8986 - val_loss: 0.2829 - val_accuracy: 0.8567\n",
      "Epoch 77/100\n",
      "3868/3868 [==============================] - 9s 2ms/step - loss: 0.2667 - accuracy: 0.8991 - val_loss: 1.9682 - val_accuracy: 0.6931\n",
      "Epoch 78/100\n",
      "3868/3868 [==============================] - 10s 2ms/step - loss: 0.2667 - accuracy: 0.8981 - val_loss: 0.2390 - val_accuracy: 0.9160\n",
      "Epoch 79/100\n",
      "3868/3868 [==============================] - 10s 2ms/step - loss: 0.2638 - accuracy: 0.9001 - val_loss: 0.4319 - val_accuracy: 0.8208\n",
      "Epoch 80/100\n",
      "3868/3868 [==============================] - 10s 3ms/step - loss: 0.2626 - accuracy: 0.8999 - val_loss: 0.6053 - val_accuracy: 0.8304\n",
      "Epoch 81/100\n",
      "3868/3868 [==============================] - 9s 2ms/step - loss: 0.2770 - accuracy: 0.8946 - val_loss: 0.1690 - val_accuracy: 0.9468\n",
      "Epoch 82/100\n",
      "3868/3868 [==============================] - 11s 3ms/step - loss: 0.2652 - accuracy: 0.8982 - val_loss: 0.4009 - val_accuracy: 0.8519\n",
      "Epoch 83/100\n",
      "3868/3868 [==============================] - 9s 2ms/step - loss: 0.2670 - accuracy: 0.8984 - val_loss: 0.8267 - val_accuracy: 0.7983\n",
      "Epoch 84/100\n",
      "3868/3868 [==============================] - 8s 2ms/step - loss: 0.2650 - accuracy: 0.8990 - val_loss: 0.3616 - val_accuracy: 0.8973\n",
      "Epoch 85/100\n",
      "3868/3868 [==============================] - 8s 2ms/step - loss: 0.2679 - accuracy: 0.8979 - val_loss: 0.5063 - val_accuracy: 0.8600\n",
      "Epoch 86/100\n",
      "3868/3868 [==============================] - 8s 2ms/step - loss: 0.2639 - accuracy: 0.8990 - val_loss: 0.2129 - val_accuracy: 0.9063\n",
      "Epoch 87/100\n",
      "3868/3868 [==============================] - 8s 2ms/step - loss: 0.2681 - accuracy: 0.8982 - val_loss: 0.1714 - val_accuracy: 0.9322\n",
      "Epoch 88/100\n",
      "3868/3868 [==============================] - 8s 2ms/step - loss: 0.2655 - accuracy: 0.8974 - val_loss: 0.5691 - val_accuracy: 0.7962\n",
      "Epoch 89/100\n",
      "3868/3868 [==============================] - 8s 2ms/step - loss: 0.2580 - accuracy: 0.9009 - val_loss: 0.3130 - val_accuracy: 0.9042\n",
      "Epoch 90/100\n",
      "3868/3868 [==============================] - 9s 2ms/step - loss: 0.2611 - accuracy: 0.8997 - val_loss: 0.2249 - val_accuracy: 0.8798\n",
      "Epoch 91/100\n",
      "3868/3868 [==============================] - 8s 2ms/step - loss: 0.2653 - accuracy: 0.8983 - val_loss: 0.4529 - val_accuracy: 0.8831\n",
      "Epoch 92/100\n",
      "3868/3868 [==============================] - 8s 2ms/step - loss: 0.2626 - accuracy: 0.8999 - val_loss: 0.1715 - val_accuracy: 0.9506\n",
      "Epoch 93/100\n",
      "3868/3868 [==============================] - 8s 2ms/step - loss: 0.2654 - accuracy: 0.8984 - val_loss: 0.2012 - val_accuracy: 0.9357\n",
      "Epoch 94/100\n",
      "3868/3868 [==============================] - 8s 2ms/step - loss: 0.2657 - accuracy: 0.8983 - val_loss: 0.1992 - val_accuracy: 0.9282\n",
      "Epoch 95/100\n",
      "3868/3868 [==============================] - 8s 2ms/step - loss: 0.2640 - accuracy: 0.8982 - val_loss: 0.6765 - val_accuracy: 0.7599\n",
      "Epoch 96/100\n",
      "3868/3868 [==============================] - 8s 2ms/step - loss: 0.2623 - accuracy: 0.8983 - val_loss: 0.2721 - val_accuracy: 0.8555\n",
      "Epoch 97/100\n",
      "3868/3868 [==============================] - 8s 2ms/step - loss: 0.2648 - accuracy: 0.8984 - val_loss: 0.1741 - val_accuracy: 0.9422\n",
      "Epoch 98/100\n",
      "3868/3868 [==============================] - 8s 2ms/step - loss: 0.2615 - accuracy: 0.9002 - val_loss: 0.1802 - val_accuracy: 0.9474\n",
      "Epoch 99/100\n",
      "3868/3868 [==============================] - 8s 2ms/step - loss: 0.2613 - accuracy: 0.9003 - val_loss: 0.2065 - val_accuracy: 0.9246\n",
      "Epoch 100/100\n",
      "3868/3868 [==============================] - 8s 2ms/step - loss: 0.2618 - accuracy: 0.8994 - val_loss: 0.1581 - val_accuracy: 0.9473\n"
     ]
    }
   ],
   "source": [
    "# fit the model\n",
    "history = model.fit(X_train, y_train, epochs=100, verbose=1, validation_split = 0.3)"
   ]
  },
  {
   "cell_type": "code",
   "execution_count": 185,
   "metadata": {},
   "outputs": [
    {
     "name": "stdout",
     "output_type": "stream",
     "text": [
      "Test Score: 0.159434512257576\n",
      "Test Accuracy: 0.9460049271583557\n"
     ]
    }
   ],
   "source": [
    "# evaluate the model\n",
    "score = model.evaluate(X_test, y_test, verbose=0)\n",
    "print(\"Test Score:\", score[0])\n",
    "print(\"Test Accuracy:\", score[1])"
   ]
  },
  {
   "cell_type": "code",
   "execution_count": 215,
   "metadata": {},
   "outputs": [],
   "source": [
    "st0 = np.random.get_state()"
   ]
  },
  {
   "cell_type": "code",
   "execution_count": 216,
   "metadata": {},
   "outputs": [
    {
     "name": "stdout",
     "output_type": "stream",
     "text": [
      "2722/2722 [==============================] - 3s 1ms/step\n"
     ]
    },
    {
     "data": {
      "text/plain": [
       "array([[5.16444892e-02, 9.47210371e-01, 1.14511012e-03],\n",
       "       [9.99956489e-01, 4.35039692e-05, 2.46583092e-08],\n",
       "       [1.16068814e-02, 1.07213929e-01, 8.81179154e-01],\n",
       "       ...,\n",
       "       [4.78675924e-02, 9.43424940e-01, 8.70748144e-03],\n",
       "       [9.99992132e-01, 7.92270839e-06, 4.26344116e-08],\n",
       "       [8.11855588e-03, 1.02069795e-01, 8.89811575e-01]], dtype=float32)"
      ]
     },
     "execution_count": 216,
     "metadata": {},
     "output_type": "execute_result"
    }
   ],
   "source": [
    "# make a prediction\n",
    "y_pred = model.predict(X_test)\n",
    "y_pred"
   ]
  },
  {
   "cell_type": "code",
   "execution_count": 217,
   "metadata": {},
   "outputs": [
    {
     "data": {
      "image/png": "[encoded data removed]",
      "text/plain": [
       "<Figure size 640x480 with 1 Axes>"
      ]
     },
     "metadata": {},
     "output_type": "display_data"
    },
    {
     "data": {
      "image/png": "[encoded data removed]",
      "text/plain": [
       "<Figure size 640x480 with 1 Axes>"
      ]
     },
     "metadata": {},
     "output_type": "display_data"
    }
   ],
   "source": [
    "plt.plot(history.history['accuracy'])\n",
    "plt.plot(history.history['val_accuracy'])\n",
    "\n",
    "plt.title('model accuracy')\n",
    "plt.ylabel('accuracy')\n",
    "plt.xlabel('epoch')\n",
    "plt.legend(['train','test'], loc='upper left')\n",
    "plt.show()\n",
    "\n",
    "plt.plot(history.history['loss'])\n",
    "plt.plot(history.history['val_loss'])\n",
    "\n",
    "plt.title('model loss')\n",
    "plt.ylabel('loss')\n",
    "plt.xlabel('epoch')\n",
    "plt.legend(['train','test'], loc='upper left')\n",
    "plt.show()"
   ]
  },
  {
   "cell_type": "code",
   "execution_count": 188,
   "metadata": {},
   "outputs": [],
   "source": [
    "from sklearn import metrics"
   ]
  },
  {
   "cell_type": "code",
   "execution_count": 189,
   "metadata": {},
   "outputs": [],
   "source": [
    "y_pred = y_pred.round()"
   ]
  },
  {
   "cell_type": "code",
   "execution_count": 190,
   "metadata": {},
   "outputs": [],
   "source": [
    "y_test = y_test.round()"
   ]
  },
  {
   "cell_type": "code",
   "execution_count": 191,
   "metadata": {},
   "outputs": [],
   "source": [
    "y_pred = np.argmax(y_pred, axis=-1, keepdims=True)"
   ]
  },
  {
   "cell_type": "code",
   "execution_count": 192,
   "metadata": {},
   "outputs": [
    {
     "data": {
      "text/plain": [
       "array([[1],\n",
       "       [0],\n",
       "       [2],\n",
       "       ...,\n",
       "       [1],\n",
       "       [0],\n",
       "       [2]], dtype=int64)"
      ]
     },
     "execution_count": 192,
     "metadata": {},
     "output_type": "execute_result"
    }
   ],
   "source": [
    "y_pred"
   ]
  },
  {
   "cell_type": "code",
   "execution_count": 193,
   "metadata": {},
   "outputs": [
    {
     "name": "stdout",
     "output_type": "stream",
     "text": [
      "[[26059  2608    81]\n",
      " [  329 24379  1171]\n",
      " [  123   449 31883]]\n"
     ]
    }
   ],
   "source": [
    "confusion = print(metrics.confusion_matrix(y_test, y_pred));"
   ]
  },
  {
   "cell_type": "code",
   "execution_count": 194,
   "metadata": {},
   "outputs": [],
   "source": [
    "def accuracy(y_true, y_pred):\n",
    "    \n",
    "    \"\"\"\n",
    "    Function to calculate accuracy\n",
    "    -> param y_true: list of true values\n",
    "    -> param y_pred: list of predicted values\n",
    "    -> return: accuracy score\n",
    "    \n",
    "    \"\"\"\n",
    "    \n",
    "    # Intitializing variable to store count of correctly predicted classes\n",
    "    correct_predictions = 0\n",
    "    \n",
    "    for yt, yp in zip(y_true, y_pred):\n",
    "        \n",
    "        if yt == yp:\n",
    "            \n",
    "            correct_predictions += 1\n",
    "    \n",
    "    #returns accuracy\n",
    "    return correct_predictions / len(y_true)"
   ]
  },
  {
   "cell_type": "code",
   "execution_count": 195,
   "metadata": {},
   "outputs": [
    {
     "data": {
      "text/plain": [
       "0.9453273925725179"
      ]
     },
     "execution_count": 195,
     "metadata": {},
     "output_type": "execute_result"
    }
   ],
   "source": [
    "accuracy(y_test, y_pred)"
   ]
  },
  {
   "cell_type": "code",
   "execution_count": 196,
   "metadata": {},
   "outputs": [],
   "source": [
    "#Computation of macro-averaged precision\n",
    "\n",
    "def macro_precision(y_true, y_pred):\n",
    "\n",
    "    # find the number of classes\n",
    "    num_classes = len(np.unique(y_true))\n",
    "\n",
    "    # initialize precision to 0\n",
    "    precision = 0\n",
    "    \n",
    "    # loop over all classes\n",
    "    for class_ in list(y_true.unique()):\n",
    "        \n",
    "        # all classes except current are considered negative\n",
    "        temp_true = [1 if p == class_ else 0 for p in y_true]\n",
    "        temp_pred = [1 if p == class_ else 0 for p in y_pred]\n",
    "        \n",
    "        \n",
    "        # compute true positive for current class\n",
    "        tp = true_positive(temp_true, temp_pred)\n",
    "        \n",
    "        # compute false positive for current class\n",
    "        fp = false_positive(temp_true, temp_pred)\n",
    "        \n",
    "        \n",
    "        # compute precision for current class\n",
    "        temp_precision = tp / (tp + fp + 1e-6)\n",
    "        # keep adding precision for all classes\n",
    "        precision += temp_precision\n",
    "        \n",
    "    # calculate and return average precision over all classes\n",
    "    precision /= num_classes\n",
    "    \n",
    "    return precision\n"
   ]
  },
  {
   "cell_type": "code",
   "execution_count": 197,
   "metadata": {},
   "outputs": [],
   "source": [
    "# Functions to compute True Positives, True Negatives, False Positives and False Negatives\n",
    "\n",
    "def true_positive(y_true, y_pred):\n",
    "    \n",
    "    tp = 0\n",
    "    \n",
    "    for yt, yp in zip(y_true, y_pred):\n",
    "        \n",
    "        if yt == 1 and yp == 1:\n",
    "            tp += 1\n",
    "    \n",
    "    return tp\n",
    "\n",
    "def true_negative(y_true, y_pred):\n",
    "    \n",
    "    tn = 0\n",
    "    \n",
    "    for yt, yp in zip(y_true, y_pred):\n",
    "        \n",
    "        if yt == 0 and yp == 0:\n",
    "            tn += 1\n",
    "            \n",
    "    return tn\n",
    "\n",
    "def false_positive(y_true, y_pred):\n",
    "    \n",
    "    fp = 0\n",
    "    \n",
    "    for yt, yp in zip(y_true, y_pred):\n",
    "        \n",
    "        if yt == 0 and yp == 1:\n",
    "            fp += 1\n",
    "            \n",
    "    return fp\n",
    "\n",
    "def false_negative(y_true, y_pred):\n",
    "    \n",
    "    fn = 0\n",
    "    \n",
    "    for yt, yp in zip(y_true, y_pred):\n",
    "        \n",
    "        if yt == 1 and yp == 0:\n",
    "            fn += 1\n",
    "            \n",
    "    return fn"
   ]
  },
  {
   "cell_type": "code",
   "execution_count": 198,
   "metadata": {},
   "outputs": [
    {
     "name": "stdout",
     "output_type": "stream",
     "text": [
      "Macro-averaged Precision score : 0.9445809018870754\n"
     ]
    }
   ],
   "source": [
    "print(f\"Macro-averaged Precision score : {macro_precision(y_test, y_pred) }\")"
   ]
  },
  {
   "cell_type": "code",
   "execution_count": 199,
   "metadata": {},
   "outputs": [],
   "source": [
    "def micro_precision(y_true, y_pred):\n",
    "\n",
    "\n",
    "    # find the number of classes \n",
    "    num_classes = len(np.unique(y_true))\n",
    "    \n",
    "    # initialize tp and fp to 0\n",
    "    tp = 0\n",
    "    fp = 0\n",
    "    \n",
    "    # loop over all classes\n",
    "    for class_ in y_true.unique():\n",
    "        \n",
    "        # all classes except current are considered negative\n",
    "        temp_true = [1 if p == class_ else 0 for p in y_true]\n",
    "        temp_pred = [1 if p == class_ else 0 for p in y_pred]\n",
    "        \n",
    "        # calculate true positive for current class\n",
    "        # and update overall tp\n",
    "        tp += true_positive(temp_true, temp_pred)\n",
    "        \n",
    "        # calculate false positive for current class\n",
    "        # and update overall tp\n",
    "        fp += false_positive(temp_true, temp_pred)\n",
    "        \n",
    "    # calculate and return overall precision\n",
    "    precision = tp / (tp + fp)\n",
    "    return precision"
   ]
  },
  {
   "cell_type": "code",
   "execution_count": 200,
   "metadata": {},
   "outputs": [
    {
     "name": "stdout",
     "output_type": "stream",
     "text": [
      "Micro-averaged Precision score : 0.9453273925725179\n"
     ]
    }
   ],
   "source": [
    "print(f\"Micro-averaged Precision score : {micro_precision(y_test, y_pred)}\")"
   ]
  },
  {
   "cell_type": "code",
   "execution_count": 201,
   "metadata": {},
   "outputs": [],
   "source": [
    "#Computation of macro-averaged recall\n",
    "\n",
    "def macro_recall(y_true, y_pred):\n",
    "\n",
    "    # find the number of classes\n",
    "    num_classes = len(np.unique(y_true))\n",
    "\n",
    "    # initialize recall to 0\n",
    "    recall = 0\n",
    "    \n",
    "    # loop over all classes\n",
    "    for class_ in list(y_true.unique()):\n",
    "        \n",
    "        # all classes except current are considered negative\n",
    "        temp_true = [1 if p == class_ else 0 for p in y_true]\n",
    "        temp_pred = [1 if p == class_ else 0 for p in y_pred]\n",
    "        \n",
    "        \n",
    "        # compute true positive for current class\n",
    "        tp = true_positive(temp_true, temp_pred)\n",
    "        \n",
    "        # compute false negative for current class\n",
    "        fn = false_negative(temp_true, temp_pred)\n",
    "        \n",
    "        \n",
    "        # compute recall for current class\n",
    "        temp_recall = tp / (tp + fn + 1e-6)\n",
    "        \n",
    "        # keep adding recall for all classes\n",
    "        recall += temp_recall\n",
    "        \n",
    "    # calculate and return average recall over all classes\n",
    "    recall /= num_classes\n",
    "    \n",
    "    return recall"
   ]
  },
  {
   "cell_type": "code",
   "execution_count": 202,
   "metadata": {},
   "outputs": [
    {
     "name": "stdout",
     "output_type": "stream",
     "text": [
      "Macro-averaged recall score : 0.9436255336689134\n"
     ]
    }
   ],
   "source": [
    "print(f\"Macro-averaged recall score : {macro_recall(y_test, y_pred)}\")"
   ]
  },
  {
   "cell_type": "code",
   "execution_count": 203,
   "metadata": {},
   "outputs": [],
   "source": [
    "def micro_recall(y_true, y_pred):\n",
    "\n",
    "\n",
    "    # find the number of classes \n",
    "    num_classes = len(np.unique(y_true))\n",
    "    \n",
    "    # initialize tp and fp to 0\n",
    "    tp = 0\n",
    "    fn = 0\n",
    "    \n",
    "    # loop over all classes\n",
    "    for class_ in y_true.unique():\n",
    "        \n",
    "        # all classes except current are considered negative\n",
    "        temp_true = [1 if p == class_ else 0 for p in y_true]\n",
    "        temp_pred = [1 if p == class_ else 0 for p in y_pred]\n",
    "        \n",
    "        # calculate true positive for current class\n",
    "        # and update overall tp\n",
    "        tp += true_positive(temp_true, temp_pred)\n",
    "        \n",
    "        # calculate false negative for current class\n",
    "        # and update overall tp\n",
    "        fn += false_negative(temp_true, temp_pred)\n",
    "        \n",
    "    # calculate and return overall recall\n",
    "    recall = tp / (tp + fn)\n",
    "    return recall"
   ]
  },
  {
   "cell_type": "code",
   "execution_count": 204,
   "metadata": {},
   "outputs": [
    {
     "name": "stdout",
     "output_type": "stream",
     "text": [
      "Micro-averaged recall score : 0.9453273925725179\n"
     ]
    }
   ],
   "source": [
    "print(f\"Micro-averaged recall score : {micro_recall(y_test, y_pred)}\")"
   ]
  },
  {
   "cell_type": "code",
   "execution_count": 205,
   "metadata": {},
   "outputs": [],
   "source": [
    "#Computation of macro-averaged fi score\n",
    "\n",
    "def macro_f1(y_true, y_pred):\n",
    "\n",
    "    # find the number of classes\n",
    "    num_classes = len(np.unique(y_true))\n",
    "\n",
    "    # initialize f1 to 0\n",
    "    f1 = 0\n",
    "    \n",
    "    # loop over all classes\n",
    "    for class_ in list(y_true.unique()):\n",
    "        \n",
    "        # all classes except current are considered negative\n",
    "        temp_true = [1 if p == class_ else 0 for p in y_true]\n",
    "        temp_pred = [1 if p == class_ else 0 for p in y_pred]\n",
    "        \n",
    "        \n",
    "        # compute true positive for current class\n",
    "        tp = true_positive(temp_true, temp_pred)\n",
    "        \n",
    "        # compute false negative for current class\n",
    "        fn = false_negative(temp_true, temp_pred)\n",
    "        \n",
    "        # compute false positive for current class\n",
    "        fp = false_positive(temp_true, temp_pred)\n",
    "        \n",
    "        \n",
    "        # compute recall for current class\n",
    "        temp_recall = tp / (tp + fn + 1e-6)\n",
    "        \n",
    "        # compute precision for current class\n",
    "        temp_precision = tp / (tp + fp + 1e-6)\n",
    "        \n",
    "        \n",
    "        temp_f1 = 2 * temp_precision * temp_recall / (temp_precision + temp_recall + 1e-6)\n",
    "        \n",
    "        # keep adding f1 score for all classes\n",
    "        f1 += temp_f1\n",
    "        \n",
    "    # calculate and return average f1 score over all classes\n",
    "    f1 /= num_classes\n",
    "    \n",
    "    return f1"
   ]
  },
  {
   "cell_type": "code",
   "execution_count": 206,
   "metadata": {},
   "outputs": [
    {
     "name": "stdout",
     "output_type": "stream",
     "text": [
      "Macro-averaged f1 score : 0.9432916110242021\n"
     ]
    }
   ],
   "source": [
    "print(f\"Macro-averaged f1 score : {macro_f1(y_test, y_pred)}\")"
   ]
  },
  {
   "cell_type": "code",
   "execution_count": 207,
   "metadata": {},
   "outputs": [],
   "source": [
    "def micro_f1(y_true, y_pred):\n",
    "\n",
    "\n",
    "    #micro-averaged precision score\n",
    "    P = micro_precision(y_true, y_pred)\n",
    "\n",
    "    #micro-averaged recall score\n",
    "    R = micro_recall(y_true, y_pred)\n",
    "\n",
    "    #micro averaged f1 score\n",
    "    f1 = 2*P*R / (P + R)    \n",
    "\n",
    "    return f1"
   ]
  },
  {
   "cell_type": "code",
   "execution_count": 208,
   "metadata": {},
   "outputs": [
    {
     "name": "stdout",
     "output_type": "stream",
     "text": [
      "Micro-averaged recall score : 0.9453273925725179\n"
     ]
    }
   ],
   "source": [
    "print(f\"Micro-averaged recall score : {micro_f1(y_test, y_pred)}\")"
   ]
  },
  {
   "cell_type": "code",
   "execution_count": 209,
   "metadata": {},
   "outputs": [],
   "source": [
    "from sklearn.metrics import roc_auc_score\n",
    "\n",
    "def roc_auc_score_multiclass(actual_class, pred_class, average = \"macro\"):\n",
    "    \n",
    "    #creating a set of all the unique classes using the actual class list\n",
    "    unique_class = set(actual_class)\n",
    "    roc_auc_dict = {}\n",
    "    for per_class in unique_class:\n",
    "        \n",
    "        #creating a list of all the classes except the current class \n",
    "        other_class = [x for x in unique_class if x != per_class]\n",
    "\n",
    "        #marking the current class as 1 and all other classes as 0\n",
    "        new_actual_class = [0 if x in other_class else 1 for x in actual_class]\n",
    "        new_pred_class = [0 if x in other_class else 1 for x in pred_class]\n",
    "\n",
    "        #using the sklearn metrics method to calculate the roc_auc_score\n",
    "        roc_auc = roc_auc_score(new_actual_class, new_pred_class, average = average)\n",
    "        roc_auc_dict[per_class] = roc_auc\n",
    "\n",
    "    return roc_auc_dict"
   ]
  },
  {
   "cell_type": "code",
   "execution_count": 210,
   "metadata": {},
   "outputs": [
    {
     "data": {
      "text/plain": [
       "{0.0: 0.9493572877126131, 1.0: 0.9460447069450455, 2.0: 0.9797282638278707}"
      ]
     },
     "execution_count": 210,
     "metadata": {},
     "output_type": "execute_result"
    }
   ],
   "source": [
    "roc_auc_dict = roc_auc_score_multiclass(y_test, y_pred)\n",
    "roc_auc_dict"
   ]
  },
  {
   "cell_type": "code",
   "execution_count": 211,
   "metadata": {},
   "outputs": [],
   "source": [
    "import seaborn as sns"
   ]
  },
  {
   "cell_type": "code",
   "execution_count": 212,
   "metadata": {},
   "outputs": [
    {
     "data": {
      "image/png": "[encoded data removed]",
      "text/plain": [
       "<Figure size 1800x800 with 2 Axes>"
      ]
     },
     "metadata": {},
     "output_type": "display_data"
    }
   ],
   "source": [
    "plt.figure(figsize = (18,8))\n",
    "sns.heatmap(metrics.confusion_matrix(y_test, y_pred), annot = True, xticklabels = y_test.unique(), yticklabels = y_test.unique(), cmap = 'summer')\n",
    "plt.xlabel('Predicted Labels')\n",
    "plt.ylabel('True Labels')\n",
    "plt.show()"
   ]
  },
  {
   "cell_type": "code",
   "execution_count": 213,
   "metadata": {},
   "outputs": [
    {
     "data": {
      "text/plain": [
       "array([1., 0., 2.], dtype=float32)"
      ]
     },
     "execution_count": 213,
     "metadata": {},
     "output_type": "execute_result"
    }
   ],
   "source": [
    "y_test.unique()"
   ]
  },
  {
   "cell_type": "code",
   "execution_count": 214,
   "metadata": {},
   "outputs": [
    {
     "data": {
      "text/plain": [
       "array([[26059,  2608,    81],\n",
       "       [  329, 24379,  1171],\n",
       "       [  123,   449, 31883]], dtype=int64)"
      ]
     },
     "execution_count": 214,
     "metadata": {},
     "output_type": "execute_result"
    }
   ],
   "source": [
    "metrics.confusion_matrix(y_test, y_pred)"
   ]
  }
 ],
 "metadata": {
  "kernelspec": {
   "display_name": "Python 3",
   "language": "python",
   "name": "python3"
  },
  "language_info": {
   "codemirror_mode": {
    "name": "ipython",
    "version": 3
   },
   "file_extension": ".py",
   "mimetype": "text/x-python",
   "name": "python",
   "nbconvert_exporter": "python",
   "pygments_lexer": "ipython3",
   "version": "3.10.2"
  },
  "orig_nbformat": 4
 },
 "nbformat": 4,
 "nbformat_minor": 2
}
